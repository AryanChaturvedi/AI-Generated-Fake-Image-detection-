{
  "nbformat": 4,
  "nbformat_minor": 0,
  "metadata": {
    "colab": {
      "provenance": [],
      "gpuType": "T4",
      "collapsed_sections": [
        "XGURd7nUzWMw",
        "dn08otPT_Zol",
        "QIL0sRFJfU5N"
      ],
      "include_colab_link": true
    },
    "kernelspec": {
      "name": "python3",
      "display_name": "Python 3"
    },
    "language_info": {
      "name": "python"
    },
    "accelerator": "GPU",
    "widgets": {
      "application/vnd.jupyter.widget-state+json": {
        "a535e752604248c08ba6c1ea72652f9e": {
          "model_module": "@jupyter-widgets/controls",
          "model_name": "HBoxModel",
          "model_module_version": "1.5.0",
          "state": {
            "_dom_classes": [],
            "_model_module": "@jupyter-widgets/controls",
            "_model_module_version": "1.5.0",
            "_model_name": "HBoxModel",
            "_view_count": null,
            "_view_module": "@jupyter-widgets/controls",
            "_view_module_version": "1.5.0",
            "_view_name": "HBoxView",
            "box_style": "",
            "children": [
              "IPY_MODEL_cc429e88ee414704b9c6e505df28d5a7",
              "IPY_MODEL_3e475c0903524c93b711c06ec877217a",
              "IPY_MODEL_728cbad8fe6243318086483f892f9507"
            ],
            "layout": "IPY_MODEL_f12c981a0e7a4c009664323271eddf3d"
          }
        },
        "cc429e88ee414704b9c6e505df28d5a7": {
          "model_module": "@jupyter-widgets/controls",
          "model_name": "HTMLModel",
          "model_module_version": "1.5.0",
          "state": {
            "_dom_classes": [],
            "_model_module": "@jupyter-widgets/controls",
            "_model_module_version": "1.5.0",
            "_model_name": "HTMLModel",
            "_view_count": null,
            "_view_module": "@jupyter-widgets/controls",
            "_view_module_version": "1.5.0",
            "_view_name": "HTMLView",
            "description": "",
            "description_tooltip": null,
            "layout": "IPY_MODEL_59c6f409ab344eedb9dd8b0abbbddf51",
            "placeholder": "​",
            "style": "IPY_MODEL_40e027f68f44400188dc863331c63f18",
            "value": "Downloading (…)lve/main/config.json: 100%"
          }
        },
        "3e475c0903524c93b711c06ec877217a": {
          "model_module": "@jupyter-widgets/controls",
          "model_name": "FloatProgressModel",
          "model_module_version": "1.5.0",
          "state": {
            "_dom_classes": [],
            "_model_module": "@jupyter-widgets/controls",
            "_model_module_version": "1.5.0",
            "_model_name": "FloatProgressModel",
            "_view_count": null,
            "_view_module": "@jupyter-widgets/controls",
            "_view_module_version": "1.5.0",
            "_view_name": "ProgressView",
            "bar_style": "success",
            "description": "",
            "description_tooltip": null,
            "layout": "IPY_MODEL_783d905d815c4309a59a359227ecca1d",
            "max": 502,
            "min": 0,
            "orientation": "horizontal",
            "style": "IPY_MODEL_318035a286e449c6ad33eedb9bce948b",
            "value": 502
          }
        },
        "728cbad8fe6243318086483f892f9507": {
          "model_module": "@jupyter-widgets/controls",
          "model_name": "HTMLModel",
          "model_module_version": "1.5.0",
          "state": {
            "_dom_classes": [],
            "_model_module": "@jupyter-widgets/controls",
            "_model_module_version": "1.5.0",
            "_model_name": "HTMLModel",
            "_view_count": null,
            "_view_module": "@jupyter-widgets/controls",
            "_view_module_version": "1.5.0",
            "_view_name": "HTMLView",
            "description": "",
            "description_tooltip": null,
            "layout": "IPY_MODEL_6fff100304de4066a396ea374c503e3b",
            "placeholder": "​",
            "style": "IPY_MODEL_91f1948dee4b4d748faea9a570449d29",
            "value": " 502/502 [00:00&lt;00:00, 15.1kB/s]"
          }
        },
        "f12c981a0e7a4c009664323271eddf3d": {
          "model_module": "@jupyter-widgets/base",
          "model_name": "LayoutModel",
          "model_module_version": "1.2.0",
          "state": {
            "_model_module": "@jupyter-widgets/base",
            "_model_module_version": "1.2.0",
            "_model_name": "LayoutModel",
            "_view_count": null,
            "_view_module": "@jupyter-widgets/base",
            "_view_module_version": "1.2.0",
            "_view_name": "LayoutView",
            "align_content": null,
            "align_items": null,
            "align_self": null,
            "border": null,
            "bottom": null,
            "display": null,
            "flex": null,
            "flex_flow": null,
            "grid_area": null,
            "grid_auto_columns": null,
            "grid_auto_flow": null,
            "grid_auto_rows": null,
            "grid_column": null,
            "grid_gap": null,
            "grid_row": null,
            "grid_template_areas": null,
            "grid_template_columns": null,
            "grid_template_rows": null,
            "height": null,
            "justify_content": null,
            "justify_items": null,
            "left": null,
            "margin": null,
            "max_height": null,
            "max_width": null,
            "min_height": null,
            "min_width": null,
            "object_fit": null,
            "object_position": null,
            "order": null,
            "overflow": null,
            "overflow_x": null,
            "overflow_y": null,
            "padding": null,
            "right": null,
            "top": null,
            "visibility": null,
            "width": null
          }
        },
        "59c6f409ab344eedb9dd8b0abbbddf51": {
          "model_module": "@jupyter-widgets/base",
          "model_name": "LayoutModel",
          "model_module_version": "1.2.0",
          "state": {
            "_model_module": "@jupyter-widgets/base",
            "_model_module_version": "1.2.0",
            "_model_name": "LayoutModel",
            "_view_count": null,
            "_view_module": "@jupyter-widgets/base",
            "_view_module_version": "1.2.0",
            "_view_name": "LayoutView",
            "align_content": null,
            "align_items": null,
            "align_self": null,
            "border": null,
            "bottom": null,
            "display": null,
            "flex": null,
            "flex_flow": null,
            "grid_area": null,
            "grid_auto_columns": null,
            "grid_auto_flow": null,
            "grid_auto_rows": null,
            "grid_column": null,
            "grid_gap": null,
            "grid_row": null,
            "grid_template_areas": null,
            "grid_template_columns": null,
            "grid_template_rows": null,
            "height": null,
            "justify_content": null,
            "justify_items": null,
            "left": null,
            "margin": null,
            "max_height": null,
            "max_width": null,
            "min_height": null,
            "min_width": null,
            "object_fit": null,
            "object_position": null,
            "order": null,
            "overflow": null,
            "overflow_x": null,
            "overflow_y": null,
            "padding": null,
            "right": null,
            "top": null,
            "visibility": null,
            "width": null
          }
        },
        "40e027f68f44400188dc863331c63f18": {
          "model_module": "@jupyter-widgets/controls",
          "model_name": "DescriptionStyleModel",
          "model_module_version": "1.5.0",
          "state": {
            "_model_module": "@jupyter-widgets/controls",
            "_model_module_version": "1.5.0",
            "_model_name": "DescriptionStyleModel",
            "_view_count": null,
            "_view_module": "@jupyter-widgets/base",
            "_view_module_version": "1.2.0",
            "_view_name": "StyleView",
            "description_width": ""
          }
        },
        "783d905d815c4309a59a359227ecca1d": {
          "model_module": "@jupyter-widgets/base",
          "model_name": "LayoutModel",
          "model_module_version": "1.2.0",
          "state": {
            "_model_module": "@jupyter-widgets/base",
            "_model_module_version": "1.2.0",
            "_model_name": "LayoutModel",
            "_view_count": null,
            "_view_module": "@jupyter-widgets/base",
            "_view_module_version": "1.2.0",
            "_view_name": "LayoutView",
            "align_content": null,
            "align_items": null,
            "align_self": null,
            "border": null,
            "bottom": null,
            "display": null,
            "flex": null,
            "flex_flow": null,
            "grid_area": null,
            "grid_auto_columns": null,
            "grid_auto_flow": null,
            "grid_auto_rows": null,
            "grid_column": null,
            "grid_gap": null,
            "grid_row": null,
            "grid_template_areas": null,
            "grid_template_columns": null,
            "grid_template_rows": null,
            "height": null,
            "justify_content": null,
            "justify_items": null,
            "left": null,
            "margin": null,
            "max_height": null,
            "max_width": null,
            "min_height": null,
            "min_width": null,
            "object_fit": null,
            "object_position": null,
            "order": null,
            "overflow": null,
            "overflow_x": null,
            "overflow_y": null,
            "padding": null,
            "right": null,
            "top": null,
            "visibility": null,
            "width": null
          }
        },
        "318035a286e449c6ad33eedb9bce948b": {
          "model_module": "@jupyter-widgets/controls",
          "model_name": "ProgressStyleModel",
          "model_module_version": "1.5.0",
          "state": {
            "_model_module": "@jupyter-widgets/controls",
            "_model_module_version": "1.5.0",
            "_model_name": "ProgressStyleModel",
            "_view_count": null,
            "_view_module": "@jupyter-widgets/base",
            "_view_module_version": "1.2.0",
            "_view_name": "StyleView",
            "bar_color": null,
            "description_width": ""
          }
        },
        "6fff100304de4066a396ea374c503e3b": {
          "model_module": "@jupyter-widgets/base",
          "model_name": "LayoutModel",
          "model_module_version": "1.2.0",
          "state": {
            "_model_module": "@jupyter-widgets/base",
            "_model_module_version": "1.2.0",
            "_model_name": "LayoutModel",
            "_view_count": null,
            "_view_module": "@jupyter-widgets/base",
            "_view_module_version": "1.2.0",
            "_view_name": "LayoutView",
            "align_content": null,
            "align_items": null,
            "align_self": null,
            "border": null,
            "bottom": null,
            "display": null,
            "flex": null,
            "flex_flow": null,
            "grid_area": null,
            "grid_auto_columns": null,
            "grid_auto_flow": null,
            "grid_auto_rows": null,
            "grid_column": null,
            "grid_gap": null,
            "grid_row": null,
            "grid_template_areas": null,
            "grid_template_columns": null,
            "grid_template_rows": null,
            "height": null,
            "justify_content": null,
            "justify_items": null,
            "left": null,
            "margin": null,
            "max_height": null,
            "max_width": null,
            "min_height": null,
            "min_width": null,
            "object_fit": null,
            "object_position": null,
            "order": null,
            "overflow": null,
            "overflow_x": null,
            "overflow_y": null,
            "padding": null,
            "right": null,
            "top": null,
            "visibility": null,
            "width": null
          }
        },
        "91f1948dee4b4d748faea9a570449d29": {
          "model_module": "@jupyter-widgets/controls",
          "model_name": "DescriptionStyleModel",
          "model_module_version": "1.5.0",
          "state": {
            "_model_module": "@jupyter-widgets/controls",
            "_model_module_version": "1.5.0",
            "_model_name": "DescriptionStyleModel",
            "_view_count": null,
            "_view_module": "@jupyter-widgets/base",
            "_view_module_version": "1.2.0",
            "_view_name": "StyleView",
            "description_width": ""
          }
        },
        "1f0d0ed72b4f4c6db00cba2627b6f3e8": {
          "model_module": "@jupyter-widgets/controls",
          "model_name": "HBoxModel",
          "model_module_version": "1.5.0",
          "state": {
            "_dom_classes": [],
            "_model_module": "@jupyter-widgets/controls",
            "_model_module_version": "1.5.0",
            "_model_name": "HBoxModel",
            "_view_count": null,
            "_view_module": "@jupyter-widgets/controls",
            "_view_module_version": "1.5.0",
            "_view_name": "HBoxView",
            "box_style": "",
            "children": [
              "IPY_MODEL_cac051e1b0b24c9b9e95b5fccf140879",
              "IPY_MODEL_aa8cb784f8fb45fda5899e247195c2f6",
              "IPY_MODEL_4969d7b429c6416cbb78470f6daa793f"
            ],
            "layout": "IPY_MODEL_f5a30b106dff4262be103c1a0ea2a8e9"
          }
        },
        "cac051e1b0b24c9b9e95b5fccf140879": {
          "model_module": "@jupyter-widgets/controls",
          "model_name": "HTMLModel",
          "model_module_version": "1.5.0",
          "state": {
            "_dom_classes": [],
            "_model_module": "@jupyter-widgets/controls",
            "_model_module_version": "1.5.0",
            "_model_name": "HTMLModel",
            "_view_count": null,
            "_view_module": "@jupyter-widgets/controls",
            "_view_module_version": "1.5.0",
            "_view_name": "HTMLView",
            "description": "",
            "description_tooltip": null,
            "layout": "IPY_MODEL_85335a66934e41d3b40141b9eaf6a1a8",
            "placeholder": "​",
            "style": "IPY_MODEL_d8ed265219dd44adb8f97fb2ceef9886",
            "value": "Downloading pytorch_model.bin: 100%"
          }
        },
        "aa8cb784f8fb45fda5899e247195c2f6": {
          "model_module": "@jupyter-widgets/controls",
          "model_name": "FloatProgressModel",
          "model_module_version": "1.5.0",
          "state": {
            "_dom_classes": [],
            "_model_module": "@jupyter-widgets/controls",
            "_model_module_version": "1.5.0",
            "_model_name": "FloatProgressModel",
            "_view_count": null,
            "_view_module": "@jupyter-widgets/controls",
            "_view_module_version": "1.5.0",
            "_view_name": "ProgressView",
            "bar_style": "success",
            "description": "",
            "description_tooltip": null,
            "layout": "IPY_MODEL_c0b502eaad374f53b7425711f7fea0e2",
            "max": 345636463,
            "min": 0,
            "orientation": "horizontal",
            "style": "IPY_MODEL_dd8e88cef3de4ee0a1cb322c4855f97e",
            "value": 345636463
          }
        },
        "4969d7b429c6416cbb78470f6daa793f": {
          "model_module": "@jupyter-widgets/controls",
          "model_name": "HTMLModel",
          "model_module_version": "1.5.0",
          "state": {
            "_dom_classes": [],
            "_model_module": "@jupyter-widgets/controls",
            "_model_module_version": "1.5.0",
            "_model_name": "HTMLModel",
            "_view_count": null,
            "_view_module": "@jupyter-widgets/controls",
            "_view_module_version": "1.5.0",
            "_view_name": "HTMLView",
            "description": "",
            "description_tooltip": null,
            "layout": "IPY_MODEL_f084d14f0f2c4988bbd2301216786c96",
            "placeholder": "​",
            "style": "IPY_MODEL_b6699d7ceeb34aebb2658d76101cc7ba",
            "value": " 346M/346M [00:06&lt;00:00, 74.3MB/s]"
          }
        },
        "f5a30b106dff4262be103c1a0ea2a8e9": {
          "model_module": "@jupyter-widgets/base",
          "model_name": "LayoutModel",
          "model_module_version": "1.2.0",
          "state": {
            "_model_module": "@jupyter-widgets/base",
            "_model_module_version": "1.2.0",
            "_model_name": "LayoutModel",
            "_view_count": null,
            "_view_module": "@jupyter-widgets/base",
            "_view_module_version": "1.2.0",
            "_view_name": "LayoutView",
            "align_content": null,
            "align_items": null,
            "align_self": null,
            "border": null,
            "bottom": null,
            "display": null,
            "flex": null,
            "flex_flow": null,
            "grid_area": null,
            "grid_auto_columns": null,
            "grid_auto_flow": null,
            "grid_auto_rows": null,
            "grid_column": null,
            "grid_gap": null,
            "grid_row": null,
            "grid_template_areas": null,
            "grid_template_columns": null,
            "grid_template_rows": null,
            "height": null,
            "justify_content": null,
            "justify_items": null,
            "left": null,
            "margin": null,
            "max_height": null,
            "max_width": null,
            "min_height": null,
            "min_width": null,
            "object_fit": null,
            "object_position": null,
            "order": null,
            "overflow": null,
            "overflow_x": null,
            "overflow_y": null,
            "padding": null,
            "right": null,
            "top": null,
            "visibility": null,
            "width": null
          }
        },
        "85335a66934e41d3b40141b9eaf6a1a8": {
          "model_module": "@jupyter-widgets/base",
          "model_name": "LayoutModel",
          "model_module_version": "1.2.0",
          "state": {
            "_model_module": "@jupyter-widgets/base",
            "_model_module_version": "1.2.0",
            "_model_name": "LayoutModel",
            "_view_count": null,
            "_view_module": "@jupyter-widgets/base",
            "_view_module_version": "1.2.0",
            "_view_name": "LayoutView",
            "align_content": null,
            "align_items": null,
            "align_self": null,
            "border": null,
            "bottom": null,
            "display": null,
            "flex": null,
            "flex_flow": null,
            "grid_area": null,
            "grid_auto_columns": null,
            "grid_auto_flow": null,
            "grid_auto_rows": null,
            "grid_column": null,
            "grid_gap": null,
            "grid_row": null,
            "grid_template_areas": null,
            "grid_template_columns": null,
            "grid_template_rows": null,
            "height": null,
            "justify_content": null,
            "justify_items": null,
            "left": null,
            "margin": null,
            "max_height": null,
            "max_width": null,
            "min_height": null,
            "min_width": null,
            "object_fit": null,
            "object_position": null,
            "order": null,
            "overflow": null,
            "overflow_x": null,
            "overflow_y": null,
            "padding": null,
            "right": null,
            "top": null,
            "visibility": null,
            "width": null
          }
        },
        "d8ed265219dd44adb8f97fb2ceef9886": {
          "model_module": "@jupyter-widgets/controls",
          "model_name": "DescriptionStyleModel",
          "model_module_version": "1.5.0",
          "state": {
            "_model_module": "@jupyter-widgets/controls",
            "_model_module_version": "1.5.0",
            "_model_name": "DescriptionStyleModel",
            "_view_count": null,
            "_view_module": "@jupyter-widgets/base",
            "_view_module_version": "1.2.0",
            "_view_name": "StyleView",
            "description_width": ""
          }
        },
        "c0b502eaad374f53b7425711f7fea0e2": {
          "model_module": "@jupyter-widgets/base",
          "model_name": "LayoutModel",
          "model_module_version": "1.2.0",
          "state": {
            "_model_module": "@jupyter-widgets/base",
            "_model_module_version": "1.2.0",
            "_model_name": "LayoutModel",
            "_view_count": null,
            "_view_module": "@jupyter-widgets/base",
            "_view_module_version": "1.2.0",
            "_view_name": "LayoutView",
            "align_content": null,
            "align_items": null,
            "align_self": null,
            "border": null,
            "bottom": null,
            "display": null,
            "flex": null,
            "flex_flow": null,
            "grid_area": null,
            "grid_auto_columns": null,
            "grid_auto_flow": null,
            "grid_auto_rows": null,
            "grid_column": null,
            "grid_gap": null,
            "grid_row": null,
            "grid_template_areas": null,
            "grid_template_columns": null,
            "grid_template_rows": null,
            "height": null,
            "justify_content": null,
            "justify_items": null,
            "left": null,
            "margin": null,
            "max_height": null,
            "max_width": null,
            "min_height": null,
            "min_width": null,
            "object_fit": null,
            "object_position": null,
            "order": null,
            "overflow": null,
            "overflow_x": null,
            "overflow_y": null,
            "padding": null,
            "right": null,
            "top": null,
            "visibility": null,
            "width": null
          }
        },
        "dd8e88cef3de4ee0a1cb322c4855f97e": {
          "model_module": "@jupyter-widgets/controls",
          "model_name": "ProgressStyleModel",
          "model_module_version": "1.5.0",
          "state": {
            "_model_module": "@jupyter-widgets/controls",
            "_model_module_version": "1.5.0",
            "_model_name": "ProgressStyleModel",
            "_view_count": null,
            "_view_module": "@jupyter-widgets/base",
            "_view_module_version": "1.2.0",
            "_view_name": "StyleView",
            "bar_color": null,
            "description_width": ""
          }
        },
        "f084d14f0f2c4988bbd2301216786c96": {
          "model_module": "@jupyter-widgets/base",
          "model_name": "LayoutModel",
          "model_module_version": "1.2.0",
          "state": {
            "_model_module": "@jupyter-widgets/base",
            "_model_module_version": "1.2.0",
            "_model_name": "LayoutModel",
            "_view_count": null,
            "_view_module": "@jupyter-widgets/base",
            "_view_module_version": "1.2.0",
            "_view_name": "LayoutView",
            "align_content": null,
            "align_items": null,
            "align_self": null,
            "border": null,
            "bottom": null,
            "display": null,
            "flex": null,
            "flex_flow": null,
            "grid_area": null,
            "grid_auto_columns": null,
            "grid_auto_flow": null,
            "grid_auto_rows": null,
            "grid_column": null,
            "grid_gap": null,
            "grid_row": null,
            "grid_template_areas": null,
            "grid_template_columns": null,
            "grid_template_rows": null,
            "height": null,
            "justify_content": null,
            "justify_items": null,
            "left": null,
            "margin": null,
            "max_height": null,
            "max_width": null,
            "min_height": null,
            "min_width": null,
            "object_fit": null,
            "object_position": null,
            "order": null,
            "overflow": null,
            "overflow_x": null,
            "overflow_y": null,
            "padding": null,
            "right": null,
            "top": null,
            "visibility": null,
            "width": null
          }
        },
        "b6699d7ceeb34aebb2658d76101cc7ba": {
          "model_module": "@jupyter-widgets/controls",
          "model_name": "DescriptionStyleModel",
          "model_module_version": "1.5.0",
          "state": {
            "_model_module": "@jupyter-widgets/controls",
            "_model_module_version": "1.5.0",
            "_model_name": "DescriptionStyleModel",
            "_view_count": null,
            "_view_module": "@jupyter-widgets/base",
            "_view_module_version": "1.2.0",
            "_view_name": "StyleView",
            "description_width": ""
          }
        }
      }
    }
  },
  "cells": [
    {
      "cell_type": "markdown",
      "metadata": {
        "id": "view-in-github",
        "colab_type": "text"
      },
      "source": [
        "<a href=\"https://colab.research.google.com/github/AryanChaturvedi/AI-Generated-Fake-Image-detection-/blob/main/Fake_Image.ipynb\" target=\"_parent\"><img src=\"https://colab.research.google.com/assets/colab-badge.svg\" alt=\"Open In Colab\"/></a>"
      ]
    },
    {
      "cell_type": "code",
      "execution_count": 1,
      "metadata": {
        "id": "TQ-wz7y3bim5"
      },
      "outputs": [],
      "source": [
        "import os\n",
        "import pandas as pd\n",
        "import numpy as np\n",
        "import matplotlib.pyplot as plt"
      ]
    },
    {
      "cell_type": "code",
      "source": [
        "os.chdir( '/content/drive/MyDrive/Opencv/GAN/Fake_Image' )"
      ],
      "metadata": {
        "id": "h9blWmwwcBKk"
      },
      "execution_count": 4,
      "outputs": []
    },
    {
      "cell_type": "code",
      "source": [
        "df = pd.read_csv('train.csv');\n",
        "image = df.iloc[:, 1:]\n",
        "label = df.iloc[:,0]"
      ],
      "metadata": {
        "id": "HhlQ-l4DcPg4"
      },
      "execution_count": null,
      "outputs": []
    },
    {
      "cell_type": "code",
      "source": [
        "image.shape"
      ],
      "metadata": {
        "colab": {
          "base_uri": "https://localhost:8080/"
        },
        "id": "3ouMWYHadc8n",
        "outputId": "45beeaea-42aa-404a-b9e0-7232c270a7b8"
      },
      "execution_count": null,
      "outputs": [
        {
          "output_type": "execute_result",
          "data": {
            "text/plain": [
              "(5250, 1200)"
            ]
          },
          "metadata": {},
          "execution_count": 91
        }
      ]
    },
    {
      "cell_type": "code",
      "source": [
        "# Reshape the DataFrame into a 3D NumPy array\n",
        "image_array = np.array(image).reshape(5250, 20, 20, 3)"
      ],
      "metadata": {
        "id": "AxGQ-l4FeXgz"
      },
      "execution_count": null,
      "outputs": []
    },
    {
      "cell_type": "code",
      "source": [
        "# Take the first image from the array (you can change the index if needed)\n",
        "img = image_array[42]\n",
        "\n",
        "# Display the image\n",
        "plt.imshow(img)\n",
        "plt.axis('off')\n",
        "plt.show()\n"
      ],
      "metadata": {
        "colab": {
          "base_uri": "https://localhost:8080/",
          "height": 443
        },
        "id": "nvEPgUOahjHP",
        "outputId": "1e5e27dc-43a2-4fd9-fd8e-899850f331ea"
      },
      "execution_count": null,
      "outputs": [
        {
          "output_type": "stream",
          "name": "stderr",
          "text": [
            "WARNING:matplotlib.image:Clipping input data to the valid range for imshow with RGB data ([0..1] for floats or [0..255] for integers).\n"
          ]
        },
        {
          "output_type": "display_data",
          "data": {
            "text/plain": [
              "<Figure size 640x480 with 1 Axes>"
            ],
            "image/png": "[encoded data removed]"
          },
          "metadata": {}
        }
      ]
    },
    {
      "cell_type": "code",
      "source": [
        "df.describe()"
      ],
      "metadata": {
        "colab": {
          "base_uri": "https://localhost:8080/",
          "height": 393
        },
        "id": "TbpXJD-VhjGH",
        "outputId": "efe56de9-58dc-49d1-e637-57071324180f"
      },
      "execution_count": null,
      "outputs": [
        {
          "output_type": "execute_result",
          "data": {
            "text/plain": [
              "            labels          f_0          f_1          f_2          f_3  \\\n",
              "count  5250.000000  5250.000000  5250.000000  5250.000000  5250.000000   \n",
              "mean      0.266667     0.385453     0.086769     0.317084     0.400414   \n",
              "std       0.442259     0.929075     0.898979     0.969380     0.954504   \n",
              "min       0.000000    -3.462941    -3.605773    -4.078232    -3.344323   \n",
              "25%       0.000000    -0.286854    -0.470281    -0.379984    -0.290078   \n",
              "50%       0.000000     0.598422     0.071867     0.518698     0.653512   \n",
              "75%       1.000000     1.108212     0.609769     1.085552     1.135854   \n",
              "max       1.000000     3.439295     3.581171     3.991985     3.900672   \n",
              "\n",
              "               f_4          f_5          f_6          f_7          f_8  ...  \\\n",
              "count  5250.000000  5250.000000  5250.000000  5250.000000  5250.000000  ...   \n",
              "mean      0.093063     0.173532    -0.174072    -0.074659    -0.135957  ...   \n",
              "std       0.968625     0.895351     1.001566     0.906168     0.972163  ...   \n",
              "min      -3.613712    -3.319666    -3.627701    -3.528635    -4.503662  ...   \n",
              "25%      -0.644337    -0.392807    -0.980593    -0.677763    -0.914803  ...   \n",
              "50%       0.141549     0.237502    -0.180645    -0.159631    -0.108885  ...   \n",
              "75%       0.950304     0.747622     0.621790     0.450741     0.627055  ...   \n",
              "max       3.488667     3.193113     3.062756     3.877255     3.017000  ...   \n",
              "\n",
              "            f_1190       f_1191       f_1192       f_1193       f_1194  \\\n",
              "count  5250.000000  5250.000000  5250.000000  5250.000000  5250.000000   \n",
              "mean      0.417874    -0.405061     0.091497    -0.276132    -0.133123   \n",
              "std       0.941354     1.054231     0.958970     0.989820     1.042036   \n",
              "min      -3.684054    -3.385650    -3.162629    -3.022903    -3.698249   \n",
              "25%      -0.254776    -1.265848    -0.594289    -1.054700    -1.009256   \n",
              "50%       0.648944    -0.489479     0.192821    -0.301887    -0.139792   \n",
              "75%       1.131876     0.366639     0.779280     0.409370     0.740059   \n",
              "max       4.077517     3.550058     3.790435     3.907684     3.777545   \n",
              "\n",
              "            f_1195       f_1196       f_1197       f_1198       f_1199  \n",
              "count  5250.000000  5250.000000  5250.000000  5250.000000  5250.000000  \n",
              "mean     -0.156475    -0.096026     0.372260    -0.222551     0.006532  \n",
              "std       1.019384     0.913732     0.944429     0.973640     0.897006  \n",
              "min      -4.791005    -3.356509    -3.933762    -4.174752    -3.624981  \n",
              "25%      -0.833164    -0.684567    -0.301254    -1.010557    -0.564394  \n",
              "50%      -0.197277    -0.156927     0.612440    -0.241763    -0.008017  \n",
              "75%       0.493094     0.434146     1.109200     0.508097     0.552090  \n",
              "max       3.269490     3.526907     3.542401     3.642856     3.718869  \n",
              "\n",
              "[8 rows x 1201 columns]"
            ],
            "text/html": [
              "\n",
              "  <div id=\"df-2ee867a0-4b69-42d9-9e35-c318ced140f0\">\n",
              "    <div class=\"colab-df-container\">\n",
              "      <div>\n",
              "<style scoped>\n",
              "    .dataframe tbody tr th:only-of-type {\n",
              "        vertical-align: middle;\n",
              "    }\n",
              "\n",
              "    .dataframe tbody tr th {\n",
              "        vertical-align: top;\n",
              "    }\n",
              "\n",
              "    .dataframe thead th {\n",
              "        text-align: right;\n",
              "    }\n",
              "</style>\n",
              "<table border=\"1\" class=\"dataframe\">\n",
              "  <thead>\n",
              "    <tr style=\"text-align: right;\">\n",
              "      <th></th>\n",
              "      <th>labels</th>\n",
              "      <th>f_0</th>\n",
              "      <th>f_1</th>\n",
              "      <th>f_2</th>\n",
              "      <th>f_3</th>\n",
              "      <th>f_4</th>\n",
              "      <th>f_5</th>\n",
              "      <th>f_6</th>\n",
              "      <th>f_7</th>\n",
              "      <th>f_8</th>\n",
              "      <th>...</th>\n",
              "      <th>f_1190</th>\n",
              "      <th>f_1191</th>\n",
              "      <th>f_1192</th>\n",
              "      <th>f_1193</th>\n",
              "      <th>f_1194</th>\n",
              "      <th>f_1195</th>\n",
              "      <th>f_1196</th>\n",
              "      <th>f_1197</th>\n",
              "      <th>f_1198</th>\n",
              "      <th>f_1199</th>\n",
              "    </tr>\n",
              "  </thead>\n",
              "  <tbody>\n",
              "    <tr>\n",
              "      <th>count</th>\n",
              "      <td>5250.000000</td>\n",
              "      <td>5250.000000</td>\n",
              "      <td>5250.000000</td>\n",
              "      <td>5250.000000</td>\n",
              "      <td>5250.000000</td>\n",
              "      <td>5250.000000</td>\n",
              "      <td>5250.000000</td>\n",
              "      <td>5250.000000</td>\n",
              "      <td>5250.000000</td>\n",
              "      <td>5250.000000</td>\n",
              "      <td>...</td>\n",
              "      <td>5250.000000</td>\n",
              "      <td>5250.000000</td>\n",
              "      <td>5250.000000</td>\n",
              "      <td>5250.000000</td>\n",
              "      <td>5250.000000</td>\n",
              "      <td>5250.000000</td>\n",
              "      <td>5250.000000</td>\n",
              "      <td>5250.000000</td>\n",
              "      <td>5250.000000</td>\n",
              "      <td>5250.000000</td>\n",
              "    </tr>\n",
              "    <tr>\n",
              "      <th>mean</th>\n",
              "      <td>0.266667</td>\n",
              "      <td>0.385453</td>\n",
              "      <td>0.086769</td>\n",
              "      <td>0.317084</td>\n",
              "      <td>0.400414</td>\n",
              "      <td>0.093063</td>\n",
              "      <td>0.173532</td>\n",
              "      <td>-0.174072</td>\n",
              "      <td>-0.074659</td>\n",
              "      <td>-0.135957</td>\n",
              "      <td>...</td>\n",
              "      <td>0.417874</td>\n",
              "      <td>-0.405061</td>\n",
              "      <td>0.091497</td>\n",
              "      <td>-0.276132</td>\n",
              "      <td>-0.133123</td>\n",
              "      <td>-0.156475</td>\n",
              "      <td>-0.096026</td>\n",
              "      <td>0.372260</td>\n",
              "      <td>-0.222551</td>\n",
              "      <td>0.006532</td>\n",
              "    </tr>\n",
              "    <tr>\n",
              "      <th>std</th>\n",
              "      <td>0.442259</td>\n",
              "      <td>0.929075</td>\n",
              "      <td>0.898979</td>\n",
              "      <td>0.969380</td>\n",
              "      <td>0.954504</td>\n",
              "      <td>0.968625</td>\n",
              "      <td>0.895351</td>\n",
              "      <td>1.001566</td>\n",
              "      <td>0.906168</td>\n",
              "      <td>0.972163</td>\n",
              "      <td>...</td>\n",
              "      <td>0.941354</td>\n",
              "      <td>1.054231</td>\n",
              "      <td>0.958970</td>\n",
              "      <td>0.989820</td>\n",
              "      <td>1.042036</td>\n",
              "      <td>1.019384</td>\n",
              "      <td>0.913732</td>\n",
              "      <td>0.944429</td>\n",
              "      <td>0.973640</td>\n",
              "      <td>0.897006</td>\n",
              "    </tr>\n",
              "    <tr>\n",
              "      <th>min</th>\n",
              "      <td>0.000000</td>\n",
              "      <td>-3.462941</td>\n",
              "      <td>-3.605773</td>\n",
              "      <td>-4.078232</td>\n",
              "      <td>-3.344323</td>\n",
              "      <td>-3.613712</td>\n",
              "      <td>-3.319666</td>\n",
              "      <td>-3.627701</td>\n",
              "      <td>-3.528635</td>\n",
              "      <td>-4.503662</td>\n",
              "      <td>...</td>\n",
              "      <td>-3.684054</td>\n",
              "      <td>-3.385650</td>\n",
              "      <td>-3.162629</td>\n",
              "      <td>-3.022903</td>\n",
              "      <td>-3.698249</td>\n",
              "      <td>-4.791005</td>\n",
              "      <td>-3.356509</td>\n",
              "      <td>-3.933762</td>\n",
              "      <td>-4.174752</td>\n",
              "      <td>-3.624981</td>\n",
              "    </tr>\n",
              "    <tr>\n",
              "      <th>25%</th>\n",
              "      <td>0.000000</td>\n",
              "      <td>-0.286854</td>\n",
              "      <td>-0.470281</td>\n",
              "      <td>-0.379984</td>\n",
              "      <td>-0.290078</td>\n",
              "      <td>-0.644337</td>\n",
              "      <td>-0.392807</td>\n",
              "      <td>-0.980593</td>\n",
              "      <td>-0.677763</td>\n",
              "      <td>-0.914803</td>\n",
              "      <td>...</td>\n",
              "      <td>-0.254776</td>\n",
              "      <td>-1.265848</td>\n",
              "      <td>-0.594289</td>\n",
              "      <td>-1.054700</td>\n",
              "      <td>-1.009256</td>\n",
              "      <td>-0.833164</td>\n",
              "      <td>-0.684567</td>\n",
              "      <td>-0.301254</td>\n",
              "      <td>-1.010557</td>\n",
              "      <td>-0.564394</td>\n",
              "    </tr>\n",
              "    <tr>\n",
              "      <th>50%</th>\n",
              "      <td>0.000000</td>\n",
              "      <td>0.598422</td>\n",
              "      <td>0.071867</td>\n",
              "      <td>0.518698</td>\n",
              "      <td>0.653512</td>\n",
              "      <td>0.141549</td>\n",
              "      <td>0.237502</td>\n",
              "      <td>-0.180645</td>\n",
              "      <td>-0.159631</td>\n",
              "      <td>-0.108885</td>\n",
              "      <td>...</td>\n",
              "      <td>0.648944</td>\n",
              "      <td>-0.489479</td>\n",
              "      <td>0.192821</td>\n",
              "      <td>-0.301887</td>\n",
              "      <td>-0.139792</td>\n",
              "      <td>-0.197277</td>\n",
              "      <td>-0.156927</td>\n",
              "      <td>0.612440</td>\n",
              "      <td>-0.241763</td>\n",
              "      <td>-0.008017</td>\n",
              "    </tr>\n",
              "    <tr>\n",
              "      <th>75%</th>\n",
              "      <td>1.000000</td>\n",
              "      <td>1.108212</td>\n",
              "      <td>0.609769</td>\n",
              "      <td>1.085552</td>\n",
              "      <td>1.135854</td>\n",
              "      <td>0.950304</td>\n",
              "      <td>0.747622</td>\n",
              "      <td>0.621790</td>\n",
              "      <td>0.450741</td>\n",
              "      <td>0.627055</td>\n",
              "      <td>...</td>\n",
              "      <td>1.131876</td>\n",
              "      <td>0.366639</td>\n",
              "      <td>0.779280</td>\n",
              "      <td>0.409370</td>\n",
              "      <td>0.740059</td>\n",
              "      <td>0.493094</td>\n",
              "      <td>0.434146</td>\n",
              "      <td>1.109200</td>\n",
              "      <td>0.508097</td>\n",
              "      <td>0.552090</td>\n",
              "    </tr>\n",
              "    <tr>\n",
              "      <th>max</th>\n",
              "      <td>1.000000</td>\n",
              "      <td>3.439295</td>\n",
              "      <td>3.581171</td>\n",
              "      <td>3.991985</td>\n",
              "      <td>3.900672</td>\n",
              "      <td>3.488667</td>\n",
              "      <td>3.193113</td>\n",
              "      <td>3.062756</td>\n",
              "      <td>3.877255</td>\n",
              "      <td>3.017000</td>\n",
              "      <td>...</td>\n",
              "      <td>4.077517</td>\n",
              "      <td>3.550058</td>\n",
              "      <td>3.790435</td>\n",
              "      <td>3.907684</td>\n",
              "      <td>3.777545</td>\n",
              "      <td>3.269490</td>\n",
              "      <td>3.526907</td>\n",
              "      <td>3.542401</td>\n",
              "      <td>3.642856</td>\n",
              "      <td>3.718869</td>\n",
              "    </tr>\n",
              "  </tbody>\n",
              "</table>\n",
              "<p>8 rows × 1201 columns</p>\n",
              "</div>\n",
              "      <button class=\"colab-df-convert\" onclick=\"convertToInteractive('df-2ee867a0-4b69-42d9-9e35-c318ced140f0')\"\n",
              "              title=\"Convert this dataframe to an interactive table.\"\n",
              "              style=\"display:none;\">\n",
              "        \n",
              "  <svg xmlns=\"http://www.w3.org/2000/svg\" height=\"24px\"viewBox=\"0 0 24 24\"\n",
              "       width=\"24px\">\n",
              "    <path d=\"M0 0h24v24H0V0z\" fill=\"none\"/>\n",
              "    <path d=\"M18.56 5.44l.94 2.06.94-2.06 2.06-.94-2.06-.94-.94-2.06-.94 2.06-2.06.94zm-11 1L8.5 8.5l.94-2.06 2.06-.94-2.06-.94L8.5 2.5l-.94 2.06-2.06.94zm10 10l.94 2.06.94-2.06 2.06-.94-2.06-.94-.94-2.06-.94 2.06-2.06.94z\"/><path d=\"M17.41 7.96l-1.37-1.37c-.4-.4-.92-.59-1.43-.59-.52 0-1.04.2-1.43.59L10.3 9.45l-7.72 7.72c-.78.78-.78 2.05 0 2.83L4 21.41c.39.39.9.59 1.41.59.51 0 1.02-.2 1.41-.59l7.78-7.78 2.81-2.81c.8-.78.8-2.07 0-2.86zM5.41 20L4 18.59l7.72-7.72 1.47 1.35L5.41 20z\"/>\n",
              "  </svg>\n",
              "      </button>\n",
              "      \n",
              "  <style>\n",
              "    .colab-df-container {\n",
              "      display:flex;\n",
              "      flex-wrap:wrap;\n",
              "      gap: 12px;\n",
              "    }\n",
              "\n",
              "    .colab-df-convert {\n",
              "      background-color: #E8F0FE;\n",
              "      border: none;\n",
              "      border-radius: 50%;\n",
              "      cursor: pointer;\n",
              "      display: none;\n",
              "      fill: #1967D2;\n",
              "      height: 32px;\n",
              "      padding: 0 0 0 0;\n",
              "      width: 32px;\n",
              "    }\n",
              "\n",
              "    .colab-df-convert:hover {\n",
              "      background-color: #E2EBFA;\n",
              "      box-shadow: 0px 1px 2px rgba(60, 64, 67, 0.3), 0px 1px 3px 1px rgba(60, 64, 67, 0.15);\n",
              "      fill: #174EA6;\n",
              "    }\n",
              "\n",
              "    [theme=dark] .colab-df-convert {\n",
              "      background-color: #3B4455;\n",
              "      fill: #D2E3FC;\n",
              "    }\n",
              "\n",
              "    [theme=dark] .colab-df-convert:hover {\n",
              "      background-color: #434B5C;\n",
              "      box-shadow: 0px 1px 3px 1px rgba(0, 0, 0, 0.15);\n",
              "      filter: drop-shadow(0px 1px 2px rgba(0, 0, 0, 0.3));\n",
              "      fill: #FFFFFF;\n",
              "    }\n",
              "  </style>\n",
              "\n",
              "      <script>\n",
              "        const buttonEl =\n",
              "          document.querySelector('#df-2ee867a0-4b69-42d9-9e35-c318ced140f0 button.colab-df-convert');\n",
              "        buttonEl.style.display =\n",
              "          google.colab.kernel.accessAllowed ? 'block' : 'none';\n",
              "\n",
              "        async function convertToInteractive(key) {\n",
              "          const element = document.querySelector('#df-2ee867a0-4b69-42d9-9e35-c318ced140f0');\n",
              "          const dataTable =\n",
              "            await google.colab.kernel.invokeFunction('convertToInteractive',\n",
              "                                                     [key], {});\n",
              "          if (!dataTable) return;\n",
              "\n",
              "          const docLinkHtml = 'Like what you see? Visit the ' +\n",
              "            '<a target=\"_blank\" href=https://colab.research.google.com/notebooks/data_table.ipynb>data table notebook</a>'\n",
              "            + ' to learn more about interactive tables.';\n",
              "          element.innerHTML = '';\n",
              "          dataTable['output_type'] = 'display_data';\n",
              "          await google.colab.output.renderOutput(dataTable, element);\n",
              "          const docLink = document.createElement('div');\n",
              "          docLink.innerHTML = docLinkHtml;\n",
              "          element.appendChild(docLink);\n",
              "        }\n",
              "      </script>\n",
              "    </div>\n",
              "  </div>\n",
              "  "
            ]
          },
          "metadata": {},
          "execution_count": 94
        }
      ]
    },
    {
      "cell_type": "code",
      "source": [
        "import pandas as pd\n",
        "from sklearn.model_selection import train_test_split\n",
        "from sklearn.preprocessing import MinMaxScaler\n",
        "from sklearn.linear_model import LogisticRegression\n",
        "from sklearn.metrics import accuracy_score, precision_score, recall_score, f1_score"
      ],
      "metadata": {
        "id": "E_Pw1NGuhtmg"
      },
      "execution_count": null,
      "outputs": []
    },
    {
      "cell_type": "code",
      "source": [
        "# Preprocess the data by normalizing the features\n",
        "scaler = MinMaxScaler()\n",
        "X_normalized = scaler.fit_transform(image)"
      ],
      "metadata": {
        "id": "n23CHEp2ioY0"
      },
      "execution_count": null,
      "outputs": []
    },
    {
      "cell_type": "code",
      "source": [
        "# Split the data into training and testing sets\n",
        "X_train, X_test, y_train, y_test = train_test_split(X_normalized, label, test_size=0.2, random_state=42)\n"
      ],
      "metadata": {
        "id": "Ywfgcr1Nisq8"
      },
      "execution_count": null,
      "outputs": []
    },
    {
      "cell_type": "markdown",
      "source": [
        "#### RF feature **selection**"
      ],
      "metadata": {
        "id": "8wU3I2ogHHho"
      }
    },
    {
      "cell_type": "code",
      "source": [
        "from sklearn.ensemble import RandomForestRegressor\n",
        "from sklearn.feature_selection import SelectFromModel\n",
        "# create a random forest regressor\n",
        "reg = RandomForestRegressor(n_estimators=100, random_state=42)\n",
        "\n",
        "# fit the model to the data\n",
        "reg.fit(image, label)\n",
        "\n",
        "# create a feature selector object\n",
        "selector = SelectFromModel(reg, prefit=True, threshold='mean')\n",
        "\n",
        "# transform the data to select the important features\n",
        "X = selector.transform(image)"
      ],
      "metadata": {
        "colab": {
          "base_uri": "https://localhost:8080/"
        },
        "id": "_aeKt1NHEqax",
        "outputId": "08e53b83-9044-43c6-d9d4-a42226ad474c"
      },
      "execution_count": null,
      "outputs": [
        {
          "output_type": "stream",
          "name": "stderr",
          "text": [
            "/usr/local/lib/python3.10/dist-packages/sklearn/base.py:432: UserWarning: X has feature names, but SelectFromModel was fitted without feature names\n",
            "  warnings.warn(\n"
          ]
        }
      ]
    },
    {
      "cell_type": "code",
      "source": [
        "# Split the data into training and testing sets\n",
        "X_train, X_test, y_train, y_test = train_test_split(X, label, test_size=0.2, random_state=42)\n"
      ],
      "metadata": {
        "id": "bhyoVocfG-T5"
      },
      "execution_count": null,
      "outputs": []
    },
    {
      "cell_type": "code",
      "source": [
        "# # Split the data into training and testing sets\n",
        "# X_train, X_test, y_train, y_test = train_test_split(combine, lbl, test_size=0.2, random_state=42)\n"
      ],
      "metadata": {
        "id": "6g1PaZq0195u"
      },
      "execution_count": null,
      "outputs": []
    },
    {
      "cell_type": "markdown",
      "source": [
        "## ML Models"
      ],
      "metadata": {
        "id": "phY7RqoHn309"
      }
    },
    {
      "cell_type": "code",
      "source": [
        "from sklearn.linear_model import LogisticRegression\n",
        "from sklearn.tree import DecisionTreeClassifier\n",
        "from sklearn.svm import SVC\n",
        "from sklearn.neighbors import KNeighborsClassifier\n",
        "from sklearn.ensemble import RandomForestClassifier, ExtraTreesClassifier, AdaBoostClassifier, GradientBoostingClassifier\n",
        "from xgboost import XGBClassifier\n",
        "from lightgbm import LGBMClassifier"
      ],
      "metadata": {
        "id": "fPbc0bdclxPe"
      },
      "execution_count": null,
      "outputs": []
    },
    {
      "cell_type": "code",
      "source": [
        "from sklearn import neighbors\n",
        "# initialise with Default parameters\n",
        "seed = 42\n",
        "logistic = LogisticRegression()\n",
        "dt = DecisionTreeClassifier(random_state=seed)\n",
        "svm = SVC(random_state=seed)\n",
        "knn = KNeighborsClassifier(n_neighbors=8)\n",
        "rf = RandomForestClassifier(random_state=seed)\n",
        "et = ExtraTreesClassifier(random_state=seed)\n",
        "ada = AdaBoostClassifier(random_state=seed)\n",
        "gb = GradientBoostingClassifier(random_state=seed)\n",
        "xgb = XGBClassifier(random_state=seed)\n",
        "lgb = LGBMClassifier(random_state=seed)"
      ],
      "metadata": {
        "id": "GU2E4rrEoS4T"
      },
      "execution_count": null,
      "outputs": []
    },
    {
      "cell_type": "code",
      "source": [
        "def train_model(model):\n",
        "    model.fit(X_train, y_train)\n",
        "    y_pred = model.predict(X_test)\n",
        "    score = f1_score(y_test, y_pred, average='weighted')\n",
        "    print(model ,score )\n",
        "    return (model,score)"
      ],
      "metadata": {
        "id": "9E9xEA40olbL"
      },
      "execution_count": null,
      "outputs": []
    },
    {
      "cell_type": "code",
      "source": [
        "\n",
        "# Get accuracy from all models with Robust Scaling\n",
        "models = [ logistic,dt,svm,knn,rf,et,ada,gb,xgb,lgb]\n",
        "for model in models:\n",
        "  model, accuracy = train_model(model)"
      ],
      "metadata": {
        "colab": {
          "base_uri": "https://localhost:8080/"
        },
        "id": "uaWdKrropvKc",
        "outputId": "6c3c4f23-3fc7-42fe-9cd0-6cf7c63f54bc"
      },
      "execution_count": null,
      "outputs": [
        {
          "output_type": "stream",
          "name": "stderr",
          "text": [
            "/usr/local/lib/python3.10/dist-packages/sklearn/linear_model/_logistic.py:458: ConvergenceWarning: lbfgs failed to converge (status=1):\n",
            "STOP: TOTAL NO. of ITERATIONS REACHED LIMIT.\n",
            "\n",
            "Increase the number of iterations (max_iter) or scale the data as shown in:\n",
            "    https://scikit-learn.org/stable/modules/preprocessing.html\n",
            "Please also refer to the documentation for alternative solver options:\n",
            "    https://scikit-learn.org/stable/modules/linear_model.html#logistic-regression\n",
            "  n_iter_i = _check_optimize_result(\n"
          ]
        },
        {
          "output_type": "stream",
          "name": "stdout",
          "text": [
            "LogisticRegression() 0.8412591864950655\n",
            "DecisionTreeClassifier(random_state=42) 0.7780479489039873\n",
            "SVC(random_state=42) 0.840121910317171\n",
            "KNeighborsClassifier() 0.8804391430602092\n",
            "RandomForestClassifier(random_state=42) 0.8431585748084873\n",
            "ExtraTreesClassifier(random_state=42) 0.8420028290193221\n",
            "AdaBoostClassifier(random_state=42) 0.8489796698787122\n",
            "GradientBoostingClassifier(random_state=42) 0.8645903598520268\n",
            "XGBClassifier(base_score=None, booster=None, callbacks=None,\n",
            "              colsample_bylevel=None, colsample_bynode=None,\n",
            "              colsample_bytree=None, early_stopping_rounds=None,\n",
            "              enable_categorical=False, eval_metric=None, feature_types=None,\n",
            "              gamma=None, gpu_id=None, grow_policy=None, importance_type=None,\n",
            "              interaction_constraints=None, learning_rate=None, max_bin=None,\n",
            "              max_cat_threshold=None, max_cat_to_onehot=None,\n",
            "              max_delta_step=None, max_depth=None, max_leaves=None,\n",
            "              min_child_weight=None, missing=nan, monotone_constraints=None,\n",
            "              n_estimators=100, n_jobs=None, num_parallel_tree=None,\n",
            "              predictor=None, random_state=42, ...) 0.8643508063910316\n",
            "LGBMClassifier(random_state=42) 0.8624567032967034\n"
          ]
        }
      ]
    },
    {
      "cell_type": "markdown",
      "source": [
        "#### Ensemble Stack"
      ],
      "metadata": {
        "id": "6aIRa8nKKAS8"
      }
    },
    {
      "cell_type": "code",
      "source": [
        "from sklearn.ensemble import StackingClassifier\n",
        "\n",
        "# Define base models\n",
        "estimators = [('knn', knn),\n",
        "              ('LR',logistic),\n",
        "              ('dt', dt),\n",
        "              ('SVC',svm),\n",
        "              ('xgb', xgb),\n",
        "              ('rf', rf),\n",
        "              ('lgb',lgb)]\n",
        "\n",
        "# Define meta-model\n",
        "knn =  KNeighborsClassifier(n_neighbors=8)\n",
        "\n",
        "# Define stacking classifier\n",
        "clf = StackingClassifier(estimators=estimators, final_estimator=rf)\n",
        "\n",
        "# Fit the stacking regressor on the training data\n",
        "clf.fit(X_train, y_train)\n",
        "\n",
        "# Make predictions on the test data\n",
        "y_pred = clf.predict(X_test)\n",
        "\n",
        "f1 = f1_score(y_test, y_pred, average='weighted')\n",
        "print(\"F1-score:\", f1)"
      ],
      "metadata": {
        "colab": {
          "base_uri": "https://localhost:8080/"
        },
        "id": "jp0eCzsYC6Or",
        "outputId": "3ef54c24-c23a-4a85-d141-d96ae04a923f"
      },
      "execution_count": null,
      "outputs": [
        {
          "output_type": "stream",
          "name": "stderr",
          "text": [
            "/usr/local/lib/python3.10/dist-packages/sklearn/linear_model/_logistic.py:458: ConvergenceWarning: lbfgs failed to converge (status=1):\n",
            "STOP: TOTAL NO. of ITERATIONS REACHED LIMIT.\n",
            "\n",
            "Increase the number of iterations (max_iter) or scale the data as shown in:\n",
            "    https://scikit-learn.org/stable/modules/preprocessing.html\n",
            "Please also refer to the documentation for alternative solver options:\n",
            "    https://scikit-learn.org/stable/modules/linear_model.html#logistic-regression\n",
            "  n_iter_i = _check_optimize_result(\n",
            "/usr/local/lib/python3.10/dist-packages/sklearn/linear_model/_logistic.py:458: ConvergenceWarning: lbfgs failed to converge (status=1):\n",
            "STOP: TOTAL NO. of ITERATIONS REACHED LIMIT.\n",
            "\n",
            "Increase the number of iterations (max_iter) or scale the data as shown in:\n",
            "    https://scikit-learn.org/stable/modules/preprocessing.html\n",
            "Please also refer to the documentation for alternative solver options:\n",
            "    https://scikit-learn.org/stable/modules/linear_model.html#logistic-regression\n",
            "  n_iter_i = _check_optimize_result(\n",
            "/usr/local/lib/python3.10/dist-packages/sklearn/linear_model/_logistic.py:458: ConvergenceWarning: lbfgs failed to converge (status=1):\n",
            "STOP: TOTAL NO. of ITERATIONS REACHED LIMIT.\n",
            "\n",
            "Increase the number of iterations (max_iter) or scale the data as shown in:\n",
            "    https://scikit-learn.org/stable/modules/preprocessing.html\n",
            "Please also refer to the documentation for alternative solver options:\n",
            "    https://scikit-learn.org/stable/modules/linear_model.html#logistic-regression\n",
            "  n_iter_i = _check_optimize_result(\n",
            "/usr/local/lib/python3.10/dist-packages/sklearn/linear_model/_logistic.py:458: ConvergenceWarning: lbfgs failed to converge (status=1):\n",
            "STOP: TOTAL NO. of ITERATIONS REACHED LIMIT.\n",
            "\n",
            "Increase the number of iterations (max_iter) or scale the data as shown in:\n",
            "    https://scikit-learn.org/stable/modules/preprocessing.html\n",
            "Please also refer to the documentation for alternative solver options:\n",
            "    https://scikit-learn.org/stable/modules/linear_model.html#logistic-regression\n",
            "  n_iter_i = _check_optimize_result(\n",
            "/usr/local/lib/python3.10/dist-packages/sklearn/linear_model/_logistic.py:458: ConvergenceWarning: lbfgs failed to converge (status=1):\n",
            "STOP: TOTAL NO. of ITERATIONS REACHED LIMIT.\n",
            "\n",
            "Increase the number of iterations (max_iter) or scale the data as shown in:\n",
            "    https://scikit-learn.org/stable/modules/preprocessing.html\n",
            "Please also refer to the documentation for alternative solver options:\n",
            "    https://scikit-learn.org/stable/modules/linear_model.html#logistic-regression\n",
            "  n_iter_i = _check_optimize_result(\n",
            "/usr/local/lib/python3.10/dist-packages/sklearn/linear_model/_logistic.py:458: ConvergenceWarning: lbfgs failed to converge (status=1):\n",
            "STOP: TOTAL NO. of ITERATIONS REACHED LIMIT.\n",
            "\n",
            "Increase the number of iterations (max_iter) or scale the data as shown in:\n",
            "    https://scikit-learn.org/stable/modules/preprocessing.html\n",
            "Please also refer to the documentation for alternative solver options:\n",
            "    https://scikit-learn.org/stable/modules/linear_model.html#logistic-regression\n",
            "  n_iter_i = _check_optimize_result(\n"
          ]
        },
        {
          "output_type": "stream",
          "name": "stdout",
          "text": [
            "F1-score: 0.8720260905313407\n"
          ]
        }
      ]
    },
    {
      "cell_type": "code",
      "source": [],
      "metadata": {
        "id": "6sS8eN2W4diW"
      },
      "execution_count": null,
      "outputs": []
    },
    {
      "cell_type": "code",
      "source": [
        "y_pred = model.predict(test)"
      ],
      "metadata": {
        "id": "3GZCgvc43r5F"
      },
      "execution_count": null,
      "outputs": []
    },
    {
      "cell_type": "code",
      "source": [
        "y_pred"
      ],
      "metadata": {
        "colab": {
          "base_uri": "https://localhost:8080/"
        },
        "id": "0tg6nXkM7P2n",
        "outputId": "3e509b8a-347d-45e8-ac63-7f7c0ebf13d8"
      },
      "execution_count": null,
      "outputs": [
        {
          "output_type": "execute_result",
          "data": {
            "text/plain": [
              "array([1, 0, 0, ..., 1, 0, 0])"
            ]
          },
          "metadata": {},
          "execution_count": 106
        }
      ]
    },
    {
      "cell_type": "code",
      "source": [
        "# Create a DataFrame from the array\n",
        "df = pd.DataFrame(y_pred, columns=['labels'])\n",
        "\n",
        "# Add the 'id' column\n",
        "df['id'] = df.index + 1\n",
        "\n",
        "# Reorder the columns\n",
        "df = df[['id', 'labels']]\n",
        "\n",
        "# Save the DataFrame as a CSV file\n",
        "df.to_csv('data4.csv', index=False)"
      ],
      "metadata": {
        "id": "3ufbPX-L7xVz"
      },
      "execution_count": null,
      "outputs": []
    },
    {
      "cell_type": "markdown",
      "source": [
        "#### KNN Neighbors check"
      ],
      "metadata": {
        "id": "K3I9Q-lKHPNm"
      }
    },
    {
      "cell_type": "code",
      "source": [
        "from sklearn.neighbors import KNeighborsClassifier\n",
        "model = KNeighborsClassifier()"
      ],
      "metadata": {
        "id": "DwHBybEZBYf7"
      },
      "execution_count": null,
      "outputs": []
    },
    {
      "cell_type": "code",
      "source": [
        "model"
      ],
      "metadata": {
        "colab": {
          "base_uri": "https://localhost:8080/",
          "height": 74
        },
        "id": "LSVChyZhBYd-",
        "outputId": "0f3b5dcf-0d26-446a-cc88-716777847d3c"
      },
      "execution_count": null,
      "outputs": [
        {
          "output_type": "execute_result",
          "data": {
            "text/plain": [
              "KNeighborsClassifier()"
            ],
            "text/html": [
              "<style>#sk-container-id-1 {color: black;background-color: white;}#sk-container-id-1 pre{padding: 0;}#sk-container-id-1 div.sk-toggleable {background-color: white;}#sk-container-id-1 label.sk-toggleable__label {cursor: pointer;display: block;width: 100%;margin-bottom: 0;padding: 0.3em;box-sizing: border-box;text-align: center;}#sk-container-id-1 label.sk-toggleable__label-arrow:before {content: \"▸\";float: left;margin-right: 0.25em;color: #696969;}#sk-container-id-1 label.sk-toggleable__label-arrow:hover:before {color: black;}#sk-container-id-1 div.sk-estimator:hover label.sk-toggleable__label-arrow:before {color: black;}#sk-container-id-1 div.sk-toggleable__content {max-height: 0;max-width: 0;overflow: hidden;text-align: left;background-color: #f0f8ff;}#sk-container-id-1 div.sk-toggleable__content pre {margin: 0.2em;color: black;border-radius: 0.25em;background-color: #f0f8ff;}#sk-container-id-1 input.sk-toggleable__control:checked~div.sk-toggleable__content {max-height: 200px;max-width: 100%;overflow: auto;}#sk-container-id-1 input.sk-toggleable__control:checked~label.sk-toggleable__label-arrow:before {content: \"▾\";}#sk-container-id-1 div.sk-estimator input.sk-toggleable__control:checked~label.sk-toggleable__label {background-color: #d4ebff;}#sk-container-id-1 div.sk-label input.sk-toggleable__control:checked~label.sk-toggleable__label {background-color: #d4ebff;}#sk-container-id-1 input.sk-hidden--visually {border: 0;clip: rect(1px 1px 1px 1px);clip: rect(1px, 1px, 1px, 1px);height: 1px;margin: -1px;overflow: hidden;padding: 0;position: absolute;width: 1px;}#sk-container-id-1 div.sk-estimator {font-family: monospace;background-color: #f0f8ff;border: 1px dotted black;border-radius: 0.25em;box-sizing: border-box;margin-bottom: 0.5em;}#sk-container-id-1 div.sk-estimator:hover {background-color: #d4ebff;}#sk-container-id-1 div.sk-parallel-item::after {content: \"\";width: 100%;border-bottom: 1px solid gray;flex-grow: 1;}#sk-container-id-1 div.sk-label:hover label.sk-toggleable__label {background-color: #d4ebff;}#sk-container-id-1 div.sk-serial::before {content: \"\";position: absolute;border-left: 1px solid gray;box-sizing: border-box;top: 0;bottom: 0;left: 50%;z-index: 0;}#sk-container-id-1 div.sk-serial {display: flex;flex-direction: column;align-items: center;background-color: white;padding-right: 0.2em;padding-left: 0.2em;position: relative;}#sk-container-id-1 div.sk-item {position: relative;z-index: 1;}#sk-container-id-1 div.sk-parallel {display: flex;align-items: stretch;justify-content: center;background-color: white;position: relative;}#sk-container-id-1 div.sk-item::before, #sk-container-id-1 div.sk-parallel-item::before {content: \"\";position: absolute;border-left: 1px solid gray;box-sizing: border-box;top: 0;bottom: 0;left: 50%;z-index: -1;}#sk-container-id-1 div.sk-parallel-item {display: flex;flex-direction: column;z-index: 1;position: relative;background-color: white;}#sk-container-id-1 div.sk-parallel-item:first-child::after {align-self: flex-end;width: 50%;}#sk-container-id-1 div.sk-parallel-item:last-child::after {align-self: flex-start;width: 50%;}#sk-container-id-1 div.sk-parallel-item:only-child::after {width: 0;}#sk-container-id-1 div.sk-dashed-wrapped {border: 1px dashed gray;margin: 0 0.4em 0.5em 0.4em;box-sizing: border-box;padding-bottom: 0.4em;background-color: white;}#sk-container-id-1 div.sk-label label {font-family: monospace;font-weight: bold;display: inline-block;line-height: 1.2em;}#sk-container-id-1 div.sk-label-container {text-align: center;}#sk-container-id-1 div.sk-container {/* jupyter's `normalize.less` sets `[hidden] { display: none; }` but bootstrap.min.css set `[hidden] { display: none !important; }` so we also need the `!important` here to be able to override the default hidden behavior on the sphinx rendered scikit-learn.org. See: https://github.com/scikit-learn/scikit-learn/issues/21755 */display: inline-block !important;position: relative;}#sk-container-id-1 div.sk-text-repr-fallback {display: none;}</style><div id=\"sk-container-id-1\" class=\"sk-top-container\"><div class=\"sk-text-repr-fallback\"><pre>KNeighborsClassifier()</pre><b>In a Jupyter environment, please rerun this cell to show the HTML representation or trust the notebook. <br />On GitHub, the HTML representation is unable to render, please try loading this page with nbviewer.org.</b></div><div class=\"sk-container\" hidden><div class=\"sk-item\"><div class=\"sk-estimator sk-toggleable\"><input class=\"sk-toggleable__control sk-hidden--visually\" id=\"sk-estimator-id-1\" type=\"checkbox\" checked><label for=\"sk-estimator-id-1\" class=\"sk-toggleable__label sk-toggleable__label-arrow\">KNeighborsClassifier</label><div class=\"sk-toggleable__content\"><pre>KNeighborsClassifier()</pre></div></div></div></div></div>"
            ]
          },
          "metadata": {},
          "execution_count": 15
        }
      ]
    },
    {
      "cell_type": "code",
      "source": [],
      "metadata": {
        "id": "udncaFKgBmDB"
      },
      "execution_count": null,
      "outputs": []
    },
    {
      "cell_type": "code",
      "source": [
        "# calculating the accuracy of models with different values of k\n",
        "mean_acc = np.zeros(20)\n",
        "for i in range(1,21):\n",
        "    #Train Model and Predict\n",
        "    knn = KNeighborsClassifier(n_neighbors = i).fit(X_train,y_train)\n",
        "    y_pred= knn.predict(X_test)\n",
        "    mean_acc[i-1] = f1_score(y_test, y_pred, average='weighted')\n",
        "\n",
        "mean_acc"
      ],
      "metadata": {
        "colab": {
          "base_uri": "https://localhost:8080/"
        },
        "id": "Pv7BaouuBkNC",
        "outputId": "cd236185-26ab-41f6-e923-7b73d2ab2050"
      },
      "execution_count": null,
      "outputs": [
        {
          "output_type": "execute_result",
          "data": {
            "text/plain": [
              "array([0.84970601, 0.85861522, 0.85922938, 0.86967887, 0.86321099,\n",
              "       0.87211143, 0.87646797, 0.87825008, 0.87538338, 0.87070309,\n",
              "       0.8673436 , 0.87185742, 0.86887927, 0.86811787, 0.86789591,\n",
              "       0.86667619, 0.87236241, 0.86846914, 0.87249886, 0.87081026])"
            ]
          },
          "metadata": {},
          "execution_count": 16
        }
      ]
    },
    {
      "cell_type": "code",
      "source": [
        "loc = np.arange(1,21,step=1.0)\n",
        "plt.figure(figsize = (10, 6))\n",
        "plt.plot(range(1,21), mean_acc)\n",
        "plt.xticks(loc)\n",
        "plt.xlabel('Number of Neighbors ')\n",
        "plt.ylabel('Accuracy')\n",
        "plt.show()"
      ],
      "metadata": {
        "colab": {
          "base_uri": "https://localhost:8080/",
          "height": 410
        },
        "id": "RVd7pzvyB4Kz",
        "outputId": "daa2ff04-e2d3-4004-8afd-388d57893bc8"
      },
      "execution_count": null,
      "outputs": [
        {
          "output_type": "display_data",
          "data": {
            "text/plain": [
              "<Figure size 1000x600 with 1 Axes>"
            ],
            "image/png": "[encoded data removed]"
          },
          "metadata": {}
        }
      ]
    },
    {
      "cell_type": "markdown",
      "source": [
        "#### Grid search for KNN hyperparameter Tunning"
      ],
      "metadata": {
        "id": "ArZhJ1D6HT_S"
      }
    },
    {
      "cell_type": "code",
      "source": [
        "from sklearn.model_selection import GridSearchCV"
      ],
      "metadata": {
        "id": "HSVR4t7QCT-q"
      },
      "execution_count": null,
      "outputs": []
    },
    {
      "cell_type": "code",
      "source": [
        "grid_params = { 'n_neighbors' : [6,7,8,9,10],\n",
        "               'weights' : ['uniform','distance'],\n",
        "               'metric' : ['minkowski','euclidean','manhattan']}"
      ],
      "metadata": {
        "id": "BXzRGcs3CXCJ"
      },
      "execution_count": null,
      "outputs": []
    },
    {
      "cell_type": "code",
      "source": [
        "gs = GridSearchCV(KNeighborsClassifier(), grid_params, verbose = 1, cv=3, n_jobs = -1)"
      ],
      "metadata": {
        "id": "cwwlV7oUCXAU"
      },
      "execution_count": null,
      "outputs": []
    },
    {
      "cell_type": "code",
      "source": [
        "# fit the model on our train set\n",
        "g_res = gs.fit(X_train, y_train)"
      ],
      "metadata": {
        "colab": {
          "base_uri": "https://localhost:8080/"
        },
        "id": "cytmDuNGCmu9",
        "outputId": "dc5fbdaf-2855-4925-8480-ad957f726a62"
      },
      "execution_count": null,
      "outputs": [
        {
          "output_type": "stream",
          "name": "stdout",
          "text": [
            "Fitting 3 folds for each of 30 candidates, totalling 90 fits\n"
          ]
        }
      ]
    },
    {
      "cell_type": "code",
      "source": [
        "# find the best score\n",
        "g_res.best_score_"
      ],
      "metadata": {
        "colab": {
          "base_uri": "https://localhost:8080/"
        },
        "id": "6iDUo0BlCwHL",
        "outputId": "acecffbe-d7fc-40ed-ca8d-3cd3df717245"
      },
      "execution_count": null,
      "outputs": [
        {
          "output_type": "execute_result",
          "data": {
            "text/plain": [
              "0.876904761904762"
            ]
          },
          "metadata": {},
          "execution_count": 373
        }
      ]
    },
    {
      "cell_type": "code",
      "source": [
        "# get the hyperparameters with the best score\n",
        "g_res.best_params_"
      ],
      "metadata": {
        "colab": {
          "base_uri": "https://localhost:8080/"
        },
        "id": "Zc_HughnCmgn",
        "outputId": "5d7b3a7e-3bd2-4ac9-afe2-8eed41f5433e"
      },
      "execution_count": null,
      "outputs": [
        {
          "output_type": "execute_result",
          "data": {
            "text/plain": [
              "{'metric': 'manhattan', 'n_neighbors': 6, 'weights': 'uniform'}"
            ]
          },
          "metadata": {},
          "execution_count": 374
        }
      ]
    },
    {
      "cell_type": "code",
      "source": [],
      "metadata": {
        "id": "Ok25dtvXC6LT"
      },
      "execution_count": null,
      "outputs": []
    },
    {
      "cell_type": "code",
      "source": [],
      "metadata": {
        "id": "E_lwk4FrC6Hu"
      },
      "execution_count": null,
      "outputs": []
    },
    {
      "cell_type": "code",
      "source": [],
      "metadata": {
        "id": "NH-G1oWSC6E2"
      },
      "execution_count": null,
      "outputs": []
    },
    {
      "cell_type": "code",
      "source": [],
      "metadata": {
        "id": "oFnvvLvFC6CI"
      },
      "execution_count": null,
      "outputs": []
    },
    {
      "cell_type": "code",
      "source": [],
      "metadata": {
        "id": "hb5Q4SwzCmdK"
      },
      "execution_count": null,
      "outputs": []
    },
    {
      "cell_type": "code",
      "source": [
        "# Train a Logistic Regression model\n",
        "model = KNeighborsClassifier(n_neighbors=8)\n",
        "history = model.fit(X_train, y_train)"
      ],
      "metadata": {
        "id": "1Nu10ps2i-SO"
      },
      "execution_count": null,
      "outputs": []
    },
    {
      "cell_type": "code",
      "source": [
        "# Make predictions on the validation set\n",
        "y_pred = model.predict(X_test)"
      ],
      "metadata": {
        "id": "2Myqy-kCleoQ"
      },
      "execution_count": null,
      "outputs": []
    },
    {
      "cell_type": "code",
      "source": [
        "# Evaluate the model's performance\n",
        "accuracy = accuracy_score(y_test, y_pred)\n",
        "precision = precision_score(y_test, y_pred, average='weighted')\n",
        "recall = recall_score(y_test, y_pred, average='weighted')\n",
        "f1 = f1_score(y_test, y_pred, average='weighted')"
      ],
      "metadata": {
        "id": "8K6TuGn7lmNy"
      },
      "execution_count": null,
      "outputs": []
    },
    {
      "cell_type": "code",
      "source": [
        "# Print the evaluation metrics\n",
        "print(\"Accuracy:\", accuracy)\n",
        "print(\"Precision:\", precision)\n",
        "print(\"Recall:\", recall)\n",
        "print(\"F1-score:\", f1)"
      ],
      "metadata": {
        "colab": {
          "base_uri": "https://localhost:8080/"
        },
        "id": "20__btyyjERb",
        "outputId": "610d698a-29ae-43bf-c6b1-19b0949b31cc"
      },
      "execution_count": null,
      "outputs": [
        {
          "output_type": "stream",
          "name": "stdout",
          "text": [
            "Accuracy: 0.8866666666666667\n",
            "Precision: 0.8902859670824314\n",
            "Recall: 0.8866666666666667\n",
            "F1-score: 0.8782500801877408\n"
          ]
        }
      ]
    },
    {
      "cell_type": "code",
      "source": [],
      "metadata": {
        "id": "YSiVDF2DCT7K"
      },
      "execution_count": null,
      "outputs": []
    },
    {
      "cell_type": "code",
      "source": [],
      "metadata": {
        "id": "C-0hYHlyCTw6"
      },
      "execution_count": null,
      "outputs": []
    },
    {
      "cell_type": "code",
      "source": [
        "test = pd.read_csv('test.csv');"
      ],
      "metadata": {
        "id": "yUzjbvOwjlPN"
      },
      "execution_count": null,
      "outputs": []
    },
    {
      "cell_type": "code",
      "source": [
        "test = test.iloc[:,1:]"
      ],
      "metadata": {
        "id": "sHcLz3LS4sTj"
      },
      "execution_count": null,
      "outputs": []
    },
    {
      "cell_type": "code",
      "source": [
        "test = scaler.transform(test)"
      ],
      "metadata": {
        "id": "AGWhm3QTmjpb"
      },
      "execution_count": null,
      "outputs": []
    },
    {
      "cell_type": "markdown",
      "source": [
        "## MINIGoogleNet"
      ],
      "metadata": {
        "id": "dn08otPT_Zol"
      }
    },
    {
      "cell_type": "code",
      "source": [
        "df = pd.read_csv('train.csv');\n",
        "image = df.iloc[:, 1:]\n",
        "label = df.iloc[:,0]\n",
        "# Preprocess the data by normalizing the features\n",
        "scaler = MinMaxScaler()\n",
        "image = scaler.fit_transform(image)\n",
        "# Reshape the DataFrame into a 3D NumPy array\n",
        "image_array = np.array(image).reshape(5250, 20, 20, 3)"
      ],
      "metadata": {
        "id": "Fd5AExLWDMVM"
      },
      "execution_count": null,
      "outputs": []
    },
    {
      "cell_type": "code",
      "source": [
        "from sklearn.preprocessing import LabelBinarizer\n",
        "from keras.preprocessing.image import ImageDataGenerator\n",
        "from keras.callbacks import LearningRateScheduler\n",
        "from keras.optimizers import SGD"
      ],
      "metadata": {
        "id": "NZQiuBhXAjKk"
      },
      "execution_count": null,
      "outputs": []
    },
    {
      "cell_type": "code",
      "source": [
        "#! pip install import-ipynb"
      ],
      "metadata": {
        "id": "x0dii89o_cen"
      },
      "execution_count": null,
      "outputs": []
    },
    {
      "cell_type": "code",
      "source": [
        "import import_ipynb\n",
        "import Model as md"
      ],
      "metadata": {
        "id": "FhUkZjto_5fI"
      },
      "execution_count": null,
      "outputs": []
    },
    {
      "cell_type": "code",
      "source": [
        "# define the total number of epochs to train for along with the # initial learning rate\n",
        "NUM_EPOCHS = 50\n",
        "INIT_LR = 0.001"
      ],
      "metadata": {
        "id": "BD-3WgUc_9wt"
      },
      "execution_count": null,
      "outputs": []
    },
    {
      "cell_type": "code",
      "source": [
        "def poly_decay(epoch):\n",
        "  # initialize the maximum number of epochs, base learning rate,\n",
        "  # and power of the polynomial\n",
        "\n",
        "  maxEpochs = NUM_EPOCHS\n",
        "  baseLR = INIT_LR\n",
        "  power = 1.0\n",
        "\n",
        "  # compute the new learning rate based on polynomial decay\n",
        "  alpha = baseLR * (1 - (epoch / float(maxEpochs))) ** power\n",
        "  # return the new learning rate\n",
        "  return alpha"
      ],
      "metadata": {
        "id": "aC_YXgEdAJwS"
      },
      "execution_count": null,
      "outputs": []
    },
    {
      "cell_type": "code",
      "source": [
        "from tensorflow.keras.layers import Input, Conv2D, MaxPooling2D, concatenate, AveragePooling2D, Flatten, Dense\n",
        "from tensorflow.keras.models import Model\n",
        "\n",
        "def mini_googlenet(input_shape=(20, 20, 3), num_classes=2):\n",
        "    # Input layer\n",
        "    inputs = Input(shape=input_shape)\n",
        "\n",
        "    # Stage 1\n",
        "    conv1 = Conv2D(96, (3, 3), padding='same', activation='relu')(inputs)\n",
        "    conv2 = Conv2D(96, (3, 3), padding='same', activation='relu')(conv1)\n",
        "    conv3 = Conv2D(96, (3, 3), padding='same', activation='relu')(conv2)\n",
        "\n",
        "    # Stage 2\n",
        "    incept1 = concatenate([conv1, conv3])\n",
        "    conv4 = Conv2D(96, (1, 1), activation='relu')(incept1)\n",
        "    conv5 = Conv2D(96, (3, 3), padding='same', activation='relu')(conv4)\n",
        "\n",
        "    # Stage 3\n",
        "    incept2 = concatenate([conv1, conv5])\n",
        "    pool1 = MaxPooling2D(pool_size=(2, 2))(incept2)\n",
        "\n",
        "    # Stage 4\n",
        "    conv6 = Conv2D(192, (3, 3), padding='same', activation='relu')(pool1)\n",
        "\n",
        "    # Stage 5\n",
        "    incept3 = concatenate([conv6, pool1])\n",
        "    conv7 = Conv2D(192, (1, 1), activation='relu')(incept3)\n",
        "    conv8 = Conv2D(192, (3, 3), padding='same', activation='relu')(conv7)\n",
        "\n",
        "    # Stage 6\n",
        "    incept4 = concatenate([conv6, conv8])\n",
        "    pool2 = MaxPooling2D(pool_size=(2, 2))(incept4)\n",
        "\n",
        "    # Stage 7\n",
        "    conv9 = Conv2D(192, (3, 3), padding='same', activation='relu')(pool2)\n",
        "\n",
        "    # Stage 8\n",
        "    incept5 = concatenate([conv9, pool2])\n",
        "    conv10 = Conv2D(192, (1, 1), activation='relu')(incept5)\n",
        "    conv11 = Conv2D(192, (3, 3), padding='same', activation='relu')(conv10)\n",
        "\n",
        "    # Stage 9\n",
        "    incept6 = concatenate([conv9, conv11])\n",
        "    pool3 = AveragePooling2D(pool_size=(2, 2))(incept6)\n",
        "\n",
        "    # Flatten and fully-connected layers\n",
        "    flatten = Flatten()(pool3)\n",
        "    dense1 = Dense(256, activation='relu')(flatten)\n",
        "    dense2 = Dense(num_classes, activation='softmax')(dense1)\n",
        "\n",
        "    # Create the model\n",
        "    model = Model(inputs=inputs, outputs=dense2)\n",
        "\n",
        "    return model\n"
      ],
      "metadata": {
        "id": "R2AKjKyEAz5Z"
      },
      "execution_count": null,
      "outputs": []
    },
    {
      "cell_type": "code",
      "source": [
        "opt = SGD(lr=INIT_LR, momentum=0.9)\n",
        "model = mini_googlenet(input_shape=(20, 20, 3), num_classes=2)\n",
        "model.compile(loss=\"categorical_crossentropy\", optimizer=opt,\n",
        "              metrics=[\"accuracy\"])"
      ],
      "metadata": {
        "colab": {
          "base_uri": "https://localhost:8080/"
        },
        "id": "d5SPYzztAO3I",
        "outputId": "e4c53c25-fc1a-4128-c369-fe957d2b65c3"
      },
      "execution_count": null,
      "outputs": [
        {
          "output_type": "stream",
          "name": "stderr",
          "text": [
            "/usr/local/lib/python3.10/dist-packages/keras/optimizers/legacy/gradient_descent.py:114: UserWarning: The `lr` argument is deprecated, use `learning_rate` instead.\n",
            "  super().__init__(name, **kwargs)\n"
          ]
        }
      ]
    },
    {
      "cell_type": "code",
      "source": [
        "# Early stoping\n",
        "import tensorflow as tf\n",
        "earlystop = tf.keras.callbacks.EarlyStopping(\n",
        "                monitor='val_loss',\n",
        "                min_delta=0.00001,\n",
        "                patience= 10,\n",
        "                verbose=0,\n",
        "                mode='auto',\n",
        "                baseline=None,\n",
        "                restore_best_weights=False,\n",
        "\n",
        ")"
      ],
      "metadata": {
        "id": "xWef2EUmAn3P"
      },
      "execution_count": null,
      "outputs": []
    },
    {
      "cell_type": "code",
      "source": [
        "callbacks = [LearningRateScheduler(poly_decay),earlystop]"
      ],
      "metadata": {
        "id": "K8hGwfBdChIe"
      },
      "execution_count": null,
      "outputs": []
    },
    {
      "cell_type": "code",
      "source": [
        "# construct the image generator for data augmentation\n",
        "aug = ImageDataGenerator(width_shift_range=0.1,\n",
        "                         height_shift_range=0.1,\n",
        "                         horizontal_flip=True,\n",
        "                         fill_mode=\"nearest\")"
      ],
      "metadata": {
        "id": "tU2WS42qTQ6y"
      },
      "execution_count": null,
      "outputs": []
    },
    {
      "cell_type": "code",
      "source": [
        "# Split the data into training and validation sets\n",
        "trainX,testX, trainY,  testY = train_test_split(image_array, label, test_size=0.2, random_state=42)\n"
      ],
      "metadata": {
        "id": "cHM9rxhlDCnj"
      },
      "execution_count": null,
      "outputs": []
    },
    {
      "cell_type": "code",
      "source": [
        "from keras.utils import to_categorical\n",
        "\n",
        "# Convert labels to one-hot encoded format\n",
        "trainY = to_categorical(trainY)\n",
        "testY = to_categorical(testY)"
      ],
      "metadata": {
        "id": "3bMnjuCZFXRb"
      },
      "execution_count": null,
      "outputs": []
    },
    {
      "cell_type": "code",
      "source": [
        "# train the network\n",
        "H = model.fit_generator(aug.flow(trainX, trainY, batch_size=64),\n",
        "                    validation_data=(testX, testY),\n",
        "                    steps_per_epoch=len(trainX) // 64,\n",
        "                    epochs=NUM_EPOCHS,\n",
        "                    callbacks=callbacks,\n",
        "                    verbose=1\n",
        "                    )"
      ],
      "metadata": {
        "colab": {
          "base_uri": "https://localhost:8080/"
        },
        "id": "mO1hkMp8CjsJ",
        "outputId": "2faf6011-601f-445f-bfc0-1f8655cbad5a"
      },
      "execution_count": null,
      "outputs": [
        {
          "output_type": "stream",
          "name": "stdout",
          "text": [
            "Epoch 1/50\n"
          ]
        },
        {
          "output_type": "stream",
          "name": "stderr",
          "text": [
            "<ipython-input-173-4b4cb5337fd2>:2: UserWarning: `Model.fit_generator` is deprecated and will be removed in a future version. Please use `Model.fit`, which supports generators.\n",
            "  H = model.fit_generator(aug.flow(trainX, trainY, batch_size=64),\n"
          ]
        },
        {
          "output_type": "stream",
          "name": "stdout",
          "text": [
            "65/65 [==============================] - 4s 46ms/step - loss: 0.6206 - accuracy: 0.6828 - val_loss: 0.5695 - val_accuracy: 0.7438 - lr: 0.0010\n",
            "Epoch 2/50\n",
            "65/65 [==============================] - 3s 47ms/step - loss: 0.5825 - accuracy: 0.7307 - val_loss: 0.5691 - val_accuracy: 0.7438 - lr: 9.8000e-04\n",
            "Epoch 3/50\n",
            "65/65 [==============================] - 2s 36ms/step - loss: 0.5829 - accuracy: 0.7304 - val_loss: 0.5690 - val_accuracy: 0.7438 - lr: 9.6000e-04\n",
            "Epoch 4/50\n",
            "65/65 [==============================] - 2s 34ms/step - loss: 0.5842 - accuracy: 0.7290 - val_loss: 0.5692 - val_accuracy: 0.7438 - lr: 9.4000e-04\n",
            "Epoch 5/50\n",
            "65/65 [==============================] - 2s 36ms/step - loss: 0.5822 - accuracy: 0.7314 - val_loss: 0.5695 - val_accuracy: 0.7438 - lr: 9.2000e-04\n",
            "Epoch 6/50\n",
            "65/65 [==============================] - 2s 38ms/step - loss: 0.5820 - accuracy: 0.7311 - val_loss: 0.5688 - val_accuracy: 0.7438 - lr: 9.0000e-04\n",
            "Epoch 7/50\n",
            "65/65 [==============================] - 4s 58ms/step - loss: 0.5825 - accuracy: 0.7309 - val_loss: 0.5688 - val_accuracy: 0.7438 - lr: 8.8000e-04\n",
            "Epoch 8/50\n",
            "65/65 [==============================] - 3s 38ms/step - loss: 0.5810 - accuracy: 0.7319 - val_loss: 0.5690 - val_accuracy: 0.7438 - lr: 8.6000e-04\n",
            "Epoch 9/50\n",
            "65/65 [==============================] - 2s 36ms/step - loss: 0.5839 - accuracy: 0.7294 - val_loss: 0.5688 - val_accuracy: 0.7438 - lr: 8.4000e-04\n",
            "Epoch 10/50\n",
            "65/65 [==============================] - 2s 35ms/step - loss: 0.5823 - accuracy: 0.7309 - val_loss: 0.5688 - val_accuracy: 0.7438 - lr: 8.2000e-04\n",
            "Epoch 11/50\n",
            "65/65 [==============================] - 3s 45ms/step - loss: 0.5810 - accuracy: 0.7324 - val_loss: 0.5689 - val_accuracy: 0.7438 - lr: 8.0000e-04\n",
            "Epoch 12/50\n",
            "65/65 [==============================] - 2s 36ms/step - loss: 0.5826 - accuracy: 0.7304 - val_loss: 0.5687 - val_accuracy: 0.7438 - lr: 7.8000e-04\n",
            "Epoch 13/50\n",
            "65/65 [==============================] - 2s 36ms/step - loss: 0.5813 - accuracy: 0.7316 - val_loss: 0.5688 - val_accuracy: 0.7438 - lr: 7.6000e-04\n",
            "Epoch 14/50\n",
            "65/65 [==============================] - 2s 33ms/step - loss: 0.5831 - accuracy: 0.7299 - val_loss: 0.5686 - val_accuracy: 0.7438 - lr: 7.4000e-04\n",
            "Epoch 15/50\n",
            "65/65 [==============================] - 2s 37ms/step - loss: 0.5807 - accuracy: 0.7321 - val_loss: 0.5686 - val_accuracy: 0.7438 - lr: 7.2000e-04\n",
            "Epoch 16/50\n",
            "65/65 [==============================] - 3s 51ms/step - loss: 0.5818 - accuracy: 0.7309 - val_loss: 0.5686 - val_accuracy: 0.7438 - lr: 7.0000e-04\n",
            "Epoch 17/50\n",
            "65/65 [==============================] - 2s 34ms/step - loss: 0.5823 - accuracy: 0.7307 - val_loss: 0.5687 - val_accuracy: 0.7438 - lr: 6.8000e-04\n",
            "Epoch 18/50\n",
            "65/65 [==============================] - 2s 36ms/step - loss: 0.5821 - accuracy: 0.7307 - val_loss: 0.5686 - val_accuracy: 0.7438 - lr: 6.6000e-04\n",
            "Epoch 19/50\n",
            "65/65 [==============================] - 2s 34ms/step - loss: 0.5829 - accuracy: 0.7299 - val_loss: 0.5686 - val_accuracy: 0.7438 - lr: 6.4000e-04\n",
            "Epoch 20/50\n",
            "65/65 [==============================] - 2s 35ms/step - loss: 0.5811 - accuracy: 0.7314 - val_loss: 0.5686 - val_accuracy: 0.7438 - lr: 6.2000e-04\n",
            "Epoch 21/50\n",
            "65/65 [==============================] - 3s 47ms/step - loss: 0.5834 - accuracy: 0.7297 - val_loss: 0.5688 - val_accuracy: 0.7438 - lr: 6.0000e-04\n",
            "Epoch 22/50\n",
            "65/65 [==============================] - 3s 42ms/step - loss: 0.5824 - accuracy: 0.7304 - val_loss: 0.5685 - val_accuracy: 0.7438 - lr: 5.8000e-04\n",
            "Epoch 23/50\n",
            "65/65 [==============================] - 2s 37ms/step - loss: 0.5818 - accuracy: 0.7309 - val_loss: 0.5685 - val_accuracy: 0.7438 - lr: 5.6000e-04\n",
            "Epoch 24/50\n",
            "65/65 [==============================] - 2s 34ms/step - loss: 0.5816 - accuracy: 0.7311 - val_loss: 0.5684 - val_accuracy: 0.7438 - lr: 5.4000e-04\n",
            "Epoch 25/50\n",
            "65/65 [==============================] - 2s 36ms/step - loss: 0.5818 - accuracy: 0.7311 - val_loss: 0.5684 - val_accuracy: 0.7438 - lr: 5.2000e-04\n",
            "Epoch 26/50\n",
            "65/65 [==============================] - 3s 41ms/step - loss: 0.5831 - accuracy: 0.7294 - val_loss: 0.5684 - val_accuracy: 0.7438 - lr: 5.0000e-04\n",
            "Epoch 27/50\n",
            "65/65 [==============================] - 2s 34ms/step - loss: 0.5813 - accuracy: 0.7314 - val_loss: 0.5684 - val_accuracy: 0.7438 - lr: 4.8000e-04\n",
            "Epoch 28/50\n",
            "65/65 [==============================] - 2s 36ms/step - loss: 0.5826 - accuracy: 0.7302 - val_loss: 0.5684 - val_accuracy: 0.7438 - lr: 4.6000e-04\n",
            "Epoch 29/50\n",
            "65/65 [==============================] - 2s 36ms/step - loss: 0.5823 - accuracy: 0.7304 - val_loss: 0.5684 - val_accuracy: 0.7438 - lr: 4.4000e-04\n",
            "Epoch 30/50\n",
            "65/65 [==============================] - 2s 35ms/step - loss: 0.5826 - accuracy: 0.7302 - val_loss: 0.5683 - val_accuracy: 0.7438 - lr: 4.2000e-04\n",
            "Epoch 31/50\n",
            "65/65 [==============================] - 3s 51ms/step - loss: 0.5798 - accuracy: 0.7328 - val_loss: 0.5683 - val_accuracy: 0.7438 - lr: 4.0000e-04\n",
            "Epoch 32/50\n",
            "65/65 [==============================] - 2s 35ms/step - loss: 0.5809 - accuracy: 0.7319 - val_loss: 0.5683 - val_accuracy: 0.7438 - lr: 3.8000e-04\n",
            "Epoch 33/50\n",
            "65/65 [==============================] - 2s 33ms/step - loss: 0.5811 - accuracy: 0.7316 - val_loss: 0.5683 - val_accuracy: 0.7438 - lr: 3.6000e-04\n",
            "Epoch 34/50\n",
            "65/65 [==============================] - 2s 34ms/step - loss: 0.5820 - accuracy: 0.7307 - val_loss: 0.5683 - val_accuracy: 0.7438 - lr: 3.4000e-04\n",
            "Epoch 35/50\n",
            "65/65 [==============================] - 2s 36ms/step - loss: 0.5816 - accuracy: 0.7309 - val_loss: 0.5683 - val_accuracy: 0.7438 - lr: 3.2000e-04\n",
            "Epoch 36/50\n",
            "65/65 [==============================] - 3s 49ms/step - loss: 0.5822 - accuracy: 0.7304 - val_loss: 0.5683 - val_accuracy: 0.7438 - lr: 3.0000e-04\n",
            "Epoch 37/50\n",
            "65/65 [==============================] - 3s 38ms/step - loss: 0.5831 - accuracy: 0.7297 - val_loss: 0.5683 - val_accuracy: 0.7438 - lr: 2.8000e-04\n",
            "Epoch 38/50\n",
            "65/65 [==============================] - 2s 33ms/step - loss: 0.5827 - accuracy: 0.7297 - val_loss: 0.5683 - val_accuracy: 0.7438 - lr: 2.6000e-04\n",
            "Epoch 39/50\n",
            "65/65 [==============================] - 2s 35ms/step - loss: 0.5821 - accuracy: 0.7307 - val_loss: 0.5683 - val_accuracy: 0.7438 - lr: 2.4000e-04\n",
            "Epoch 40/50\n",
            "65/65 [==============================] - 2s 36ms/step - loss: 0.5824 - accuracy: 0.7302 - val_loss: 0.5683 - val_accuracy: 0.7438 - lr: 2.2000e-04\n",
            "Epoch 41/50\n",
            "65/65 [==============================] - 3s 42ms/step - loss: 0.5829 - accuracy: 0.7299 - val_loss: 0.5682 - val_accuracy: 0.7438 - lr: 2.0000e-04\n",
            "Epoch 42/50\n",
            "65/65 [==============================] - 3s 47ms/step - loss: 0.5820 - accuracy: 0.7304 - val_loss: 0.5682 - val_accuracy: 0.7438 - lr: 1.8000e-04\n",
            "Epoch 43/50\n",
            "65/65 [==============================] - 2s 33ms/step - loss: 0.5836 - accuracy: 0.7290 - val_loss: 0.5683 - val_accuracy: 0.7438 - lr: 1.6000e-04\n",
            "Epoch 44/50\n",
            "65/65 [==============================] - 2s 35ms/step - loss: 0.5822 - accuracy: 0.7304 - val_loss: 0.5682 - val_accuracy: 0.7438 - lr: 1.4000e-04\n",
            "Epoch 45/50\n",
            "65/65 [==============================] - 2s 35ms/step - loss: 0.5834 - accuracy: 0.7290 - val_loss: 0.5682 - val_accuracy: 0.7438 - lr: 1.2000e-04\n",
            "Epoch 46/50\n",
            "65/65 [==============================] - 2s 35ms/step - loss: 0.5828 - accuracy: 0.7297 - val_loss: 0.5682 - val_accuracy: 0.7438 - lr: 1.0000e-04\n",
            "Epoch 47/50\n",
            "65/65 [==============================] - 3s 50ms/step - loss: 0.5824 - accuracy: 0.7302 - val_loss: 0.5682 - val_accuracy: 0.7438 - lr: 8.0000e-05\n",
            "Epoch 48/50\n",
            "65/65 [==============================] - 2s 36ms/step - loss: 0.5817 - accuracy: 0.7307 - val_loss: 0.5682 - val_accuracy: 0.7438 - lr: 6.0000e-05\n",
            "Epoch 49/50\n",
            "65/65 [==============================] - 2s 33ms/step - loss: 0.5802 - accuracy: 0.7321 - val_loss: 0.5682 - val_accuracy: 0.7438 - lr: 4.0000e-05\n",
            "Epoch 50/50\n",
            "65/65 [==============================] - 2s 36ms/step - loss: 0.5809 - accuracy: 0.7319 - val_loss: 0.5682 - val_accuracy: 0.7438 - lr: 2.0000e-05\n"
          ]
        }
      ]
    },
    {
      "cell_type": "code",
      "source": [
        "from sklearn.metrics import classification_report, f1_score\n",
        "\n",
        "# Convert predictions to labels\n",
        "predictions_labels = predictions.argmax(axis=1)\n",
        "testY_labels = testY.argmax(axis=1)\n",
        "\n",
        "# Compute classification report\n",
        "print(classification_report(testY_labels, predictions_labels))\n",
        "\n",
        "# Compute F1 score\n",
        "print(\"F1 Score: \", f1_score(testY_labels, predictions_labels, average='weighted'))\n"
      ],
      "metadata": {
        "colab": {
          "base_uri": "https://localhost:8080/"
        },
        "id": "6KicVkDnKw4l",
        "outputId": "1246f2f7-6120-4082-b582-ad9feb713e2b"
      },
      "execution_count": null,
      "outputs": [
        {
          "output_type": "stream",
          "name": "stdout",
          "text": [
            "              precision    recall  f1-score   support\n",
            "\n",
            "           0       0.86      0.96      0.91       781\n",
            "           1       0.83      0.54      0.66       269\n",
            "\n",
            "    accuracy                           0.85      1050\n",
            "   macro avg       0.84      0.75      0.78      1050\n",
            "weighted avg       0.85      0.85      0.84      1050\n",
            "\n",
            "F1 Score:  0.8431534772298545\n"
          ]
        }
      ]
    },
    {
      "cell_type": "code",
      "source": [],
      "metadata": {
        "id": "bLFMtiPzKwzA"
      },
      "execution_count": null,
      "outputs": []
    },
    {
      "cell_type": "code",
      "source": [
        "n_epochs = len(H.history['loss'])"
      ],
      "metadata": {
        "id": "89opzzNbI86a"
      },
      "execution_count": null,
      "outputs": []
    },
    {
      "cell_type": "code",
      "source": [
        "# plot the training loss and accuracy\n",
        "import numpy as np\n",
        "import matplotlib.pyplot as plt\n",
        "%matplotlib inline\n",
        "plt.style.use(\"ggplot\")\n",
        "plt.figure()\n",
        "plt.plot(np.arange(0, n_epochs), H.history[\"loss\"], label=\"train_loss\")\n",
        "plt.plot(np.arange(0, n_epochs), H.history[\"val_loss\"], label=\"val_loss\")\n",
        "plt.plot(np.arange(0, n_epochs), H.history['accuracy'], label=\"train_acc\")\n",
        "plt.plot(np.arange(0, n_epochs), H.history['val_accuracy'], label=\"val_acc\")\n",
        "plt.title(\"Training Loss and Accuracy\")\n",
        "plt.xlabel(\"Epoch #\")\n",
        "plt.ylabel(\"Loss/Accuracy\")\n",
        "plt.legend()\n",
        "plt.show()"
      ],
      "metadata": {
        "colab": {
          "base_uri": "https://localhost:8080/",
          "height": 477
        },
        "id": "AroUHjepGgPD",
        "outputId": "837031ea-cf0b-4cee-f8ce-4e61f0c80119"
      },
      "execution_count": null,
      "outputs": [
        {
          "output_type": "display_data",
          "data": {
            "text/plain": [
              "<Figure size 640x480 with 1 Axes>"
            ],
            "image/png": "[encoded data removed]"
          },
          "metadata": {}
        }
      ]
    },
    {
      "cell_type": "markdown",
      "source": [
        "## StylGAN"
      ],
      "metadata": {
        "id": "MPg9TGgE4il2"
      }
    },
    {
      "cell_type": "code",
      "source": [
        "import tensorflow as tf"
      ],
      "metadata": {
        "id": "nrZA4TFlsI7g"
      },
      "execution_count": null,
      "outputs": []
    },
    {
      "cell_type": "code",
      "source": [
        "import os\n",
        "import pandas as pd\n",
        "import numpy as np\n",
        "import matplotlib.pyplot as plt"
      ],
      "metadata": {
        "id": "ScqdjfosA7NB"
      },
      "execution_count": null,
      "outputs": []
    },
    {
      "cell_type": "code",
      "source": [
        "from google.colab import drive\n",
        "drive.mount('/content/drive')"
      ],
      "metadata": {
        "colab": {
          "base_uri": "https://localhost:8080/"
        },
        "id": "Qsm-qMoIBDBI",
        "outputId": "38b8328c-2603-47f7-f599-03ff38f43e51"
      },
      "execution_count": 3,
      "outputs": [
        {
          "output_type": "stream",
          "name": "stdout",
          "text": [
            "Mounted at /content/drive\n"
          ]
        }
      ]
    },
    {
      "cell_type": "code",
      "source": [
        "os.chdir( '/content/drive/MyDrive/Opencv/GAN/Fake_Image' )"
      ],
      "metadata": {
        "id": "YtjGNdNmA-3L"
      },
      "execution_count": null,
      "outputs": []
    },
    {
      "cell_type": "code",
      "source": [
        "df = pd.read_csv('train.csv');\n",
        "image = df.iloc[:, 1:]\n",
        "label = df.iloc[:,0]\n",
        "# Reshape the DataFrame into a 3D NumPy array\n",
        "image_array = np.array(image).reshape(5250, 20, 20, 3)"
      ],
      "metadata": {
        "id": "ng-f6SbPAt6m"
      },
      "execution_count": null,
      "outputs": []
    },
    {
      "cell_type": "code",
      "source": [
        "import tensorflow as tf\n",
        "\n",
        "# Assuming you have the image array stored in the variable 'image_array'\n",
        "dataset = tf.data.Dataset.from_tensor_slices(image_array)\n",
        "dataset = dataset.map(lambda x: tf.expand_dims(x, axis=0))\n"
      ],
      "metadata": {
        "id": "ERj4vw0tBRCZ"
      },
      "execution_count": null,
      "outputs": []
    },
    {
      "cell_type": "code",
      "source": [
        "import glob\n",
        "import imageio\n",
        "import matplotlib.pyplot as plt\n",
        "import numpy as np\n",
        "import os\n",
        "import PIL\n",
        "from tensorflow.keras import layers\n",
        "import time\n",
        "\n",
        "from IPython import display"
      ],
      "metadata": {
        "id": "mInynLdQ4aDb"
      },
      "execution_count": null,
      "outputs": []
    },
    {
      "cell_type": "code",
      "source": [
        "import tensorflow as tf\n",
        "from tensorflow.keras import layers\n",
        "\n",
        "def make_generator_model():\n",
        "    model = tf.keras.Sequential()\n",
        "    model.add(layers.Dense(5*5*256, use_bias=False, input_shape=(100,)))\n",
        "    model.add(layers.BatchNormalization())\n",
        "    model.add(layers.LeakyReLU())\n",
        "\n",
        "    model.add(layers.Reshape((5, 5, 256)))\n",
        "    assert model.output_shape == (None, 5, 5, 256)\n",
        "\n",
        "    model.add(layers.Conv2DTranspose(128, (5, 5), strides=(2, 2), padding='same', use_bias=False))\n",
        "    assert model.output_shape == (None, 10, 10, 128)\n",
        "    model.add(layers.BatchNormalization())\n",
        "    model.add(layers.LeakyReLU())\n",
        "\n",
        "    model.add(layers.Conv2DTranspose(64, (5, 5), strides=(2, 2), padding='same', use_bias=False))\n",
        "    assert model.output_shape == (None, 20, 20, 64)\n",
        "    model.add(layers.BatchNormalization())\n",
        "    model.add(layers.LeakyReLU())\n",
        "\n",
        "    model.add(layers.Conv2DTranspose(3, (5, 5), strides=(1, 1), padding='same', use_bias=False, activation='tanh'))\n",
        "    assert model.output_shape == (None, 20, 20, 3)\n",
        "\n",
        "    return model\n"
      ],
      "metadata": {
        "id": "3PYNTiig4czc"
      },
      "execution_count": null,
      "outputs": []
    },
    {
      "cell_type": "code",
      "source": [
        "generator = make_generator_model()\n",
        "\n",
        "noise = tf.random.normal([1, 100])\n",
        "generated_image = generator.predict(noise)\n",
        "plt.imshow(generated_image[0, :, :, :])\n",
        "plt.axis('off')\n",
        "plt.show()\n"
      ],
      "metadata": {
        "id": "MyR64-cv4gSu",
        "colab": {
          "base_uri": "https://localhost:8080/",
          "height": 461
        },
        "outputId": "67747a34-d00d-4d17-ef9d-bbc13ec153b8"
      },
      "execution_count": null,
      "outputs": [
        {
          "output_type": "stream",
          "name": "stdout",
          "text": [
            "1/1 [==============================] - 0s 226ms/step\n"
          ]
        },
        {
          "output_type": "stream",
          "name": "stderr",
          "text": [
            "WARNING:matplotlib.image:Clipping input data to the valid range for imshow with RGB data ([0..1] for floats or [0..255] for integers).\n"
          ]
        },
        {
          "output_type": "display_data",
          "data": {
            "text/plain": [
              "<Figure size 640x480 with 1 Axes>"
            ],
            "image/png": "[encoded data removed]"
          },
          "metadata": {}
        }
      ]
    },
    {
      "cell_type": "code",
      "source": [
        "def make_discriminator_model():\n",
        "    model = tf.keras.Sequential()\n",
        "    model.add(layers.Conv2D(64, (5, 5), strides=(2, 2), padding='same', input_shape=[20, 20, 3]))\n",
        "    model.add(layers.LeakyReLU())\n",
        "    model.add(layers.Dropout(0.3))\n",
        "\n",
        "    model.add(layers.Conv2D(128, (5, 5), strides=(2, 2), padding='same'))\n",
        "    model.add(layers.LeakyReLU())\n",
        "    model.add(layers.Dropout(0.3))\n",
        "\n",
        "    model.add(layers.Flatten())\n",
        "    model.add(layers.Dense(1))\n",
        "\n",
        "    return model\n"
      ],
      "metadata": {
        "id": "l-RdPQhZ87HJ"
      },
      "execution_count": null,
      "outputs": []
    },
    {
      "cell_type": "code",
      "source": [
        "discriminator = make_discriminator_model()\n",
        "decision = discriminator(generated_image)\n",
        "print (decision)"
      ],
      "metadata": {
        "colab": {
          "base_uri": "https://localhost:8080/"
        },
        "id": "rYesQcb_Bw4H",
        "outputId": "f9c1de3a-5e5d-4987-c50b-09cd45bde9d3"
      },
      "execution_count": null,
      "outputs": [
        {
          "output_type": "stream",
          "name": "stdout",
          "text": [
            "tf.Tensor([[0.00107488]], shape=(1, 1), dtype=float32)\n"
          ]
        }
      ]
    },
    {
      "cell_type": "code",
      "source": [
        "cross_entropy = tf.keras.losses.SparseCategoricalCrossentropy(from_logits=True)\n"
      ],
      "metadata": {
        "id": "S_zYEyB9-952"
      },
      "execution_count": null,
      "outputs": []
    },
    {
      "cell_type": "code",
      "source": [
        "def discriminator_loss(real_output, fake_output):\n",
        "    real_loss = cross_entropy(tf.ones_like(real_output), real_output)\n",
        "    fake_loss = cross_entropy(tf.zeros_like(fake_output), fake_output)\n",
        "    total_loss = real_loss + fake_loss\n",
        "    return total_loss"
      ],
      "metadata": {
        "id": "p3DKmC7X_PC3"
      },
      "execution_count": null,
      "outputs": []
    },
    {
      "cell_type": "code",
      "source": [
        "def generator_loss(fake_output):\n",
        "    return cross_entropy(tf.ones_like(fake_output), fake_output)"
      ],
      "metadata": {
        "id": "e933z2w__T6E"
      },
      "execution_count": null,
      "outputs": []
    },
    {
      "cell_type": "code",
      "source": [
        "generator_optimizer = tf.keras.optimizers.Adam(1e-4)\n",
        "discriminator_optimizer = tf.keras.optimizers.Adam(1e-4)"
      ],
      "metadata": {
        "id": "Hv4E3aSs_Vky"
      },
      "execution_count": null,
      "outputs": []
    },
    {
      "cell_type": "code",
      "source": [
        "EPOCHS = 50\n",
        "noise_dim = 100\n",
        "num_examples_to_generate = 16\n",
        "\n",
        "# You will reuse this seed overtime (so it's easier)\n",
        "# to visualize progress in the animated GIF)\n",
        "seed = tf.random.normal([num_examples_to_generate, noise_dim])"
      ],
      "metadata": {
        "id": "dx_D1_rA_YVa"
      },
      "execution_count": null,
      "outputs": []
    },
    {
      "cell_type": "code",
      "source": [
        "# Notice the use of `tf.function`\n",
        "# This annotation causes the function to be \"compiled\".\n",
        "#@tf.function\n",
        "def train_step(images):\n",
        "    noise = tf.random.normal([BATCH_SIZE, noise_dim])\n",
        "\n",
        "    with tf.GradientTape() as gen_tape, tf.GradientTape() as disc_tape:\n",
        "      generated_images = generator(noise, training=True)\n",
        "\n",
        "      real_output = discriminator(images, training=True)\n",
        "      fake_output = discriminator(generated_images, training=True)\n",
        "\n",
        "      gen_loss = generator_loss(fake_output)\n",
        "      disc_loss = discriminator_loss(real_output, fake_output)\n",
        "\n",
        "    gradients_of_generator = gen_tape.gradient(gen_loss, generator.trainable_variables)\n",
        "    gradients_of_discriminator = disc_tape.gradient(disc_loss, discriminator.trainable_variables)\n",
        "\n",
        "    generator_optimizer.apply_gradients(zip(gradients_of_generator, generator.trainable_variables))\n",
        "    discriminator_optimizer.apply_gradients(zip(gradients_of_discriminator, discriminator.trainable_variables))"
      ],
      "metadata": {
        "id": "0e4C0UGP_dQe"
      },
      "execution_count": null,
      "outputs": []
    },
    {
      "cell_type": "code",
      "source": [
        "checkpoint_dir = './training_checkpoints'\n",
        "checkpoint_prefix = os.path.join(checkpoint_dir, \"ckpt\")\n",
        "checkpoint = tf.train.Checkpoint(generator_optimizer=generator_optimizer,\n",
        "                                 discriminator_optimizer=discriminator_optimizer,\n",
        "                                 generator=generator,\n",
        "                                 discriminator=discriminator)"
      ],
      "metadata": {
        "id": "SXpwlgfNDNVk"
      },
      "execution_count": null,
      "outputs": []
    },
    {
      "cell_type": "code",
      "source": [
        "def train(dataset, epochs):\n",
        "  for epoch in range(epochs):\n",
        "    start = time.time()\n",
        "\n",
        "    for image_batch in dataset:\n",
        "      train_step(image_batch)\n",
        "\n",
        "    # Produce images for the GIF as you go\n",
        "    display.clear_output(wait=True)\n",
        "    generate_and_save_images(generator,\n",
        "                             epoch + 1,\n",
        "                             seed)\n",
        "\n",
        "    # Save the model every 15 epochs\n",
        "    if (epoch + 1) % 15 == 0:\n",
        "      checkpoint.save(file_prefix = checkpoint_prefix)\n",
        "\n",
        "    print ('Time for epoch {} is {} sec'.format(epoch + 1, time.time()-start))\n",
        "\n",
        "  # Generate after the final epoch\n",
        "  display.clear_output(wait=True)\n",
        "  generate_and_save_images(generator,\n",
        "                           epochs,\n",
        "                           seed)"
      ],
      "metadata": {
        "id": "QPKktswT_ygl"
      },
      "execution_count": null,
      "outputs": []
    },
    {
      "cell_type": "code",
      "source": [
        "def generate_and_save_images(model, epoch, test_input):\n",
        "  # Notice `training` is set to False.\n",
        "  # This is so all layers run in inference mode (batchnorm).\n",
        "  predictions = model(test_input, training=False)\n",
        "\n",
        "  fig = plt.figure(figsize=(4, 4))\n",
        "\n",
        "  for i in range(predictions.shape[0]):\n",
        "      plt.subplot(4, 4, i+1)\n",
        "      plt.imshow(predictions[i, :, :, 0] * 127.5 + 127.5, cmap='gray')\n",
        "      plt.axis('off')\n",
        "\n",
        "  plt.show()"
      ],
      "metadata": {
        "id": "xFHa3N0B_092"
      },
      "execution_count": null,
      "outputs": []
    },
    {
      "cell_type": "code",
      "source": [
        "BUFFER_SIZE = 60000\n",
        "BATCH_SIZE = 256"
      ],
      "metadata": {
        "id": "mLpIh43pAq0c"
      },
      "execution_count": null,
      "outputs": []
    },
    {
      "cell_type": "code",
      "source": [
        "train(dataset, EPOCHS)"
      ],
      "metadata": {
        "colab": {
          "base_uri": "https://localhost:8080/",
          "height": 362
        },
        "id": "aydO5vwX_7DA",
        "outputId": "7c139d10-1a58-4490-a177-c937918ffa6d"
      },
      "execution_count": null,
      "outputs": [
        {
          "output_type": "display_data",
          "data": {
            "text/plain": [
              "<Figure size 400x400 with 16 Axes>"
            ],
            "image/png": "[encoded data removed]"
          },
          "metadata": {}
        },
        {
          "output_type": "stream",
          "name": "stdout",
          "text": [
            "Time for epoch 4 is 562.5078134536743 sec\n"
          ]
        }
      ]
    },
    {
      "cell_type": "markdown",
      "source": [
        "## DCGAN"
      ],
      "metadata": {
        "id": "Wt3-E4NQM8Vi"
      }
    },
    {
      "cell_type": "code",
      "source": [
        "import numpy as np\n",
        "import torch\n",
        "import torchvision\n",
        "import torch.nn as nn\n",
        "import matplotlib.pyplot as plt"
      ],
      "metadata": {
        "id": "U1x9pVxjBTfE"
      },
      "execution_count": null,
      "outputs": []
    },
    {
      "cell_type": "code",
      "source": [
        "from torchvision.utils import make_grid\n",
        "def show_tensor_images(image_tensor, num_images=25, size=(3, 28, 28)):\n",
        "    '''\n",
        "    Function for visualizing images: Given a tensor of images, number of images, and\n",
        "    size per image, plots and prints the images in an uniform grid.\n",
        "    '''\n",
        "    image_tensor = (image_tensor + 1) / 2\n",
        "    image_unflat = image_tensor.detach().cpu()\n",
        "    #image_grid = make_grid(image_unflat[:num_images], nrow=5)\n",
        "    plt.imshow(image_unflat[:1])\n",
        "    plt.show()"
      ],
      "metadata": {
        "id": "7mDeBVQNWgr9"
      },
      "execution_count": null,
      "outputs": []
    },
    {
      "cell_type": "code",
      "source": [
        "##########################\n",
        "### SETTINGS\n",
        "##########################\n",
        "\n",
        "# Device\n",
        "\n",
        "DEVICE = torch.device(f'cuda' if torch.cuda.is_available() else 'cpu')\n",
        "print('Device:', DEVICE)\n",
        "\n",
        "# Hyperparameters\n",
        "RANDOM_SEED = 42\n",
        "GENERATOR_LEARNING_RATE = 0.0002\n",
        "DISCRIMINATOR_LEARNING_RATE = 0.0002\n",
        "\n",
        "NUM_EPOCHS = 100\n",
        "BATCH_SIZE = 128\n",
        "\n",
        "IMAGE_HEIGHT, IMAGE_WIDTH, IMAGE_CHANNELS = 20, 20, 3"
      ],
      "metadata": {
        "colab": {
          "base_uri": "https://localhost:8080/"
        },
        "id": "F86MpItKNEs4",
        "outputId": "c9c52a45-2267-4644-8d1c-f892c218e2af"
      },
      "execution_count": null,
      "outputs": [
        {
          "output_type": "stream",
          "name": "stdout",
          "text": [
            "Device: cuda\n"
          ]
        }
      ]
    },
    {
      "cell_type": "code",
      "source": [
        "class DCGAN(torch.nn.Module):\n",
        "    def __init__(\n",
        "        self,\n",
        "        latent_dim=100,\n",
        "        num_feat_maps_gen=8,\n",
        "        num_feat_maps_dis=8,\n",
        "        color_channels=3,\n",
        "    ):\n",
        "        super().__init__()\n",
        "\n",
        "        self.generator = nn.Sequential(\n",
        "            nn.ConvTranspose2d(\n",
        "                latent_dim,\n",
        "                num_feat_maps_gen * 4,\n",
        "                kernel_size=4,\n",
        "                stride=1,\n",
        "                padding=0,\n",
        "                bias=False,\n",
        "            ),\n",
        "            nn.BatchNorm2d(num_feat_maps_gen * 4),\n",
        "            nn.LeakyReLU(inplace=True),\n",
        "            nn.ConvTranspose2d(\n",
        "                num_feat_maps_gen * 4,\n",
        "                num_feat_maps_gen * 2,\n",
        "                kernel_size=3,\n",
        "                stride=2,\n",
        "                padding=1,\n",
        "                bias=False,\n",
        "            ),\n",
        "            nn.BatchNorm2d(num_feat_maps_gen * 2),\n",
        "            nn.LeakyReLU(inplace=True),\n",
        "            nn.ConvTranspose2d(\n",
        "                num_feat_maps_gen * 2,\n",
        "                num_feat_maps_gen,\n",
        "                kernel_size=3,\n",
        "                stride=2,\n",
        "                padding=1,\n",
        "                bias=False,\n",
        "            ),\n",
        "            nn.BatchNorm2d(num_feat_maps_gen),\n",
        "            nn.LeakyReLU(inplace=True),\n",
        "            nn.ConvTranspose2d(\n",
        "                num_feat_maps_gen,\n",
        "                color_channels,\n",
        "                kernel_size=3,\n",
        "                stride=2,\n",
        "                padding=1,\n",
        "                output_padding=1,\n",
        "                bias=False,\n",
        "            ),\n",
        "            nn.Tanh(),\n",
        "        )\n",
        "\n",
        "        self.discriminator = nn.Sequential(\n",
        "            nn.Conv2d(\n",
        "                color_channels,\n",
        "                num_feat_maps_dis,\n",
        "                kernel_size=3,\n",
        "                stride=2,\n",
        "                padding=1,\n",
        "            ),\n",
        "            nn.LeakyReLU(inplace=True),\n",
        "            nn.Conv2d(\n",
        "                num_feat_maps_dis,\n",
        "                num_feat_maps_dis * 2,\n",
        "                kernel_size=3,\n",
        "                stride=2,\n",
        "                padding=1,\n",
        "                bias=False,\n",
        "            ),\n",
        "            nn.BatchNorm2d(num_feat_maps_dis * 2),\n",
        "            nn.LeakyReLU(inplace=True),\n",
        "            nn.Conv2d(\n",
        "                num_feat_maps_dis * 2,\n",
        "                num_feat_maps_dis * 4,\n",
        "                kernel_size=3,\n",
        "                stride=2,\n",
        "                padding=1,\n",
        "                bias=False,\n",
        "            ),\n",
        "            nn.BatchNorm2d(num_feat_maps_dis * 4),\n",
        "            nn.LeakyReLU(inplace=True),\n",
        "            nn.Conv2d(\n",
        "                num_feat_maps_dis * 4,\n",
        "                1,\n",
        "                kernel_size=3,\n",
        "                stride=1,\n",
        "                padding=0,\n",
        "            ),\n",
        "            nn.Flatten(),\n",
        "        )\n",
        "\n",
        "    def generator_forward(self, z):\n",
        "        img = self.generator(z)\n",
        "        return img\n",
        "\n",
        "    def discriminator_forward(self, img):\n",
        "        logits = self.discriminator(img)\n",
        "        return logits\n"
      ],
      "metadata": {
        "id": "4AaoqDu5NjmW"
      },
      "execution_count": null,
      "outputs": []
    },
    {
      "cell_type": "code",
      "source": [
        "df = pd.read_csv('test.csv');"
      ],
      "metadata": {
        "id": "Jb3oCHVQospa"
      },
      "execution_count": null,
      "outputs": []
    },
    {
      "cell_type": "code",
      "source": [
        "df = df[df['labels']==1]"
      ],
      "metadata": {
        "id": "4_0QJP4Aotmd"
      },
      "execution_count": null,
      "outputs": []
    },
    {
      "cell_type": "code",
      "source": [
        "image = df.iloc[:, 1:]\n",
        "#label = df.iloc[:,0]"
      ],
      "metadata": {
        "id": "vCYwdUxUOLjP"
      },
      "execution_count": null,
      "outputs": []
    },
    {
      "cell_type": "code",
      "source": [
        "# Preprocess the data by normalizing the features\n",
        "from sklearn.preprocessing import MinMaxScaler\n",
        "scaler = MinMaxScaler()\n",
        "image_norm = scaler.fit_transform(image)"
      ],
      "metadata": {
        "id": "CAne7h3vOOVZ"
      },
      "execution_count": null,
      "outputs": []
    },
    {
      "cell_type": "code",
      "source": [
        "image_norm.shape"
      ],
      "metadata": {
        "colab": {
          "base_uri": "https://localhost:8080/"
        },
        "id": "6t-ykaz8-ugD",
        "outputId": "a086883e-8b9e-407e-9e8f-61b1938ed56a"
      },
      "execution_count": null,
      "outputs": [
        {
          "output_type": "execute_result",
          "data": {
            "text/plain": [
              "(2250, 1200)"
            ]
          },
          "metadata": {},
          "execution_count": 320
        }
      ]
    },
    {
      "cell_type": "code",
      "source": [
        "# Reshape the DataFrame into a 3D NumPy array\n",
        "image_array = np.array(image_norm).reshape(2250, 20, 20, 3)"
      ],
      "metadata": {
        "id": "uSVnYYa6OQ8a"
      },
      "execution_count": null,
      "outputs": []
    },
    {
      "cell_type": "code",
      "source": [
        "image_array.shape"
      ],
      "metadata": {
        "colab": {
          "base_uri": "https://localhost:8080/"
        },
        "id": "WrvveNyHpURI",
        "outputId": "0ba9732c-998b-4ab8-8402-6d51001daf84"
      },
      "execution_count": null,
      "outputs": [
        {
          "output_type": "execute_result",
          "data": {
            "text/plain": [
              "(1400, 20, 20, 3)"
            ]
          },
          "metadata": {},
          "execution_count": 203
        }
      ]
    },
    {
      "cell_type": "code",
      "source": [
        "# Take the first image from the array (you can change the index if needed)\n",
        "img = image_array[42]\n",
        "\n",
        "# Display the image\n",
        "plt.imshow(img)\n",
        "plt.axis('off')\n",
        "plt.show()"
      ],
      "metadata": {
        "colab": {
          "base_uri": "https://localhost:8080/",
          "height": 406
        },
        "id": "AbINwgtfOTE7",
        "outputId": "2dcfd9ab-d3b0-4447-b2d2-f17d3afe5e05"
      },
      "execution_count": null,
      "outputs": [
        {
          "output_type": "display_data",
          "data": {
            "text/plain": [
              "<Figure size 640x480 with 1 Axes>"
            ],
            "image/png": "[encoded data removed]"
          },
          "metadata": {}
        }
      ]
    },
    {
      "cell_type": "code",
      "source": [
        "import torch\n",
        "import torch.nn as nn\n",
        "import torch.optim as optim\n",
        "from torch.utils.data import TensorDataset, DataLoader\n",
        "from torchvision.transforms import transforms"
      ],
      "metadata": {
        "id": "VQldJOmaOVG2"
      },
      "execution_count": null,
      "outputs": []
    },
    {
      "cell_type": "code",
      "source": [
        "def create_dataset(image_array):\n",
        "    transform = transforms.Compose([\n",
        "        transforms.ToTensor(),\n",
        "        transforms.Normalize((0.5, 0.5, 0.5), (0.5, 0.5, 0.5))\n",
        "    ])\n",
        "\n",
        "    # Convert image array to float32\n",
        "    image_array = image_array.astype('float32')\n",
        "\n",
        "    # Normalize the image array\n",
        "    normalized_images = []\n",
        "    for image in image_array:\n",
        "        normalized_image = transform(image)\n",
        "        normalized_images.append(normalized_image)\n",
        "\n",
        "    # Stack the normalized images into a single tensor\n",
        "    normalized_images = torch.stack(normalized_images)\n",
        "        # Reshape the tensor to match the new dimensions\n",
        "   # normalized_images = normalized_images.permute(0, 3, 1, 2)\n",
        "\n",
        "    return TensorDataset(normalized_images)\n",
        "\n",
        "# Example usage  # Replace with your image array of shape (20, 20, 3)\n",
        "dataset = create_dataset(image_array)"
      ],
      "metadata": {
        "id": "TAMwsWQGOXXK"
      },
      "execution_count": null,
      "outputs": []
    },
    {
      "cell_type": "code",
      "source": [
        "batch_size = 16"
      ],
      "metadata": {
        "id": "19n2oLb1Ojx5"
      },
      "execution_count": null,
      "outputs": []
    },
    {
      "cell_type": "code",
      "source": [
        "dataloader = DataLoader(dataset, batch_size=batch_size, shuffle=True)"
      ],
      "metadata": {
        "id": "rIB8AHhTOa3o"
      },
      "execution_count": null,
      "outputs": []
    },
    {
      "cell_type": "code",
      "source": [
        "class GAN(torch.nn.Module):\n",
        "\n",
        "    def __init__(self, latent_dim=100, image_height=20, image_width=20, color_channels=3):\n",
        "        super().__init__()\n",
        "\n",
        "        self.image_height = image_height\n",
        "        self.image_width = image_width\n",
        "        self.color_channels = color_channels\n",
        "\n",
        "        self.generator = nn.Sequential(\n",
        "            nn.Linear(latent_dim, 128),\n",
        "            nn.LeakyReLU(inplace=True),\n",
        "            nn.Dropout(p=0.5),\n",
        "            nn.Linear(128, image_height * image_width * color_channels),\n",
        "            nn.Tanh()\n",
        "        )\n",
        "\n",
        "        self.discriminator = nn.Sequential(\n",
        "            nn.Flatten(),\n",
        "            nn.Linear(image_height * image_width * color_channels, 128),\n",
        "            nn.LeakyReLU(inplace=True),\n",
        "            nn.Dropout(p=0.5),\n",
        "            nn.Linear(128, 1),  # outputs logits\n",
        "            # nn.Sigmoid()\n",
        "        )\n",
        "\n",
        "    def generator_forward(self, z):\n",
        "        z = torch.flatten(z, start_dim=1)\n",
        "        img = self.generator(z)\n",
        "        img = img.view(z.size(0), self.color_channels, self.image_height, self.image_width)\n",
        "        return img\n",
        "\n",
        "    def discriminator_forward(self, img):\n",
        "        logits = self.discriminator(img)\n",
        "        return logits\n"
      ],
      "metadata": {
        "id": "d8PuZTXbmAah"
      },
      "execution_count": null,
      "outputs": []
    },
    {
      "cell_type": "code",
      "source": [
        "#model = DCGAN()\n",
        "model = GAN()\n",
        "model.to(DEVICE)\n",
        "\n",
        "\n",
        "optim_gen = torch.optim.Adam(model.generator.parameters(),\n",
        "                             betas=(0.5, 0.999),\n",
        "                             lr=GENERATOR_LEARNING_RATE)\n",
        "\n",
        "optim_discr = torch.optim.Adam(model.discriminator.parameters(),\n",
        "                               betas=(0.5, 0.999),\n",
        "                               lr=DISCRIMINATOR_LEARNING_RATE)"
      ],
      "metadata": {
        "id": "wtT1V0pkNrtX"
      },
      "execution_count": null,
      "outputs": []
    },
    {
      "cell_type": "code",
      "source": [
        "import time\n",
        "import torch\n",
        "import torch.nn.functional as F\n",
        "import torchvision\n",
        "import torch.autograd"
      ],
      "metadata": {
        "id": "nus6g9MYPiUS"
      },
      "execution_count": null,
      "outputs": []
    },
    {
      "cell_type": "code",
      "source": [
        "def train_gan_v1(num_epochs, model, optimizer_gen, optimizer_discr,\n",
        "                 latent_dim, device, train_loader, loss_fn=None,\n",
        "                 logging_interval=100,\n",
        "                 save_model=None):\n",
        "\n",
        "    log_dict = {'train_generator_loss_per_batch': [],\n",
        "                'train_discriminator_loss_per_batch': [],\n",
        "                'train_discriminator_real_acc_per_batch': [],\n",
        "                'train_discriminator_fake_acc_per_batch': [],\n",
        "                'images_from_noise_per_epoch': []}\n",
        "    cur_step = 0\n",
        "    mean_generator_loss = 0\n",
        "    mean_discriminator_loss = 0\n",
        "    display_step = 2000\n",
        "\n",
        "    if loss_fn is None:\n",
        "        loss_fn = torch.nn.BCEWithLogitsLoss()\n",
        "\n",
        "    # Batch of latent (noise) vectors for\n",
        "    # evaluating / visualizing the training progress\n",
        "    # of the generator\n",
        "    fixed_noise = torch.randn(64, latent_dim, 1, 1, device=device) # format NCHW\n",
        "\n",
        "    start_time = time.time()\n",
        "    for epoch in range(num_epochs):\n",
        "\n",
        "        model.train()\n",
        "        for batch_idx, features in enumerate(train_loader):\n",
        "\n",
        "            # real images\n",
        "            real_images = features[0].to(device)\n",
        "            batch_size = len(real_images)\n",
        "            real_labels = torch.ones(batch_size, device=device) # real label = 1\n",
        "\n",
        "\n",
        "            # generated (fake) images\n",
        "            noise = torch.randn(batch_size, latent_dim, 1, 1, device=device)  # format NCHW\n",
        "            fake_images = model.generator_forward(noise)\n",
        "\n",
        "\n",
        "\n",
        "            # --------------------------\n",
        "            # Train Discriminator\n",
        "            # --------------------------\n",
        "\n",
        "            optimizer_discr.zero_grad()\n",
        "\n",
        "            # get discriminator loss on real images\n",
        "            discr_pred_real = model.discriminator_forward(real_images).view(-1) # Nx1 -> N\n",
        "            real_loss = loss_fn(discr_pred_real, real_labels)\n",
        "            # real_loss.backward()\n",
        "\n",
        "            # get discriminator loss on fake images\n",
        "            discr_pred_fake = model.discriminator_forward(fake_images.detach()).view(-1)\n",
        "            fake_labels = torch.zeros(discr_pred_fake.size(), device=device) # fake label = 0\n",
        "            fake_loss = loss_fn(discr_pred_fake, fake_labels)\n",
        "            # fake_loss.backward()\n",
        "            flipped_fake_labels = torch.ones_like(discr_pred_fake)  # fake label = 1# here, fake label = 1\n",
        "            # combined loss\n",
        "            discr_loss = 0.5*(real_loss + fake_loss)\n",
        "\n",
        "            # Keep track of the average discriminator loss\n",
        "            mean_discriminator_loss += discr_loss.item() / display_step\n",
        "            discr_loss.backward()\n",
        "\n",
        "            optimizer_discr.step()\n",
        "\n",
        "            # --------------------------\n",
        "            # Train Generator\n",
        "            # --------------------------\n",
        "\n",
        "            optimizer_gen.zero_grad()\n",
        "\n",
        "            # get discriminator loss on fake images with flipped labels\n",
        "            discr_pred_fake = model.discriminator_forward(fake_images).view(-1)\n",
        "            gener_loss = loss_fn(discr_pred_fake, flipped_fake_labels)\n",
        "            gener_loss.backward()\n",
        "\n",
        "            optimizer_gen.step()\n",
        "            # Keep track of the average generator loss\n",
        "            mean_generator_loss += gener_loss.item() / display_step\n",
        "\n",
        "            # --------------------------\n",
        "            # Logging\n",
        "            # --------------------------\n",
        "            log_dict['train_generator_loss_per_batch'].append(gener_loss.item())\n",
        "            log_dict['train_discriminator_loss_per_batch'].append(discr_loss.item())\n",
        "\n",
        "            predicted_labels_real = torch.where(discr_pred_real.detach() > 0., 1., 0.)\n",
        "            predicted_labels_fake = torch.where(discr_pred_fake.detach() > 0., 1., 0.)\n",
        "            acc_real = (predicted_labels_real == real_labels).float().mean()*100.\n",
        "            acc_fake = (predicted_labels_fake == fake_labels).float().mean()*100.\n",
        "            log_dict['train_discriminator_real_acc_per_batch'].append(acc_real.item())\n",
        "            log_dict['train_discriminator_fake_acc_per_batch'].append(acc_fake.item())\n",
        "\n",
        "            if not batch_idx % logging_interval:\n",
        "                print('Epoch: %03d/%03d | Batch %03d/%03d | Gen/Dis Loss: %.4f/%.4f'\n",
        "                       % (epoch+1, num_epochs, batch_idx,\n",
        "                          len(train_loader), gener_loss.item(), discr_loss.item()))\n",
        "\n",
        "            ## Visualization code ##\n",
        "            if cur_step % display_step == 0 and cur_step > 0:\n",
        "                print(f\"Step {cur_step}: Generator loss: {mean_generator_loss}, discriminator loss: {mean_discriminator_loss}\")\n",
        "                fake_image = fake_images.detach().cpu()[0]\n",
        "                plt.imshow(fake_image.permute(1, 2, 0))\n",
        "                plt.axis('off')\n",
        "                plt.show()\n",
        "                real_images = real_images.detach().cpu()[0]\n",
        "                plt.imshow(real_images.permute(1, 2, 0))\n",
        "                plt.axis('off')\n",
        "                plt.show()\n",
        "                mean_generator_loss = 0\n",
        "                mean_discriminator_loss = 0\n",
        "            cur_step += 1\n",
        "\n",
        "\n",
        "        ### Save images for evaluation\n",
        "        with torch.no_grad():\n",
        "            fake_images = model.generator_forward(fixed_noise).detach().cpu()\n",
        "            log_dict['images_from_noise_per_epoch'].append(\n",
        "                torchvision.utils.make_grid(fake_images, padding=2, normalize=True))\n",
        "\n",
        "\n",
        "        print('Time elapsed: %.2f min' % ((time.time() - start_time)/60))\n",
        "\n",
        "    print('Total Training Time: %.2f min' % ((time.time() - start_time)/60))\n",
        "\n",
        "    if save_model is not None:\n",
        "        torch.save(model.state_dict(), save_model)\n",
        "\n",
        "    return log_dict"
      ],
      "metadata": {
        "id": "TSsnKbT4PCjI"
      },
      "execution_count": null,
      "outputs": []
    },
    {
      "cell_type": "code",
      "source": [
        "# Hyperparameters\n",
        "RANDOM_SEED = 42\n",
        "GENERATOR_LEARNING_RATE = 0.0002\n",
        "DISCRIMINATOR_LEARNING_RATE = 0.0002\n",
        "\n",
        "NUM_EPOCHS = 200\n",
        "BATCH_SIZE = 64"
      ],
      "metadata": {
        "id": "IBKMMKUZYVkT"
      },
      "execution_count": null,
      "outputs": []
    },
    {
      "cell_type": "code",
      "source": [
        "log_dict = train_gan_v1(num_epochs=NUM_EPOCHS, model=model,\n",
        "                        optimizer_gen=optim_gen,\n",
        "                        optimizer_discr=optim_discr,\n",
        "                        latent_dim=100,\n",
        "                        device=DEVICE,\n",
        "                        train_loader=dataloader,\n",
        "                        logging_interval=100,\n",
        "                        save_model='DCGAN.pt')"
      ],
      "metadata": {
        "colab": {
          "base_uri": "https://localhost:8080/",
          "height": 1000
        },
        "id": "8tEdFGoANwWD",
        "outputId": "f48b256f-72c8-4b02-d0bf-060e870f0582"
      },
      "execution_count": null,
      "outputs": [
        {
          "output_type": "stream",
          "name": "stdout",
          "text": [
            "Epoch: 001/200 | Batch 000/088 | Gen/Dis Loss: 0.9727/0.7157\n",
            "Time elapsed: 0.01 min\n",
            "Epoch: 002/200 | Batch 000/088 | Gen/Dis Loss: 1.1438/0.5240\n",
            "Time elapsed: 0.01 min\n",
            "Epoch: 003/200 | Batch 000/088 | Gen/Dis Loss: 1.2974/0.4992\n",
            "Time elapsed: 0.02 min\n",
            "Epoch: 004/200 | Batch 000/088 | Gen/Dis Loss: 1.1028/0.5664\n",
            "Time elapsed: 0.03 min\n",
            "Epoch: 005/200 | Batch 000/088 | Gen/Dis Loss: 1.3319/0.5100\n",
            "Time elapsed: 0.03 min\n",
            "Epoch: 006/200 | Batch 000/088 | Gen/Dis Loss: 1.2127/0.4511\n",
            "Time elapsed: 0.04 min\n",
            "Epoch: 007/200 | Batch 000/088 | Gen/Dis Loss: 1.1348/0.5991\n",
            "Time elapsed: 0.05 min\n",
            "Epoch: 008/200 | Batch 000/088 | Gen/Dis Loss: 1.0699/0.5339\n",
            "Time elapsed: 0.05 min\n",
            "Epoch: 009/200 | Batch 000/088 | Gen/Dis Loss: 1.2223/0.4961\n",
            "Time elapsed: 0.06 min\n",
            "Epoch: 010/200 | Batch 000/088 | Gen/Dis Loss: 1.0207/0.5930\n",
            "Time elapsed: 0.07 min\n",
            "Epoch: 011/200 | Batch 000/088 | Gen/Dis Loss: 1.1215/0.3948\n",
            "Time elapsed: 0.08 min\n",
            "Epoch: 012/200 | Batch 000/088 | Gen/Dis Loss: 1.1836/0.5246\n",
            "Time elapsed: 0.09 min\n",
            "Epoch: 013/200 | Batch 000/088 | Gen/Dis Loss: 1.1650/0.4835\n",
            "Time elapsed: 0.10 min\n",
            "Epoch: 014/200 | Batch 000/088 | Gen/Dis Loss: 1.0430/0.5257\n",
            "Time elapsed: 0.10 min\n",
            "Epoch: 015/200 | Batch 000/088 | Gen/Dis Loss: 1.2309/0.5807\n",
            "Time elapsed: 0.11 min\n",
            "Epoch: 016/200 | Batch 000/088 | Gen/Dis Loss: 1.0820/0.6364\n",
            "Time elapsed: 0.12 min\n",
            "Epoch: 017/200 | Batch 000/088 | Gen/Dis Loss: 1.0744/0.4842\n",
            "Time elapsed: 0.13 min\n",
            "Epoch: 018/200 | Batch 000/088 | Gen/Dis Loss: 1.0925/0.5976\n",
            "Time elapsed: 0.13 min\n",
            "Epoch: 019/200 | Batch 000/088 | Gen/Dis Loss: 1.1706/0.5192\n",
            "Time elapsed: 0.14 min\n",
            "Epoch: 020/200 | Batch 000/088 | Gen/Dis Loss: 1.0799/0.5854\n",
            "Time elapsed: 0.15 min\n",
            "Epoch: 021/200 | Batch 000/088 | Gen/Dis Loss: 1.0304/0.4995\n",
            "Time elapsed: 0.15 min\n",
            "Epoch: 022/200 | Batch 000/088 | Gen/Dis Loss: 1.2060/0.4351\n",
            "Time elapsed: 0.16 min\n",
            "Epoch: 023/200 | Batch 000/088 | Gen/Dis Loss: 0.8967/0.5084\n"
          ]
        },
        {
          "output_type": "stream",
          "name": "stderr",
          "text": [
            "WARNING:matplotlib.image:Clipping input data to the valid range for imshow with RGB data ([0..1] for floats or [0..255] for integers).\n"
          ]
        },
        {
          "output_type": "stream",
          "name": "stdout",
          "text": [
            "Step 2000: Generator loss: 1.1151196569204342, discriminator loss: 0.5258592028319838\n"
          ]
        },
        {
          "output_type": "display_data",
          "data": {
            "text/plain": [
              "<Figure size 640x480 with 1 Axes>"
            ],
            "image/png": "[encoded data removed]"
          },
          "metadata": {}
        },
        {
          "output_type": "stream",
          "name": "stderr",
          "text": [
            "WARNING:matplotlib.image:Clipping input data to the valid range for imshow with RGB data ([0..1] for floats or [0..255] for integers).\n"
          ]
        },
        {
          "output_type": "display_data",
          "data": {
            "text/plain": [
              "<Figure size 640x480 with 1 Axes>"
            ],
            "image/png": "[encoded data removed]"
          },
          "metadata": {}
        },
        {
          "output_type": "stream",
          "name": "stdout",
          "text": [
            "Time elapsed: 0.17 min\n",
            "Epoch: 024/200 | Batch 000/088 | Gen/Dis Loss: 1.2436/0.4340\n",
            "Time elapsed: 0.18 min\n",
            "Epoch: 025/200 | Batch 000/088 | Gen/Dis Loss: 1.2272/0.4940\n",
            "Time elapsed: 0.18 min\n",
            "Epoch: 026/200 | Batch 000/088 | Gen/Dis Loss: 1.0811/0.6258\n",
            "Time elapsed: 0.19 min\n",
            "Epoch: 027/200 | Batch 000/088 | Gen/Dis Loss: 1.1527/0.5407\n",
            "Time elapsed: 0.20 min\n",
            "Epoch: 028/200 | Batch 000/088 | Gen/Dis Loss: 1.3422/0.5883\n",
            "Time elapsed: 0.20 min\n",
            "Epoch: 029/200 | Batch 000/088 | Gen/Dis Loss: 0.9125/0.4709\n",
            "Time elapsed: 0.21 min\n",
            "Epoch: 030/200 | Batch 000/088 | Gen/Dis Loss: 1.1709/0.5349\n",
            "Time elapsed: 0.22 min\n",
            "Epoch: 031/200 | Batch 000/088 | Gen/Dis Loss: 1.1663/0.5117\n",
            "Time elapsed: 0.22 min\n",
            "Epoch: 032/200 | Batch 000/088 | Gen/Dis Loss: 1.0491/0.3679\n",
            "Time elapsed: 0.23 min\n",
            "Epoch: 033/200 | Batch 000/088 | Gen/Dis Loss: 0.9157/0.5088\n",
            "Time elapsed: 0.24 min\n",
            "Epoch: 034/200 | Batch 000/088 | Gen/Dis Loss: 1.2515/0.5113\n",
            "Time elapsed: 0.24 min\n",
            "Epoch: 035/200 | Batch 000/088 | Gen/Dis Loss: 1.1499/0.4487\n",
            "Time elapsed: 0.25 min\n",
            "Epoch: 036/200 | Batch 000/088 | Gen/Dis Loss: 1.0788/0.4965\n",
            "Time elapsed: 0.26 min\n",
            "Epoch: 037/200 | Batch 000/088 | Gen/Dis Loss: 1.0872/0.5506\n",
            "Time elapsed: 0.27 min\n",
            "Epoch: 038/200 | Batch 000/088 | Gen/Dis Loss: 0.9631/0.3980\n",
            "Time elapsed: 0.27 min\n",
            "Epoch: 039/200 | Batch 000/088 | Gen/Dis Loss: 1.1200/0.5351\n",
            "Time elapsed: 0.28 min\n",
            "Epoch: 040/200 | Batch 000/088 | Gen/Dis Loss: 1.2713/0.4683\n",
            "Time elapsed: 0.29 min\n",
            "Epoch: 041/200 | Batch 000/088 | Gen/Dis Loss: 1.2795/0.5392\n",
            "Time elapsed: 0.30 min\n",
            "Epoch: 042/200 | Batch 000/088 | Gen/Dis Loss: 0.9628/0.4745\n",
            "Time elapsed: 0.31 min\n",
            "Epoch: 043/200 | Batch 000/088 | Gen/Dis Loss: 1.1051/0.6032\n",
            "Time elapsed: 0.32 min\n",
            "Epoch: 044/200 | Batch 000/088 | Gen/Dis Loss: 0.9862/0.6136\n",
            "Time elapsed: 0.33 min\n",
            "Epoch: 045/200 | Batch 000/088 | Gen/Dis Loss: 1.1920/0.4886\n",
            "Time elapsed: 0.34 min\n",
            "Epoch: 046/200 | Batch 000/088 | Gen/Dis Loss: 1.1886/0.5958\n"
          ]
        },
        {
          "output_type": "stream",
          "name": "stderr",
          "text": [
            "WARNING:matplotlib.image:Clipping input data to the valid range for imshow with RGB data ([0..1] for floats or [0..255] for integers).\n"
          ]
        },
        {
          "output_type": "stream",
          "name": "stdout",
          "text": [
            "Step 4000: Generator loss: 1.124753003567457, discriminator loss: 0.5214369853734973\n"
          ]
        },
        {
          "output_type": "display_data",
          "data": {
            "text/plain": [
              "<Figure size 640x480 with 1 Axes>"
            ],
            "image/png": "[encoded data removed]"
          },
          "metadata": {}
        },
        {
          "output_type": "stream",
          "name": "stderr",
          "text": [
            "WARNING:matplotlib.image:Clipping input data to the valid range for imshow with RGB data ([0..1] for floats or [0..255] for integers).\n"
          ]
        },
        {
          "output_type": "display_data",
          "data": {
            "text/plain": [
              "<Figure size 640x480 with 1 Axes>"
            ],
            "image/png": "[encoded data removed]"
          },
          "metadata": {}
        },
        {
          "output_type": "stream",
          "name": "stdout",
          "text": [
            "Time elapsed: 0.35 min\n",
            "Epoch: 047/200 | Batch 000/088 | Gen/Dis Loss: 1.2350/0.4473\n",
            "Time elapsed: 0.36 min\n",
            "Epoch: 048/200 | Batch 000/088 | Gen/Dis Loss: 1.1507/0.4809\n",
            "Time elapsed: 0.36 min\n",
            "Epoch: 049/200 | Batch 000/088 | Gen/Dis Loss: 1.0998/0.5314\n",
            "Time elapsed: 0.37 min\n",
            "Epoch: 050/200 | Batch 000/088 | Gen/Dis Loss: 1.0986/0.4615\n",
            "Time elapsed: 0.38 min\n",
            "Epoch: 051/200 | Batch 000/088 | Gen/Dis Loss: 1.0707/0.4501\n",
            "Time elapsed: 0.38 min\n",
            "Epoch: 052/200 | Batch 000/088 | Gen/Dis Loss: 1.0848/0.5057\n",
            "Time elapsed: 0.39 min\n",
            "Epoch: 053/200 | Batch 000/088 | Gen/Dis Loss: 1.1437/0.5080\n",
            "Time elapsed: 0.40 min\n",
            "Epoch: 054/200 | Batch 000/088 | Gen/Dis Loss: 1.0875/0.5193\n",
            "Time elapsed: 0.40 min\n",
            "Epoch: 055/200 | Batch 000/088 | Gen/Dis Loss: 0.9800/0.5580\n",
            "Time elapsed: 0.41 min\n",
            "Epoch: 056/200 | Batch 000/088 | Gen/Dis Loss: 1.1472/0.5960\n",
            "Time elapsed: 0.42 min\n",
            "Epoch: 057/200 | Batch 000/088 | Gen/Dis Loss: 1.4778/0.4916\n",
            "Time elapsed: 0.42 min\n",
            "Epoch: 058/200 | Batch 000/088 | Gen/Dis Loss: 1.4570/0.4975\n",
            "Time elapsed: 0.43 min\n",
            "Epoch: 059/200 | Batch 000/088 | Gen/Dis Loss: 1.2989/0.4240\n",
            "Time elapsed: 0.44 min\n",
            "Epoch: 060/200 | Batch 000/088 | Gen/Dis Loss: 1.1643/0.4457\n",
            "Time elapsed: 0.45 min\n",
            "Epoch: 061/200 | Batch 000/088 | Gen/Dis Loss: 1.1582/0.6201\n",
            "Time elapsed: 0.45 min\n",
            "Epoch: 062/200 | Batch 000/088 | Gen/Dis Loss: 1.2618/0.4953\n",
            "Time elapsed: 0.46 min\n",
            "Epoch: 063/200 | Batch 000/088 | Gen/Dis Loss: 1.1534/0.4819\n",
            "Time elapsed: 0.47 min\n",
            "Epoch: 064/200 | Batch 000/088 | Gen/Dis Loss: 1.2145/0.4418\n",
            "Time elapsed: 0.47 min\n",
            "Epoch: 065/200 | Batch 000/088 | Gen/Dis Loss: 1.2851/0.4995\n",
            "Time elapsed: 0.48 min\n",
            "Epoch: 066/200 | Batch 000/088 | Gen/Dis Loss: 1.5035/0.3544\n",
            "Time elapsed: 0.49 min\n",
            "Epoch: 067/200 | Batch 000/088 | Gen/Dis Loss: 1.2559/0.6110\n",
            "Time elapsed: 0.49 min\n",
            "Epoch: 068/200 | Batch 000/088 | Gen/Dis Loss: 1.2499/0.3844\n"
          ]
        },
        {
          "output_type": "stream",
          "name": "stderr",
          "text": [
            "WARNING:matplotlib.image:Clipping input data to the valid range for imshow with RGB data ([0..1] for floats or [0..255] for integers).\n"
          ]
        },
        {
          "output_type": "stream",
          "name": "stdout",
          "text": [
            "Time elapsed: 0.50 min\n",
            "Epoch: 069/200 | Batch 000/088 | Gen/Dis Loss: 1.1170/0.4844\n",
            "Step 6000: Generator loss: 1.1469603632390495, discriminator loss: 0.5212183682173498\n"
          ]
        },
        {
          "output_type": "display_data",
          "data": {
            "text/plain": [
              "<Figure size 640x480 with 1 Axes>"
            ],
            "image/png": "[encoded data removed]"
          },
          "metadata": {}
        },
        {
          "output_type": "stream",
          "name": "stderr",
          "text": [
            "WARNING:matplotlib.image:Clipping input data to the valid range for imshow with RGB data ([0..1] for floats or [0..255] for integers).\n"
          ]
        },
        {
          "output_type": "display_data",
          "data": {
            "text/plain": [
              "<Figure size 640x480 with 1 Axes>"
            ],
            "image/png": "[encoded data removed]"
          },
          "metadata": {}
        },
        {
          "output_type": "stream",
          "name": "stdout",
          "text": [
            "Time elapsed: 0.51 min\n",
            "Epoch: 070/200 | Batch 000/088 | Gen/Dis Loss: 1.2166/0.5169\n",
            "Time elapsed: 0.51 min\n",
            "Epoch: 071/200 | Batch 000/088 | Gen/Dis Loss: 1.0274/0.5164\n",
            "Time elapsed: 0.52 min\n",
            "Epoch: 072/200 | Batch 000/088 | Gen/Dis Loss: 1.4020/0.4755\n",
            "Time elapsed: 0.53 min\n",
            "Epoch: 073/200 | Batch 000/088 | Gen/Dis Loss: 1.3156/0.5281\n",
            "Time elapsed: 0.54 min\n",
            "Epoch: 074/200 | Batch 000/088 | Gen/Dis Loss: 1.1503/0.4779\n",
            "Time elapsed: 0.55 min\n",
            "Epoch: 075/200 | Batch 000/088 | Gen/Dis Loss: 1.1959/0.4948\n",
            "Time elapsed: 0.56 min\n",
            "Epoch: 076/200 | Batch 000/088 | Gen/Dis Loss: 0.9755/0.6346\n",
            "Time elapsed: 0.56 min\n",
            "Epoch: 077/200 | Batch 000/088 | Gen/Dis Loss: 1.1688/0.4798\n",
            "Time elapsed: 0.57 min\n",
            "Epoch: 078/200 | Batch 000/088 | Gen/Dis Loss: 1.4272/0.3503\n",
            "Time elapsed: 0.58 min\n",
            "Epoch: 079/200 | Batch 000/088 | Gen/Dis Loss: 1.1219/0.4970\n",
            "Time elapsed: 0.59 min\n",
            "Epoch: 080/200 | Batch 000/088 | Gen/Dis Loss: 1.1950/0.4512\n",
            "Time elapsed: 0.59 min\n",
            "Epoch: 081/200 | Batch 000/088 | Gen/Dis Loss: 0.9442/0.4896\n",
            "Time elapsed: 0.60 min\n",
            "Epoch: 082/200 | Batch 000/088 | Gen/Dis Loss: 1.2115/0.6460\n",
            "Time elapsed: 0.61 min\n",
            "Epoch: 083/200 | Batch 000/088 | Gen/Dis Loss: 1.1512/0.4597\n",
            "Time elapsed: 0.61 min\n",
            "Epoch: 084/200 | Batch 000/088 | Gen/Dis Loss: 1.0821/0.4361\n",
            "Time elapsed: 0.62 min\n",
            "Epoch: 085/200 | Batch 000/088 | Gen/Dis Loss: 0.9783/0.4875\n",
            "Time elapsed: 0.63 min\n",
            "Epoch: 086/200 | Batch 000/088 | Gen/Dis Loss: 1.1867/0.6330\n",
            "Time elapsed: 0.63 min\n",
            "Epoch: 087/200 | Batch 000/088 | Gen/Dis Loss: 1.2610/0.5205\n",
            "Time elapsed: 0.64 min\n",
            "Epoch: 088/200 | Batch 000/088 | Gen/Dis Loss: 1.2371/0.5004\n",
            "Time elapsed: 0.65 min\n",
            "Epoch: 089/200 | Batch 000/088 | Gen/Dis Loss: 1.3239/0.4731\n",
            "Time elapsed: 0.65 min\n",
            "Epoch: 090/200 | Batch 000/088 | Gen/Dis Loss: 1.1843/0.4417\n",
            "Time elapsed: 0.66 min\n",
            "Epoch: 091/200 | Batch 000/088 | Gen/Dis Loss: 1.0235/0.5768\n"
          ]
        },
        {
          "output_type": "stream",
          "name": "stderr",
          "text": [
            "WARNING:matplotlib.image:Clipping input data to the valid range for imshow with RGB data ([0..1] for floats or [0..255] for integers).\n"
          ]
        },
        {
          "output_type": "stream",
          "name": "stdout",
          "text": [
            "Step 8000: Generator loss: 1.152069377720352, discriminator loss: 0.5109243502467861\n"
          ]
        },
        {
          "output_type": "display_data",
          "data": {
            "text/plain": [
              "<Figure size 640x480 with 1 Axes>"
            ],
            "image/png": "[encoded data removed]"
          },
          "metadata": {}
        },
        {
          "output_type": "stream",
          "name": "stderr",
          "text": [
            "WARNING:matplotlib.image:Clipping input data to the valid range for imshow with RGB data ([0..1] for floats or [0..255] for integers).\n"
          ]
        },
        {
          "output_type": "display_data",
          "data": {
            "text/plain": [
              "<Figure size 640x480 with 1 Axes>"
            ],
            "image/png": "[encoded data removed]"
          },
          "metadata": {}
        },
        {
          "output_type": "stream",
          "name": "stdout",
          "text": [
            "Time elapsed: 0.67 min\n",
            "Epoch: 092/200 | Batch 000/088 | Gen/Dis Loss: 1.0990/0.6296\n",
            "Time elapsed: 0.68 min\n",
            "Epoch: 093/200 | Batch 000/088 | Gen/Dis Loss: 1.5483/0.4999\n",
            "Time elapsed: 0.68 min\n",
            "Epoch: 094/200 | Batch 000/088 | Gen/Dis Loss: 1.1479/0.4231\n",
            "Time elapsed: 0.69 min\n",
            "Epoch: 095/200 | Batch 000/088 | Gen/Dis Loss: 1.1118/0.5310\n",
            "Time elapsed: 0.70 min\n",
            "Epoch: 096/200 | Batch 000/088 | Gen/Dis Loss: 1.1983/0.5216\n",
            "Time elapsed: 0.70 min\n",
            "Epoch: 097/200 | Batch 000/088 | Gen/Dis Loss: 1.0938/0.4353\n",
            "Time elapsed: 0.71 min\n",
            "Epoch: 098/200 | Batch 000/088 | Gen/Dis Loss: 1.2358/0.6317\n",
            "Time elapsed: 0.72 min\n",
            "Epoch: 099/200 | Batch 000/088 | Gen/Dis Loss: 1.1930/0.5264\n",
            "Time elapsed: 0.72 min\n",
            "Epoch: 100/200 | Batch 000/088 | Gen/Dis Loss: 1.2801/0.4634\n",
            "Time elapsed: 0.73 min\n",
            "Epoch: 101/200 | Batch 000/088 | Gen/Dis Loss: 1.2016/0.4346\n",
            "Time elapsed: 0.74 min\n",
            "Epoch: 102/200 | Batch 000/088 | Gen/Dis Loss: 1.1299/0.5965\n",
            "Time elapsed: 0.75 min\n",
            "Epoch: 103/200 | Batch 000/088 | Gen/Dis Loss: 1.2041/0.3898\n",
            "Time elapsed: 0.76 min\n",
            "Epoch: 104/200 | Batch 000/088 | Gen/Dis Loss: 1.1798/0.4441\n",
            "Time elapsed: 0.76 min\n",
            "Epoch: 105/200 | Batch 000/088 | Gen/Dis Loss: 1.2277/0.4017\n",
            "Time elapsed: 0.77 min\n",
            "Epoch: 106/200 | Batch 000/088 | Gen/Dis Loss: 1.1521/0.5388\n",
            "Time elapsed: 0.78 min\n",
            "Epoch: 107/200 | Batch 000/088 | Gen/Dis Loss: 0.9621/0.5111\n",
            "Time elapsed: 0.79 min\n",
            "Epoch: 108/200 | Batch 000/088 | Gen/Dis Loss: 1.2333/0.5590\n",
            "Time elapsed: 0.80 min\n",
            "Epoch: 109/200 | Batch 000/088 | Gen/Dis Loss: 1.1722/0.6275\n",
            "Time elapsed: 0.80 min\n",
            "Epoch: 110/200 | Batch 000/088 | Gen/Dis Loss: 1.3198/0.4215\n",
            "Time elapsed: 0.81 min\n",
            "Epoch: 111/200 | Batch 000/088 | Gen/Dis Loss: 1.2793/0.5483\n",
            "Time elapsed: 0.82 min\n",
            "Epoch: 112/200 | Batch 000/088 | Gen/Dis Loss: 1.0434/0.5343\n",
            "Time elapsed: 0.82 min\n",
            "Epoch: 113/200 | Batch 000/088 | Gen/Dis Loss: 1.2689/0.5519\n",
            "Time elapsed: 0.83 min\n",
            "Epoch: 114/200 | Batch 000/088 | Gen/Dis Loss: 1.0259/0.4560\n"
          ]
        },
        {
          "output_type": "stream",
          "name": "stderr",
          "text": [
            "WARNING:matplotlib.image:Clipping input data to the valid range for imshow with RGB data ([0..1] for floats or [0..255] for integers).\n"
          ]
        },
        {
          "output_type": "stream",
          "name": "stdout",
          "text": [
            "Step 10000: Generator loss: 1.1776454504132283, discriminator loss: 0.5056980411708358\n"
          ]
        },
        {
          "output_type": "display_data",
          "data": {
            "text/plain": [
              "<Figure size 640x480 with 1 Axes>"
            ],
            "image/png": "[encoded data removed]"
          },
          "metadata": {}
        },
        {
          "output_type": "stream",
          "name": "stderr",
          "text": [
            "WARNING:matplotlib.image:Clipping input data to the valid range for imshow with RGB data ([0..1] for floats or [0..255] for integers).\n"
          ]
        },
        {
          "output_type": "display_data",
          "data": {
            "text/plain": [
              "<Figure size 640x480 with 1 Axes>"
            ],
            "image/png": "[encoded data removed]"
          },
          "metadata": {}
        },
        {
          "output_type": "stream",
          "name": "stdout",
          "text": [
            "Time elapsed: 0.84 min\n",
            "Epoch: 115/200 | Batch 000/088 | Gen/Dis Loss: 1.2056/0.4115\n",
            "Time elapsed: 0.85 min\n",
            "Epoch: 116/200 | Batch 000/088 | Gen/Dis Loss: 1.1597/0.5475\n",
            "Time elapsed: 0.85 min\n",
            "Epoch: 117/200 | Batch 000/088 | Gen/Dis Loss: 1.0114/0.3148\n",
            "Time elapsed: 0.86 min\n",
            "Epoch: 118/200 | Batch 000/088 | Gen/Dis Loss: 1.0323/0.4943\n",
            "Time elapsed: 0.87 min\n",
            "Epoch: 119/200 | Batch 000/088 | Gen/Dis Loss: 1.2336/0.5345\n",
            "Time elapsed: 0.87 min\n",
            "Epoch: 120/200 | Batch 000/088 | Gen/Dis Loss: 1.1900/0.5657\n",
            "Time elapsed: 0.88 min\n",
            "Epoch: 121/200 | Batch 000/088 | Gen/Dis Loss: 1.3200/0.4409\n",
            "Time elapsed: 0.89 min\n",
            "Epoch: 122/200 | Batch 000/088 | Gen/Dis Loss: 1.3367/0.4256\n",
            "Time elapsed: 0.89 min\n",
            "Epoch: 123/200 | Batch 000/088 | Gen/Dis Loss: 1.2028/0.4436\n",
            "Time elapsed: 0.90 min\n",
            "Epoch: 124/200 | Batch 000/088 | Gen/Dis Loss: 1.4112/0.4245\n",
            "Time elapsed: 0.91 min\n",
            "Epoch: 125/200 | Batch 000/088 | Gen/Dis Loss: 1.1300/0.3281\n",
            "Time elapsed: 0.91 min\n",
            "Epoch: 126/200 | Batch 000/088 | Gen/Dis Loss: 1.1738/0.4016\n",
            "Time elapsed: 0.92 min\n",
            "Epoch: 127/200 | Batch 000/088 | Gen/Dis Loss: 1.3076/0.5305\n",
            "Time elapsed: 0.93 min\n",
            "Epoch: 128/200 | Batch 000/088 | Gen/Dis Loss: 0.8575/0.5511\n",
            "Time elapsed: 0.94 min\n",
            "Epoch: 129/200 | Batch 000/088 | Gen/Dis Loss: 1.1953/0.5329\n",
            "Time elapsed: 0.94 min\n",
            "Epoch: 130/200 | Batch 000/088 | Gen/Dis Loss: 1.0939/0.5028\n",
            "Time elapsed: 0.95 min\n",
            "Epoch: 131/200 | Batch 000/088 | Gen/Dis Loss: 1.1285/0.6170\n",
            "Time elapsed: 0.96 min\n",
            "Epoch: 132/200 | Batch 000/088 | Gen/Dis Loss: 1.2271/0.4716\n",
            "Time elapsed: 0.96 min\n",
            "Epoch: 133/200 | Batch 000/088 | Gen/Dis Loss: 1.2669/0.4888\n",
            "Time elapsed: 0.97 min\n",
            "Epoch: 134/200 | Batch 000/088 | Gen/Dis Loss: 1.1066/0.4847\n",
            "Time elapsed: 0.98 min\n",
            "Epoch: 135/200 | Batch 000/088 | Gen/Dis Loss: 0.9748/0.5050\n",
            "Time elapsed: 0.99 min\n",
            "Epoch: 136/200 | Batch 000/088 | Gen/Dis Loss: 1.1746/0.3957\n",
            "Time elapsed: 1.00 min\n",
            "Epoch: 137/200 | Batch 000/088 | Gen/Dis Loss: 1.0645/0.5094\n"
          ]
        },
        {
          "output_type": "stream",
          "name": "stderr",
          "text": [
            "WARNING:matplotlib.image:Clipping input data to the valid range for imshow with RGB data ([0..1] for floats or [0..255] for integers).\n"
          ]
        },
        {
          "output_type": "stream",
          "name": "stdout",
          "text": [
            "Step 12000: Generator loss: 1.1881404715478419, discriminator loss: 0.5078704866617919\n"
          ]
        },
        {
          "output_type": "display_data",
          "data": {
            "text/plain": [
              "<Figure size 640x480 with 1 Axes>"
            ],
            "image/png": "[encoded data removed]"
          },
          "metadata": {}
        },
        {
          "output_type": "stream",
          "name": "stderr",
          "text": [
            "WARNING:matplotlib.image:Clipping input data to the valid range for imshow with RGB data ([0..1] for floats or [0..255] for integers).\n"
          ]
        },
        {
          "output_type": "display_data",
          "data": {
            "text/plain": [
              "<Figure size 640x480 with 1 Axes>"
            ],
            "image/png": "[encoded data removed]"
          },
          "metadata": {}
        },
        {
          "output_type": "stream",
          "name": "stdout",
          "text": [
            "Time elapsed: 1.01 min\n",
            "Epoch: 138/200 | Batch 000/088 | Gen/Dis Loss: 0.8575/0.5806\n",
            "Time elapsed: 1.02 min\n",
            "Epoch: 139/200 | Batch 000/088 | Gen/Dis Loss: 1.2873/0.6322\n",
            "Time elapsed: 1.03 min\n",
            "Epoch: 140/200 | Batch 000/088 | Gen/Dis Loss: 1.1278/0.6863\n",
            "Time elapsed: 1.03 min\n",
            "Epoch: 141/200 | Batch 000/088 | Gen/Dis Loss: 1.0644/0.4925\n",
            "Time elapsed: 1.04 min\n",
            "Epoch: 142/200 | Batch 000/088 | Gen/Dis Loss: 1.0311/0.4798\n",
            "Time elapsed: 1.05 min\n",
            "Epoch: 143/200 | Batch 000/088 | Gen/Dis Loss: 1.2660/0.5336\n",
            "Time elapsed: 1.05 min\n",
            "Epoch: 144/200 | Batch 000/088 | Gen/Dis Loss: 1.1446/0.4178\n",
            "Time elapsed: 1.06 min\n",
            "Epoch: 145/200 | Batch 000/088 | Gen/Dis Loss: 1.1795/0.4219\n",
            "Time elapsed: 1.07 min\n",
            "Epoch: 146/200 | Batch 000/088 | Gen/Dis Loss: 1.2757/0.4321\n",
            "Time elapsed: 1.07 min\n",
            "Epoch: 147/200 | Batch 000/088 | Gen/Dis Loss: 1.1131/0.4671\n",
            "Time elapsed: 1.08 min\n",
            "Epoch: 148/200 | Batch 000/088 | Gen/Dis Loss: 1.2133/0.5168\n",
            "Time elapsed: 1.09 min\n",
            "Epoch: 149/200 | Batch 000/088 | Gen/Dis Loss: 1.1051/0.5575\n",
            "Time elapsed: 1.09 min\n",
            "Epoch: 150/200 | Batch 000/088 | Gen/Dis Loss: 1.1148/0.4806\n",
            "Time elapsed: 1.10 min\n",
            "Epoch: 151/200 | Batch 000/088 | Gen/Dis Loss: 1.0407/0.4692\n",
            "Time elapsed: 1.11 min\n",
            "Epoch: 152/200 | Batch 000/088 | Gen/Dis Loss: 1.0748/0.3882\n",
            "Time elapsed: 1.11 min\n",
            "Epoch: 153/200 | Batch 000/088 | Gen/Dis Loss: 0.9440/0.4461\n",
            "Time elapsed: 1.12 min\n",
            "Epoch: 154/200 | Batch 000/088 | Gen/Dis Loss: 1.3672/0.5759\n",
            "Time elapsed: 1.13 min\n",
            "Epoch: 155/200 | Batch 000/088 | Gen/Dis Loss: 1.1996/0.3903\n",
            "Time elapsed: 1.13 min\n",
            "Epoch: 156/200 | Batch 000/088 | Gen/Dis Loss: 1.2186/0.4658\n",
            "Time elapsed: 1.14 min\n",
            "Epoch: 157/200 | Batch 000/088 | Gen/Dis Loss: 1.3778/0.4736\n",
            "Time elapsed: 1.15 min\n",
            "Epoch: 158/200 | Batch 000/088 | Gen/Dis Loss: 1.2478/0.5806\n",
            "Time elapsed: 1.16 min\n",
            "Epoch: 159/200 | Batch 000/088 | Gen/Dis Loss: 1.2777/0.5824\n"
          ]
        },
        {
          "output_type": "stream",
          "name": "stderr",
          "text": [
            "WARNING:matplotlib.image:Clipping input data to the valid range for imshow with RGB data ([0..1] for floats or [0..255] for integers).\n"
          ]
        },
        {
          "output_type": "stream",
          "name": "stdout",
          "text": [
            "Time elapsed: 1.16 min\n",
            "Epoch: 160/200 | Batch 000/088 | Gen/Dis Loss: 1.2788/0.4003\n",
            "Step 14000: Generator loss: 1.2063900748193255, discriminator loss: 0.5033746944963934\n"
          ]
        },
        {
          "output_type": "display_data",
          "data": {
            "text/plain": [
              "<Figure size 640x480 with 1 Axes>"
            ],
            "image/png": "[encoded data removed]"
          },
          "metadata": {}
        },
        {
          "output_type": "stream",
          "name": "stderr",
          "text": [
            "WARNING:matplotlib.image:Clipping input data to the valid range for imshow with RGB data ([0..1] for floats or [0..255] for integers).\n"
          ]
        },
        {
          "output_type": "display_data",
          "data": {
            "text/plain": [
              "<Figure size 640x480 with 1 Axes>"
            ],
            "image/png": "[encoded data removed]"
          },
          "metadata": {}
        },
        {
          "output_type": "stream",
          "name": "stdout",
          "text": [
            "Time elapsed: 1.17 min\n",
            "Epoch: 161/200 | Batch 000/088 | Gen/Dis Loss: 1.3281/0.5965\n",
            "Time elapsed: 1.18 min\n",
            "Epoch: 162/200 | Batch 000/088 | Gen/Dis Loss: 1.6063/0.3826\n",
            "Time elapsed: 1.19 min\n",
            "Epoch: 163/200 | Batch 000/088 | Gen/Dis Loss: 1.0749/0.6262\n",
            "Time elapsed: 1.19 min\n",
            "Epoch: 164/200 | Batch 000/088 | Gen/Dis Loss: 1.2051/0.5226\n",
            "Time elapsed: 1.20 min\n",
            "Epoch: 165/200 | Batch 000/088 | Gen/Dis Loss: 1.3260/0.3682\n",
            "Time elapsed: 1.21 min\n",
            "Epoch: 166/200 | Batch 000/088 | Gen/Dis Loss: 1.3140/0.4923\n",
            "Time elapsed: 1.22 min\n",
            "Epoch: 167/200 | Batch 000/088 | Gen/Dis Loss: 1.2519/0.5909\n",
            "Time elapsed: 1.23 min\n",
            "Epoch: 168/200 | Batch 000/088 | Gen/Dis Loss: 1.3502/0.3699\n",
            "Time elapsed: 1.24 min\n",
            "Epoch: 169/200 | Batch 000/088 | Gen/Dis Loss: 1.2285/0.5830\n",
            "Time elapsed: 1.24 min\n",
            "Epoch: 170/200 | Batch 000/088 | Gen/Dis Loss: 1.3775/0.3728\n",
            "Time elapsed: 1.25 min\n",
            "Epoch: 171/200 | Batch 000/088 | Gen/Dis Loss: 1.1223/0.3998\n",
            "Time elapsed: 1.26 min\n",
            "Epoch: 172/200 | Batch 000/088 | Gen/Dis Loss: 1.4131/0.4539\n",
            "Time elapsed: 1.27 min\n",
            "Epoch: 173/200 | Batch 000/088 | Gen/Dis Loss: 1.2471/0.6631\n",
            "Time elapsed: 1.27 min\n",
            "Epoch: 174/200 | Batch 000/088 | Gen/Dis Loss: 1.1516/0.4123\n",
            "Time elapsed: 1.28 min\n",
            "Epoch: 175/200 | Batch 000/088 | Gen/Dis Loss: 1.4487/0.4480\n",
            "Time elapsed: 1.29 min\n",
            "Epoch: 176/200 | Batch 000/088 | Gen/Dis Loss: 1.2785/0.4960\n",
            "Time elapsed: 1.29 min\n",
            "Epoch: 177/200 | Batch 000/088 | Gen/Dis Loss: 1.1174/0.6343\n",
            "Time elapsed: 1.30 min\n",
            "Epoch: 178/200 | Batch 000/088 | Gen/Dis Loss: 1.2909/0.4208\n",
            "Time elapsed: 1.31 min\n",
            "Epoch: 179/200 | Batch 000/088 | Gen/Dis Loss: 1.1587/0.4993\n",
            "Time elapsed: 1.31 min\n",
            "Epoch: 180/200 | Batch 000/088 | Gen/Dis Loss: 1.2743/0.4406\n",
            "Time elapsed: 1.32 min\n",
            "Epoch: 181/200 | Batch 000/088 | Gen/Dis Loss: 1.2178/0.3423\n",
            "Time elapsed: 1.33 min\n",
            "Epoch: 182/200 | Batch 000/088 | Gen/Dis Loss: 1.2447/0.5060\n"
          ]
        },
        {
          "output_type": "stream",
          "name": "stderr",
          "text": [
            "WARNING:matplotlib.image:Clipping input data to the valid range for imshow with RGB data ([0..1] for floats or [0..255] for integers).\n"
          ]
        },
        {
          "output_type": "stream",
          "name": "stdout",
          "text": [
            "Step 16000: Generator loss: 1.2424403089284917, discriminator loss: 0.49567755769193195\n"
          ]
        },
        {
          "output_type": "display_data",
          "data": {
            "text/plain": [
              "<Figure size 640x480 with 1 Axes>"
            ],
            "image/png": "[encoded data removed]"
          },
          "metadata": {}
        },
        {
          "output_type": "stream",
          "name": "stderr",
          "text": [
            "WARNING:matplotlib.image:Clipping input data to the valid range for imshow with RGB data ([0..1] for floats or [0..255] for integers).\n"
          ]
        },
        {
          "output_type": "display_data",
          "data": {
            "text/plain": [
              "<Figure size 640x480 with 1 Axes>"
            ],
            "image/png": "[encoded data removed]"
          },
          "metadata": {}
        },
        {
          "output_type": "stream",
          "name": "stdout",
          "text": [
            "Time elapsed: 1.34 min\n",
            "Epoch: 183/200 | Batch 000/088 | Gen/Dis Loss: 1.2904/0.3884\n",
            "Time elapsed: 1.34 min\n",
            "Epoch: 184/200 | Batch 000/088 | Gen/Dis Loss: 1.3702/0.5074\n",
            "Time elapsed: 1.35 min\n",
            "Epoch: 185/200 | Batch 000/088 | Gen/Dis Loss: 1.1991/0.6070\n",
            "Time elapsed: 1.36 min\n",
            "Epoch: 186/200 | Batch 000/088 | Gen/Dis Loss: 1.3580/0.4829\n",
            "Time elapsed: 1.36 min\n",
            "Epoch: 187/200 | Batch 000/088 | Gen/Dis Loss: 1.3991/0.4537\n",
            "Time elapsed: 1.37 min\n",
            "Epoch: 188/200 | Batch 000/088 | Gen/Dis Loss: 1.3211/0.5439\n",
            "Time elapsed: 1.38 min\n",
            "Epoch: 189/200 | Batch 000/088 | Gen/Dis Loss: 1.1975/0.4207\n",
            "Time elapsed: 1.39 min\n",
            "Epoch: 190/200 | Batch 000/088 | Gen/Dis Loss: 1.2425/0.4654\n",
            "Time elapsed: 1.39 min\n",
            "Epoch: 191/200 | Batch 000/088 | Gen/Dis Loss: 1.1379/0.4428\n",
            "Time elapsed: 1.40 min\n",
            "Epoch: 192/200 | Batch 000/088 | Gen/Dis Loss: 1.1942/0.4285\n",
            "Time elapsed: 1.41 min\n",
            "Epoch: 193/200 | Batch 000/088 | Gen/Dis Loss: 0.9039/0.5305\n",
            "Time elapsed: 1.41 min\n",
            "Epoch: 194/200 | Batch 000/088 | Gen/Dis Loss: 1.3650/0.4888\n",
            "Time elapsed: 1.42 min\n",
            "Epoch: 195/200 | Batch 000/088 | Gen/Dis Loss: 1.2852/0.4139\n",
            "Time elapsed: 1.43 min\n",
            "Epoch: 196/200 | Batch 000/088 | Gen/Dis Loss: 1.0752/0.5409\n",
            "Time elapsed: 1.44 min\n",
            "Epoch: 197/200 | Batch 000/088 | Gen/Dis Loss: 1.1517/0.4467\n",
            "Time elapsed: 1.45 min\n",
            "Epoch: 198/200 | Batch 000/088 | Gen/Dis Loss: 1.2250/0.3621\n",
            "Time elapsed: 1.46 min\n",
            "Epoch: 199/200 | Batch 000/088 | Gen/Dis Loss: 1.3221/0.2668\n",
            "Time elapsed: 1.46 min\n",
            "Epoch: 200/200 | Batch 000/088 | Gen/Dis Loss: 1.5224/0.3743\n",
            "Time elapsed: 1.47 min\n",
            "Total Training Time: 1.47 min\n"
          ]
        }
      ]
    },
    {
      "cell_type": "code",
      "source": [
        "import torch\n",
        "\n",
        "latent_dim = 100  # Dimension of the latent space\n",
        "num_images = 1000  # Number of fake images to generate\n",
        "image_size = (20, 20, 3)  # Size of the output image\n",
        "\n",
        "# Set the device (CPU or GPU)\n",
        "device = torch.device('cuda' if torch.cuda.is_available() else 'cpu')\n",
        "\n",
        "# Generate fake images\n",
        "model.eval()\n",
        "with torch.no_grad():\n",
        "    latent_vec = torch.randn(num_images, latent_dim, device=device)\n",
        "    fake_images = model.generator_forward(latent_vec)\n",
        "\n",
        "# Reshape the fake images to the desired size\n",
        "fake_images_reshaped = fake_images.reshape(num_images, *image_size)\n",
        "\n",
        "# Reshape the fake images to size 1200\n",
        "fake_images_reshaped = fake_images_reshaped.reshape(-1,1200)\n",
        "\n",
        "# Print the shape of the reshaped fake images\n",
        "print(fake_images_reshaped.shape)\n"
      ],
      "metadata": {
        "colab": {
          "base_uri": "https://localhost:8080/"
        },
        "id": "64ztPF1pmNLT",
        "outputId": "6bd11cdb-8d7c-4307-e526-d25ad5bc9e83"
      },
      "execution_count": null,
      "outputs": [
        {
          "output_type": "stream",
          "name": "stdout",
          "text": [
            "torch.Size([1000, 1200])\n"
          ]
        }
      ]
    },
    {
      "cell_type": "code",
      "source": [
        "fake_images = fake_images_reshaped.detach().cpu()"
      ],
      "metadata": {
        "id": "j-hx_WmdtEa-"
      },
      "execution_count": null,
      "outputs": []
    },
    {
      "cell_type": "code",
      "source": [
        "fake_images"
      ],
      "metadata": {
        "colab": {
          "base_uri": "https://localhost:8080/"
        },
        "id": "GHO_6YNMw1VF",
        "outputId": "d6f2abaf-e10d-45c8-e6d0-307ec40e9686"
      },
      "execution_count": null,
      "outputs": [
        {
          "output_type": "execute_result",
          "data": {
            "text/plain": [
              "tensor([[ 0.2382,  0.3923,  0.1506,  ..., -0.1328,  0.0085, -0.1039],\n",
              "        [ 0.1229,  0.0821,  0.0533,  ..., -0.1098, -0.1110,  0.0026],\n",
              "        [ 0.0294,  0.2316,  0.2876,  ..., -0.0093, -0.0455, -0.0495],\n",
              "        ...,\n",
              "        [ 0.0811,  0.0888,  0.0764,  ..., -0.0851,  0.0737, -0.0259],\n",
              "        [ 0.3239,  0.3075, -0.0231,  ..., -0.1183,  0.0662,  0.1905],\n",
              "        [-0.0749, -0.0933, -0.0998,  ..., -0.0750,  0.3272,  0.0768]])"
            ]
          },
          "metadata": {},
          "execution_count": 259
        }
      ]
    },
    {
      "cell_type": "code",
      "source": [
        "import pandas as pd\n",
        "\n",
        "# Convert tensor to a numpy array\n",
        "fake_images_np = fake_images.numpy()\n",
        "\n",
        "# Create a DataFrame from the numpy array\n",
        "df_fake_images = pd.DataFrame(fake_images_np)"
      ],
      "metadata": {
        "id": "0E51uRw-w3ic"
      },
      "execution_count": null,
      "outputs": []
    },
    {
      "cell_type": "code",
      "source": [
        "df_fake_images['labels']=0"
      ],
      "metadata": {
        "id": "vZrhhtDAygn8"
      },
      "execution_count": null,
      "outputs": []
    },
    {
      "cell_type": "code",
      "source": [
        "df"
      ],
      "metadata": {
        "colab": {
          "base_uri": "https://localhost:8080/",
          "height": 487
        },
        "id": "sQ5kOJnUykPW",
        "outputId": "f5d77f77-515c-4246-812b-773776568426"
      },
      "execution_count": null,
      "outputs": [
        {
          "output_type": "execute_result",
          "data": {
            "text/plain": [
              "      labels       f_0       f_1       f_2       f_3       f_4       f_5  \\\n",
              "1          1 -0.348835  0.294815 -0.557577 -2.020773 -1.234715  1.633930   \n",
              "2          1  0.113248 -0.607726 -0.947791  0.830851  0.998291  0.498321   \n",
              "10         1 -0.932571  1.366246  0.364603  2.126203  0.705695  0.066673   \n",
              "16         1 -1.593680 -0.731218 -0.052828 -0.458814 -0.476738  0.887608   \n",
              "20         1 -0.490307 -1.185301  0.156087 -0.416752  0.498768 -0.392604   \n",
              "...      ...       ...       ...       ...       ...       ...       ...   \n",
              "5234       1  0.379699  0.630899  0.572930  0.263760  0.495637  0.708191   \n",
              "5242       1  0.571858 -0.419412  0.001126  0.181357  3.095090  0.031165   \n",
              "5247       1 -0.375687  1.524455  0.012514 -0.007917  0.073809 -0.906909   \n",
              "5248       1 -0.478238  1.666142  0.049609 -0.428752 -0.362771  1.798104   \n",
              "5249       1 -0.750874  0.267008 -0.155041 -0.179867 -0.155041 -0.303999   \n",
              "\n",
              "           f_6       f_7       f_8  ...    f_1190    f_1191    f_1192  \\\n",
              "1    -1.680658 -0.358146  0.166122  ...  0.735240  0.829781  1.521941   \n",
              "2    -1.493958  0.789572 -1.311018  ...  0.104698  0.616189 -1.035953   \n",
              "10   -0.796001 -1.204584 -0.579558  ...  0.403565 -0.092736 -0.051202   \n",
              "16   -0.460991 -0.059051  1.114105  ...  0.547734 -0.512943 -0.023156   \n",
              "20    1.190598  1.749591  0.000897  ... -2.164895  1.039613  1.532804   \n",
              "...        ...       ...       ...  ...       ...       ...       ...   \n",
              "5234  0.572930 -1.475318  0.321730  ...  0.283083 -2.248242 -0.663748   \n",
              "5242  0.421665 -0.659720 -0.119027  ...  0.301511  0.421665 -2.762414   \n",
              "5247 -1.254247  1.606182  0.298557  ... -0.028349 -0.968204 -1.233815   \n",
              "5248 -0.214314  0.775400 -0.379267  ... -0.428752 -1.121552 -0.379267   \n",
              "5249 -0.279173  1.731765  0.564925  ... -0.303999 -0.850180  0.937321   \n",
              "\n",
              "        f_1193    f_1194    f_1195    f_1196    f_1197    f_1198    f_1199  \n",
              "1     1.347946  0.754505  1.330642 -0.754453  0.582956  0.252671  1.495870  \n",
              "2     2.111387 -0.984415  1.148076 -1.433554  0.243372  0.170083  1.274795  \n",
              "10    1.109147  0.028089 -0.467010 -0.072701  0.181085  1.065936 -1.294234  \n",
              "16   -0.021865  0.298182 -0.575766 -0.102218  0.731609 -0.248299  1.397388  \n",
              "20   -1.713240  1.544514 -0.233746  0.902512  1.131872 -0.936994  0.126443  \n",
              "...        ...       ...       ...       ...       ...       ...       ...  \n",
              "5234 -2.383504 -0.799010  1.287884  0.070529  0.418345  0.592253 -0.876302  \n",
              "5242  0.451704 -1.921336  0.902281 -0.509528  0.481742 -0.209143 -0.930066  \n",
              "5247  1.626613 -0.191802  1.115823  0.380284 -0.293960  0.135104  1.381434  \n",
              "5248 -0.593705  0.049609  1.765114  0.313533 -0.329781 -1.220524  0.033114  \n",
              "5249 -1.594972  1.036626  1.582807  1.036626 -0.254346  0.664230  1.831071  \n",
              "\n",
              "[1400 rows x 1201 columns]"
            ],
            "text/html": [
              "\n",
              "  <div id=\"df-35f7a3a6-c656-4380-b506-9282e374e6a6\">\n",
              "    <div class=\"colab-df-container\">\n",
              "      <div>\n",
              "<style scoped>\n",
              "    .dataframe tbody tr th:only-of-type {\n",
              "        vertical-align: middle;\n",
              "    }\n",
              "\n",
              "    .dataframe tbody tr th {\n",
              "        vertical-align: top;\n",
              "    }\n",
              "\n",
              "    .dataframe thead th {\n",
              "        text-align: right;\n",
              "    }\n",
              "</style>\n",
              "<table border=\"1\" class=\"dataframe\">\n",
              "  <thead>\n",
              "    <tr style=\"text-align: right;\">\n",
              "      <th></th>\n",
              "      <th>labels</th>\n",
              "      <th>f_0</th>\n",
              "      <th>f_1</th>\n",
              "      <th>f_2</th>\n",
              "      <th>f_3</th>\n",
              "      <th>f_4</th>\n",
              "      <th>f_5</th>\n",
              "      <th>f_6</th>\n",
              "      <th>f_7</th>\n",
              "      <th>f_8</th>\n",
              "      <th>...</th>\n",
              "      <th>f_1190</th>\n",
              "      <th>f_1191</th>\n",
              "      <th>f_1192</th>\n",
              "      <th>f_1193</th>\n",
              "      <th>f_1194</th>\n",
              "      <th>f_1195</th>\n",
              "      <th>f_1196</th>\n",
              "      <th>f_1197</th>\n",
              "      <th>f_1198</th>\n",
              "      <th>f_1199</th>\n",
              "    </tr>\n",
              "  </thead>\n",
              "  <tbody>\n",
              "    <tr>\n",
              "      <th>1</th>\n",
              "      <td>1</td>\n",
              "      <td>-0.348835</td>\n",
              "      <td>0.294815</td>\n",
              "      <td>-0.557577</td>\n",
              "      <td>-2.020773</td>\n",
              "      <td>-1.234715</td>\n",
              "      <td>1.633930</td>\n",
              "      <td>-1.680658</td>\n",
              "      <td>-0.358146</td>\n",
              "      <td>0.166122</td>\n",
              "      <td>...</td>\n",
              "      <td>0.735240</td>\n",
              "      <td>0.829781</td>\n",
              "      <td>1.521941</td>\n",
              "      <td>1.347946</td>\n",
              "      <td>0.754505</td>\n",
              "      <td>1.330642</td>\n",
              "      <td>-0.754453</td>\n",
              "      <td>0.582956</td>\n",
              "      <td>0.252671</td>\n",
              "      <td>1.495870</td>\n",
              "    </tr>\n",
              "    <tr>\n",
              "      <th>2</th>\n",
              "      <td>1</td>\n",
              "      <td>0.113248</td>\n",
              "      <td>-0.607726</td>\n",
              "      <td>-0.947791</td>\n",
              "      <td>0.830851</td>\n",
              "      <td>0.998291</td>\n",
              "      <td>0.498321</td>\n",
              "      <td>-1.493958</td>\n",
              "      <td>0.789572</td>\n",
              "      <td>-1.311018</td>\n",
              "      <td>...</td>\n",
              "      <td>0.104698</td>\n",
              "      <td>0.616189</td>\n",
              "      <td>-1.035953</td>\n",
              "      <td>2.111387</td>\n",
              "      <td>-0.984415</td>\n",
              "      <td>1.148076</td>\n",
              "      <td>-1.433554</td>\n",
              "      <td>0.243372</td>\n",
              "      <td>0.170083</td>\n",
              "      <td>1.274795</td>\n",
              "    </tr>\n",
              "    <tr>\n",
              "      <th>10</th>\n",
              "      <td>1</td>\n",
              "      <td>-0.932571</td>\n",
              "      <td>1.366246</td>\n",
              "      <td>0.364603</td>\n",
              "      <td>2.126203</td>\n",
              "      <td>0.705695</td>\n",
              "      <td>0.066673</td>\n",
              "      <td>-0.796001</td>\n",
              "      <td>-1.204584</td>\n",
              "      <td>-0.579558</td>\n",
              "      <td>...</td>\n",
              "      <td>0.403565</td>\n",
              "      <td>-0.092736</td>\n",
              "      <td>-0.051202</td>\n",
              "      <td>1.109147</td>\n",
              "      <td>0.028089</td>\n",
              "      <td>-0.467010</td>\n",
              "      <td>-0.072701</td>\n",
              "      <td>0.181085</td>\n",
              "      <td>1.065936</td>\n",
              "      <td>-1.294234</td>\n",
              "    </tr>\n",
              "    <tr>\n",
              "      <th>16</th>\n",
              "      <td>1</td>\n",
              "      <td>-1.593680</td>\n",
              "      <td>-0.731218</td>\n",
              "      <td>-0.052828</td>\n",
              "      <td>-0.458814</td>\n",
              "      <td>-0.476738</td>\n",
              "      <td>0.887608</td>\n",
              "      <td>-0.460991</td>\n",
              "      <td>-0.059051</td>\n",
              "      <td>1.114105</td>\n",
              "      <td>...</td>\n",
              "      <td>0.547734</td>\n",
              "      <td>-0.512943</td>\n",
              "      <td>-0.023156</td>\n",
              "      <td>-0.021865</td>\n",
              "      <td>0.298182</td>\n",
              "      <td>-0.575766</td>\n",
              "      <td>-0.102218</td>\n",
              "      <td>0.731609</td>\n",
              "      <td>-0.248299</td>\n",
              "      <td>1.397388</td>\n",
              "    </tr>\n",
              "    <tr>\n",
              "      <th>20</th>\n",
              "      <td>1</td>\n",
              "      <td>-0.490307</td>\n",
              "      <td>-1.185301</td>\n",
              "      <td>0.156087</td>\n",
              "      <td>-0.416752</td>\n",
              "      <td>0.498768</td>\n",
              "      <td>-0.392604</td>\n",
              "      <td>1.190598</td>\n",
              "      <td>1.749591</td>\n",
              "      <td>0.000897</td>\n",
              "      <td>...</td>\n",
              "      <td>-2.164895</td>\n",
              "      <td>1.039613</td>\n",
              "      <td>1.532804</td>\n",
              "      <td>-1.713240</td>\n",
              "      <td>1.544514</td>\n",
              "      <td>-0.233746</td>\n",
              "      <td>0.902512</td>\n",
              "      <td>1.131872</td>\n",
              "      <td>-0.936994</td>\n",
              "      <td>0.126443</td>\n",
              "    </tr>\n",
              "    <tr>\n",
              "      <th>...</th>\n",
              "      <td>...</td>\n",
              "      <td>...</td>\n",
              "      <td>...</td>\n",
              "      <td>...</td>\n",
              "      <td>...</td>\n",
              "      <td>...</td>\n",
              "      <td>...</td>\n",
              "      <td>...</td>\n",
              "      <td>...</td>\n",
              "      <td>...</td>\n",
              "      <td>...</td>\n",
              "      <td>...</td>\n",
              "      <td>...</td>\n",
              "      <td>...</td>\n",
              "      <td>...</td>\n",
              "      <td>...</td>\n",
              "      <td>...</td>\n",
              "      <td>...</td>\n",
              "      <td>...</td>\n",
              "      <td>...</td>\n",
              "      <td>...</td>\n",
              "    </tr>\n",
              "    <tr>\n",
              "      <th>5234</th>\n",
              "      <td>1</td>\n",
              "      <td>0.379699</td>\n",
              "      <td>0.630899</td>\n",
              "      <td>0.572930</td>\n",
              "      <td>0.263760</td>\n",
              "      <td>0.495637</td>\n",
              "      <td>0.708191</td>\n",
              "      <td>0.572930</td>\n",
              "      <td>-1.475318</td>\n",
              "      <td>0.321730</td>\n",
              "      <td>...</td>\n",
              "      <td>0.283083</td>\n",
              "      <td>-2.248242</td>\n",
              "      <td>-0.663748</td>\n",
              "      <td>-2.383504</td>\n",
              "      <td>-0.799010</td>\n",
              "      <td>1.287884</td>\n",
              "      <td>0.070529</td>\n",
              "      <td>0.418345</td>\n",
              "      <td>0.592253</td>\n",
              "      <td>-0.876302</td>\n",
              "    </tr>\n",
              "    <tr>\n",
              "      <th>5242</th>\n",
              "      <td>1</td>\n",
              "      <td>0.571858</td>\n",
              "      <td>-0.419412</td>\n",
              "      <td>0.001126</td>\n",
              "      <td>0.181357</td>\n",
              "      <td>3.095090</td>\n",
              "      <td>0.031165</td>\n",
              "      <td>0.421665</td>\n",
              "      <td>-0.659720</td>\n",
              "      <td>-0.119027</td>\n",
              "      <td>...</td>\n",
              "      <td>0.301511</td>\n",
              "      <td>0.421665</td>\n",
              "      <td>-2.762414</td>\n",
              "      <td>0.451704</td>\n",
              "      <td>-1.921336</td>\n",
              "      <td>0.902281</td>\n",
              "      <td>-0.509528</td>\n",
              "      <td>0.481742</td>\n",
              "      <td>-0.209143</td>\n",
              "      <td>-0.930066</td>\n",
              "    </tr>\n",
              "    <tr>\n",
              "      <th>5247</th>\n",
              "      <td>1</td>\n",
              "      <td>-0.375687</td>\n",
              "      <td>1.524455</td>\n",
              "      <td>0.012514</td>\n",
              "      <td>-0.007917</td>\n",
              "      <td>0.073809</td>\n",
              "      <td>-0.906909</td>\n",
              "      <td>-1.254247</td>\n",
              "      <td>1.606182</td>\n",
              "      <td>0.298557</td>\n",
              "      <td>...</td>\n",
              "      <td>-0.028349</td>\n",
              "      <td>-0.968204</td>\n",
              "      <td>-1.233815</td>\n",
              "      <td>1.626613</td>\n",
              "      <td>-0.191802</td>\n",
              "      <td>1.115823</td>\n",
              "      <td>0.380284</td>\n",
              "      <td>-0.293960</td>\n",
              "      <td>0.135104</td>\n",
              "      <td>1.381434</td>\n",
              "    </tr>\n",
              "    <tr>\n",
              "      <th>5248</th>\n",
              "      <td>1</td>\n",
              "      <td>-0.478238</td>\n",
              "      <td>1.666142</td>\n",
              "      <td>0.049609</td>\n",
              "      <td>-0.428752</td>\n",
              "      <td>-0.362771</td>\n",
              "      <td>1.798104</td>\n",
              "      <td>-0.214314</td>\n",
              "      <td>0.775400</td>\n",
              "      <td>-0.379267</td>\n",
              "      <td>...</td>\n",
              "      <td>-0.428752</td>\n",
              "      <td>-1.121552</td>\n",
              "      <td>-0.379267</td>\n",
              "      <td>-0.593705</td>\n",
              "      <td>0.049609</td>\n",
              "      <td>1.765114</td>\n",
              "      <td>0.313533</td>\n",
              "      <td>-0.329781</td>\n",
              "      <td>-1.220524</td>\n",
              "      <td>0.033114</td>\n",
              "    </tr>\n",
              "    <tr>\n",
              "      <th>5249</th>\n",
              "      <td>1</td>\n",
              "      <td>-0.750874</td>\n",
              "      <td>0.267008</td>\n",
              "      <td>-0.155041</td>\n",
              "      <td>-0.179867</td>\n",
              "      <td>-0.155041</td>\n",
              "      <td>-0.303999</td>\n",
              "      <td>-0.279173</td>\n",
              "      <td>1.731765</td>\n",
              "      <td>0.564925</td>\n",
              "      <td>...</td>\n",
              "      <td>-0.303999</td>\n",
              "      <td>-0.850180</td>\n",
              "      <td>0.937321</td>\n",
              "      <td>-1.594972</td>\n",
              "      <td>1.036626</td>\n",
              "      <td>1.582807</td>\n",
              "      <td>1.036626</td>\n",
              "      <td>-0.254346</td>\n",
              "      <td>0.664230</td>\n",
              "      <td>1.831071</td>\n",
              "    </tr>\n",
              "  </tbody>\n",
              "</table>\n",
              "<p>1400 rows × 1201 columns</p>\n",
              "</div>\n",
              "      <button class=\"colab-df-convert\" onclick=\"convertToInteractive('df-35f7a3a6-c656-4380-b506-9282e374e6a6')\"\n",
              "              title=\"Convert this dataframe to an interactive table.\"\n",
              "              style=\"display:none;\">\n",
              "        \n",
              "  <svg xmlns=\"http://www.w3.org/2000/svg\" height=\"24px\"viewBox=\"0 0 24 24\"\n",
              "       width=\"24px\">\n",
              "    <path d=\"M0 0h24v24H0V0z\" fill=\"none\"/>\n",
              "    <path d=\"M18.56 5.44l.94 2.06.94-2.06 2.06-.94-2.06-.94-.94-2.06-.94 2.06-2.06.94zm-11 1L8.5 8.5l.94-2.06 2.06-.94-2.06-.94L8.5 2.5l-.94 2.06-2.06.94zm10 10l.94 2.06.94-2.06 2.06-.94-2.06-.94-.94-2.06-.94 2.06-2.06.94z\"/><path d=\"M17.41 7.96l-1.37-1.37c-.4-.4-.92-.59-1.43-.59-.52 0-1.04.2-1.43.59L10.3 9.45l-7.72 7.72c-.78.78-.78 2.05 0 2.83L4 21.41c.39.39.9.59 1.41.59.51 0 1.02-.2 1.41-.59l7.78-7.78 2.81-2.81c.8-.78.8-2.07 0-2.86zM5.41 20L4 18.59l7.72-7.72 1.47 1.35L5.41 20z\"/>\n",
              "  </svg>\n",
              "      </button>\n",
              "      \n",
              "  <style>\n",
              "    .colab-df-container {\n",
              "      display:flex;\n",
              "      flex-wrap:wrap;\n",
              "      gap: 12px;\n",
              "    }\n",
              "\n",
              "    .colab-df-convert {\n",
              "      background-color: #E8F0FE;\n",
              "      border: none;\n",
              "      border-radius: 50%;\n",
              "      cursor: pointer;\n",
              "      display: none;\n",
              "      fill: #1967D2;\n",
              "      height: 32px;\n",
              "      padding: 0 0 0 0;\n",
              "      width: 32px;\n",
              "    }\n",
              "\n",
              "    .colab-df-convert:hover {\n",
              "      background-color: #E2EBFA;\n",
              "      box-shadow: 0px 1px 2px rgba(60, 64, 67, 0.3), 0px 1px 3px 1px rgba(60, 64, 67, 0.15);\n",
              "      fill: #174EA6;\n",
              "    }\n",
              "\n",
              "    [theme=dark] .colab-df-convert {\n",
              "      background-color: #3B4455;\n",
              "      fill: #D2E3FC;\n",
              "    }\n",
              "\n",
              "    [theme=dark] .colab-df-convert:hover {\n",
              "      background-color: #434B5C;\n",
              "      box-shadow: 0px 1px 3px 1px rgba(0, 0, 0, 0.15);\n",
              "      filter: drop-shadow(0px 1px 2px rgba(0, 0, 0, 0.3));\n",
              "      fill: #FFFFFF;\n",
              "    }\n",
              "  </style>\n",
              "\n",
              "      <script>\n",
              "        const buttonEl =\n",
              "          document.querySelector('#df-35f7a3a6-c656-4380-b506-9282e374e6a6 button.colab-df-convert');\n",
              "        buttonEl.style.display =\n",
              "          google.colab.kernel.accessAllowed ? 'block' : 'none';\n",
              "\n",
              "        async function convertToInteractive(key) {\n",
              "          const element = document.querySelector('#df-35f7a3a6-c656-4380-b506-9282e374e6a6');\n",
              "          const dataTable =\n",
              "            await google.colab.kernel.invokeFunction('convertToInteractive',\n",
              "                                                     [key], {});\n",
              "          if (!dataTable) return;\n",
              "\n",
              "          const docLinkHtml = 'Like what you see? Visit the ' +\n",
              "            '<a target=\"_blank\" href=https://colab.research.google.com/notebooks/data_table.ipynb>data table notebook</a>'\n",
              "            + ' to learn more about interactive tables.';\n",
              "          element.innerHTML = '';\n",
              "          dataTable['output_type'] = 'display_data';\n",
              "          await google.colab.output.renderOutput(dataTable, element);\n",
              "          const docLink = document.createElement('div');\n",
              "          docLink.innerHTML = docLinkHtml;\n",
              "          element.appendChild(docLink);\n",
              "        }\n",
              "      </script>\n",
              "    </div>\n",
              "  </div>\n",
              "  "
            ]
          },
          "metadata": {},
          "execution_count": 262
        }
      ]
    },
    {
      "cell_type": "code",
      "source": [
        "df_fake_images"
      ],
      "metadata": {
        "colab": {
          "base_uri": "https://localhost:8080/",
          "height": 487
        },
        "id": "631scoUJylFB",
        "outputId": "2137bbff-ae61-4bd7-924e-29a2433064ee"
      },
      "execution_count": null,
      "outputs": [
        {
          "output_type": "execute_result",
          "data": {
            "text/plain": [
              "            0         1         2         3         4         5         6  \\\n",
              "0    0.238246  0.392266  0.150611 -0.284329  0.167959  0.314792 -0.040100   \n",
              "1    0.122927  0.082059  0.053329 -0.036490 -0.165812  0.041343 -0.064117   \n",
              "2    0.029397  0.231614  0.287596 -0.104561 -0.156487  0.117654  0.172228   \n",
              "3    0.149740  0.282121 -0.060715  0.032427 -0.051377  0.052714 -0.224667   \n",
              "4   -0.065053 -0.130018 -0.179763  0.121209 -0.219542  0.029462 -0.148946   \n",
              "..        ...       ...       ...       ...       ...       ...       ...   \n",
              "995  0.032619  0.054925  0.134769  0.043364 -0.158552 -0.025631 -0.003317   \n",
              "996  0.133712 -0.025847  0.176157  0.099945 -0.024644  0.064734  0.011895   \n",
              "997  0.081054  0.088838  0.076350 -0.198130 -0.068549  0.054289 -0.036627   \n",
              "998  0.323944  0.307539 -0.023100 -0.121832 -0.330716  0.147881  0.102595   \n",
              "999 -0.074871 -0.093286 -0.099832  0.089797 -0.314294 -0.095082 -0.198595   \n",
              "\n",
              "            7         8         9  ...      1191      1192      1193  \\\n",
              "0   -0.195428 -0.231216 -0.026123  ... -0.240865 -0.257597  0.182887   \n",
              "1   -0.162599 -0.161081  0.083927  ...  0.108680  0.033656  0.197786   \n",
              "2   -0.105486 -0.042735  0.048607  ...  0.133126 -0.130724  0.247484   \n",
              "3   -0.474130 -0.302838  0.158323  ... -0.077045 -0.026073 -0.043728   \n",
              "4   -0.211331  0.068780  0.443944  ...  0.097661  0.013267  0.153721   \n",
              "..        ...       ...       ...  ...       ...       ...       ...   \n",
              "995 -0.129884  0.131056  0.151469  ... -0.089673  0.032503  0.141775   \n",
              "996 -0.100896 -0.021891  0.089863  ...  0.003523 -0.002726  0.109547   \n",
              "997 -0.144169 -0.068445  0.124468  ... -0.007487 -0.016093  0.084420   \n",
              "998 -0.017803  0.116040  0.226677  ...  0.291349 -0.065324 -0.206377   \n",
              "999 -0.203518  0.047006  0.184393  ...  0.301300 -0.037869  0.118357   \n",
              "\n",
              "         1194      1195      1196      1197      1198      1199  labels  \n",
              "0    0.073472  0.266318  0.305891 -0.132838  0.008452 -0.103883       0  \n",
              "1   -0.055206  0.020293 -0.017204 -0.109771 -0.111014  0.002577       0  \n",
              "2    0.289062 -0.089425 -0.079093 -0.009318 -0.045480 -0.049537       0  \n",
              "3    0.136905  0.014714  0.203610 -0.378908  0.236178  0.161909       0  \n",
              "4   -0.233628 -0.258758 -0.063326 -0.466874  0.460625  0.161377       0  \n",
              "..        ...       ...       ...       ...       ...       ...     ...  \n",
              "995  0.108204  0.057318  0.052983 -0.043505  0.066747  0.009167       0  \n",
              "996  0.053293 -0.061463  0.025893 -0.016640  0.217587  0.113292       0  \n",
              "997  0.038728 -0.028710  0.262440 -0.085127  0.073695 -0.025943       0  \n",
              "998 -0.244469  0.033696  0.271745 -0.118332  0.066223  0.190489       0  \n",
              "999 -0.052572 -0.209526 -0.013123 -0.074971  0.327230  0.076825       0  \n",
              "\n",
              "[1000 rows x 1201 columns]"
            ],
            "text/html": [
              "\n",
              "  <div id=\"df-760d97bb-7fb8-4ce1-a985-90e153111e22\">\n",
              "    <div class=\"colab-df-container\">\n",
              "      <div>\n",
              "<style scoped>\n",
              "    .dataframe tbody tr th:only-of-type {\n",
              "        vertical-align: middle;\n",
              "    }\n",
              "\n",
              "    .dataframe tbody tr th {\n",
              "        vertical-align: top;\n",
              "    }\n",
              "\n",
              "    .dataframe thead th {\n",
              "        text-align: right;\n",
              "    }\n",
              "</style>\n",
              "<table border=\"1\" class=\"dataframe\">\n",
              "  <thead>\n",
              "    <tr style=\"text-align: right;\">\n",
              "      <th></th>\n",
              "      <th>0</th>\n",
              "      <th>1</th>\n",
              "      <th>2</th>\n",
              "      <th>3</th>\n",
              "      <th>4</th>\n",
              "      <th>5</th>\n",
              "      <th>6</th>\n",
              "      <th>7</th>\n",
              "      <th>8</th>\n",
              "      <th>9</th>\n",
              "      <th>...</th>\n",
              "      <th>1191</th>\n",
              "      <th>1192</th>\n",
              "      <th>1193</th>\n",
              "      <th>1194</th>\n",
              "      <th>1195</th>\n",
              "      <th>1196</th>\n",
              "      <th>1197</th>\n",
              "      <th>1198</th>\n",
              "      <th>1199</th>\n",
              "      <th>labels</th>\n",
              "    </tr>\n",
              "  </thead>\n",
              "  <tbody>\n",
              "    <tr>\n",
              "      <th>0</th>\n",
              "      <td>0.238246</td>\n",
              "      <td>0.392266</td>\n",
              "      <td>0.150611</td>\n",
              "      <td>-0.284329</td>\n",
              "      <td>0.167959</td>\n",
              "      <td>0.314792</td>\n",
              "      <td>-0.040100</td>\n",
              "      <td>-0.195428</td>\n",
              "      <td>-0.231216</td>\n",
              "      <td>-0.026123</td>\n",
              "      <td>...</td>\n",
              "      <td>-0.240865</td>\n",
              "      <td>-0.257597</td>\n",
              "      <td>0.182887</td>\n",
              "      <td>0.073472</td>\n",
              "      <td>0.266318</td>\n",
              "      <td>0.305891</td>\n",
              "      <td>-0.132838</td>\n",
              "      <td>0.008452</td>\n",
              "      <td>-0.103883</td>\n",
              "      <td>0</td>\n",
              "    </tr>\n",
              "    <tr>\n",
              "      <th>1</th>\n",
              "      <td>0.122927</td>\n",
              "      <td>0.082059</td>\n",
              "      <td>0.053329</td>\n",
              "      <td>-0.036490</td>\n",
              "      <td>-0.165812</td>\n",
              "      <td>0.041343</td>\n",
              "      <td>-0.064117</td>\n",
              "      <td>-0.162599</td>\n",
              "      <td>-0.161081</td>\n",
              "      <td>0.083927</td>\n",
              "      <td>...</td>\n",
              "      <td>0.108680</td>\n",
              "      <td>0.033656</td>\n",
              "      <td>0.197786</td>\n",
              "      <td>-0.055206</td>\n",
              "      <td>0.020293</td>\n",
              "      <td>-0.017204</td>\n",
              "      <td>-0.109771</td>\n",
              "      <td>-0.111014</td>\n",
              "      <td>0.002577</td>\n",
              "      <td>0</td>\n",
              "    </tr>\n",
              "    <tr>\n",
              "      <th>2</th>\n",
              "      <td>0.029397</td>\n",
              "      <td>0.231614</td>\n",
              "      <td>0.287596</td>\n",
              "      <td>-0.104561</td>\n",
              "      <td>-0.156487</td>\n",
              "      <td>0.117654</td>\n",
              "      <td>0.172228</td>\n",
              "      <td>-0.105486</td>\n",
              "      <td>-0.042735</td>\n",
              "      <td>0.048607</td>\n",
              "      <td>...</td>\n",
              "      <td>0.133126</td>\n",
              "      <td>-0.130724</td>\n",
              "      <td>0.247484</td>\n",
              "      <td>0.289062</td>\n",
              "      <td>-0.089425</td>\n",
              "      <td>-0.079093</td>\n",
              "      <td>-0.009318</td>\n",
              "      <td>-0.045480</td>\n",
              "      <td>-0.049537</td>\n",
              "      <td>0</td>\n",
              "    </tr>\n",
              "    <tr>\n",
              "      <th>3</th>\n",
              "      <td>0.149740</td>\n",
              "      <td>0.282121</td>\n",
              "      <td>-0.060715</td>\n",
              "      <td>0.032427</td>\n",
              "      <td>-0.051377</td>\n",
              "      <td>0.052714</td>\n",
              "      <td>-0.224667</td>\n",
              "      <td>-0.474130</td>\n",
              "      <td>-0.302838</td>\n",
              "      <td>0.158323</td>\n",
              "      <td>...</td>\n",
              "      <td>-0.077045</td>\n",
              "      <td>-0.026073</td>\n",
              "      <td>-0.043728</td>\n",
              "      <td>0.136905</td>\n",
              "      <td>0.014714</td>\n",
              "      <td>0.203610</td>\n",
              "      <td>-0.378908</td>\n",
              "      <td>0.236178</td>\n",
              "      <td>0.161909</td>\n",
              "      <td>0</td>\n",
              "    </tr>\n",
              "    <tr>\n",
              "      <th>4</th>\n",
              "      <td>-0.065053</td>\n",
              "      <td>-0.130018</td>\n",
              "      <td>-0.179763</td>\n",
              "      <td>0.121209</td>\n",
              "      <td>-0.219542</td>\n",
              "      <td>0.029462</td>\n",
              "      <td>-0.148946</td>\n",
              "      <td>-0.211331</td>\n",
              "      <td>0.068780</td>\n",
              "      <td>0.443944</td>\n",
              "      <td>...</td>\n",
              "      <td>0.097661</td>\n",
              "      <td>0.013267</td>\n",
              "      <td>0.153721</td>\n",
              "      <td>-0.233628</td>\n",
              "      <td>-0.258758</td>\n",
              "      <td>-0.063326</td>\n",
              "      <td>-0.466874</td>\n",
              "      <td>0.460625</td>\n",
              "      <td>0.161377</td>\n",
              "      <td>0</td>\n",
              "    </tr>\n",
              "    <tr>\n",
              "      <th>...</th>\n",
              "      <td>...</td>\n",
              "      <td>...</td>\n",
              "      <td>...</td>\n",
              "      <td>...</td>\n",
              "      <td>...</td>\n",
              "      <td>...</td>\n",
              "      <td>...</td>\n",
              "      <td>...</td>\n",
              "      <td>...</td>\n",
              "      <td>...</td>\n",
              "      <td>...</td>\n",
              "      <td>...</td>\n",
              "      <td>...</td>\n",
              "      <td>...</td>\n",
              "      <td>...</td>\n",
              "      <td>...</td>\n",
              "      <td>...</td>\n",
              "      <td>...</td>\n",
              "      <td>...</td>\n",
              "      <td>...</td>\n",
              "      <td>...</td>\n",
              "    </tr>\n",
              "    <tr>\n",
              "      <th>995</th>\n",
              "      <td>0.032619</td>\n",
              "      <td>0.054925</td>\n",
              "      <td>0.134769</td>\n",
              "      <td>0.043364</td>\n",
              "      <td>-0.158552</td>\n",
              "      <td>-0.025631</td>\n",
              "      <td>-0.003317</td>\n",
              "      <td>-0.129884</td>\n",
              "      <td>0.131056</td>\n",
              "      <td>0.151469</td>\n",
              "      <td>...</td>\n",
              "      <td>-0.089673</td>\n",
              "      <td>0.032503</td>\n",
              "      <td>0.141775</td>\n",
              "      <td>0.108204</td>\n",
              "      <td>0.057318</td>\n",
              "      <td>0.052983</td>\n",
              "      <td>-0.043505</td>\n",
              "      <td>0.066747</td>\n",
              "      <td>0.009167</td>\n",
              "      <td>0</td>\n",
              "    </tr>\n",
              "    <tr>\n",
              "      <th>996</th>\n",
              "      <td>0.133712</td>\n",
              "      <td>-0.025847</td>\n",
              "      <td>0.176157</td>\n",
              "      <td>0.099945</td>\n",
              "      <td>-0.024644</td>\n",
              "      <td>0.064734</td>\n",
              "      <td>0.011895</td>\n",
              "      <td>-0.100896</td>\n",
              "      <td>-0.021891</td>\n",
              "      <td>0.089863</td>\n",
              "      <td>...</td>\n",
              "      <td>0.003523</td>\n",
              "      <td>-0.002726</td>\n",
              "      <td>0.109547</td>\n",
              "      <td>0.053293</td>\n",
              "      <td>-0.061463</td>\n",
              "      <td>0.025893</td>\n",
              "      <td>-0.016640</td>\n",
              "      <td>0.217587</td>\n",
              "      <td>0.113292</td>\n",
              "      <td>0</td>\n",
              "    </tr>\n",
              "    <tr>\n",
              "      <th>997</th>\n",
              "      <td>0.081054</td>\n",
              "      <td>0.088838</td>\n",
              "      <td>0.076350</td>\n",
              "      <td>-0.198130</td>\n",
              "      <td>-0.068549</td>\n",
              "      <td>0.054289</td>\n",
              "      <td>-0.036627</td>\n",
              "      <td>-0.144169</td>\n",
              "      <td>-0.068445</td>\n",
              "      <td>0.124468</td>\n",
              "      <td>...</td>\n",
              "      <td>-0.007487</td>\n",
              "      <td>-0.016093</td>\n",
              "      <td>0.084420</td>\n",
              "      <td>0.038728</td>\n",
              "      <td>-0.028710</td>\n",
              "      <td>0.262440</td>\n",
              "      <td>-0.085127</td>\n",
              "      <td>0.073695</td>\n",
              "      <td>-0.025943</td>\n",
              "      <td>0</td>\n",
              "    </tr>\n",
              "    <tr>\n",
              "      <th>998</th>\n",
              "      <td>0.323944</td>\n",
              "      <td>0.307539</td>\n",
              "      <td>-0.023100</td>\n",
              "      <td>-0.121832</td>\n",
              "      <td>-0.330716</td>\n",
              "      <td>0.147881</td>\n",
              "      <td>0.102595</td>\n",
              "      <td>-0.017803</td>\n",
              "      <td>0.116040</td>\n",
              "      <td>0.226677</td>\n",
              "      <td>...</td>\n",
              "      <td>0.291349</td>\n",
              "      <td>-0.065324</td>\n",
              "      <td>-0.206377</td>\n",
              "      <td>-0.244469</td>\n",
              "      <td>0.033696</td>\n",
              "      <td>0.271745</td>\n",
              "      <td>-0.118332</td>\n",
              "      <td>0.066223</td>\n",
              "      <td>0.190489</td>\n",
              "      <td>0</td>\n",
              "    </tr>\n",
              "    <tr>\n",
              "      <th>999</th>\n",
              "      <td>-0.074871</td>\n",
              "      <td>-0.093286</td>\n",
              "      <td>-0.099832</td>\n",
              "      <td>0.089797</td>\n",
              "      <td>-0.314294</td>\n",
              "      <td>-0.095082</td>\n",
              "      <td>-0.198595</td>\n",
              "      <td>-0.203518</td>\n",
              "      <td>0.047006</td>\n",
              "      <td>0.184393</td>\n",
              "      <td>...</td>\n",
              "      <td>0.301300</td>\n",
              "      <td>-0.037869</td>\n",
              "      <td>0.118357</td>\n",
              "      <td>-0.052572</td>\n",
              "      <td>-0.209526</td>\n",
              "      <td>-0.013123</td>\n",
              "      <td>-0.074971</td>\n",
              "      <td>0.327230</td>\n",
              "      <td>0.076825</td>\n",
              "      <td>0</td>\n",
              "    </tr>\n",
              "  </tbody>\n",
              "</table>\n",
              "<p>1000 rows × 1201 columns</p>\n",
              "</div>\n",
              "      <button class=\"colab-df-convert\" onclick=\"convertToInteractive('df-760d97bb-7fb8-4ce1-a985-90e153111e22')\"\n",
              "              title=\"Convert this dataframe to an interactive table.\"\n",
              "              style=\"display:none;\">\n",
              "        \n",
              "  <svg xmlns=\"http://www.w3.org/2000/svg\" height=\"24px\"viewBox=\"0 0 24 24\"\n",
              "       width=\"24px\">\n",
              "    <path d=\"M0 0h24v24H0V0z\" fill=\"none\"/>\n",
              "    <path d=\"M18.56 5.44l.94 2.06.94-2.06 2.06-.94-2.06-.94-.94-2.06-.94 2.06-2.06.94zm-11 1L8.5 8.5l.94-2.06 2.06-.94-2.06-.94L8.5 2.5l-.94 2.06-2.06.94zm10 10l.94 2.06.94-2.06 2.06-.94-2.06-.94-.94-2.06-.94 2.06-2.06.94z\"/><path d=\"M17.41 7.96l-1.37-1.37c-.4-.4-.92-.59-1.43-.59-.52 0-1.04.2-1.43.59L10.3 9.45l-7.72 7.72c-.78.78-.78 2.05 0 2.83L4 21.41c.39.39.9.59 1.41.59.51 0 1.02-.2 1.41-.59l7.78-7.78 2.81-2.81c.8-.78.8-2.07 0-2.86zM5.41 20L4 18.59l7.72-7.72 1.47 1.35L5.41 20z\"/>\n",
              "  </svg>\n",
              "      </button>\n",
              "      \n",
              "  <style>\n",
              "    .colab-df-container {\n",
              "      display:flex;\n",
              "      flex-wrap:wrap;\n",
              "      gap: 12px;\n",
              "    }\n",
              "\n",
              "    .colab-df-convert {\n",
              "      background-color: #E8F0FE;\n",
              "      border: none;\n",
              "      border-radius: 50%;\n",
              "      cursor: pointer;\n",
              "      display: none;\n",
              "      fill: #1967D2;\n",
              "      height: 32px;\n",
              "      padding: 0 0 0 0;\n",
              "      width: 32px;\n",
              "    }\n",
              "\n",
              "    .colab-df-convert:hover {\n",
              "      background-color: #E2EBFA;\n",
              "      box-shadow: 0px 1px 2px rgba(60, 64, 67, 0.3), 0px 1px 3px 1px rgba(60, 64, 67, 0.15);\n",
              "      fill: #174EA6;\n",
              "    }\n",
              "\n",
              "    [theme=dark] .colab-df-convert {\n",
              "      background-color: #3B4455;\n",
              "      fill: #D2E3FC;\n",
              "    }\n",
              "\n",
              "    [theme=dark] .colab-df-convert:hover {\n",
              "      background-color: #434B5C;\n",
              "      box-shadow: 0px 1px 3px 1px rgba(0, 0, 0, 0.15);\n",
              "      filter: drop-shadow(0px 1px 2px rgba(0, 0, 0, 0.3));\n",
              "      fill: #FFFFFF;\n",
              "    }\n",
              "  </style>\n",
              "\n",
              "      <script>\n",
              "        const buttonEl =\n",
              "          document.querySelector('#df-760d97bb-7fb8-4ce1-a985-90e153111e22 button.colab-df-convert');\n",
              "        buttonEl.style.display =\n",
              "          google.colab.kernel.accessAllowed ? 'block' : 'none';\n",
              "\n",
              "        async function convertToInteractive(key) {\n",
              "          const element = document.querySelector('#df-760d97bb-7fb8-4ce1-a985-90e153111e22');\n",
              "          const dataTable =\n",
              "            await google.colab.kernel.invokeFunction('convertToInteractive',\n",
              "                                                     [key], {});\n",
              "          if (!dataTable) return;\n",
              "\n",
              "          const docLinkHtml = 'Like what you see? Visit the ' +\n",
              "            '<a target=\"_blank\" href=https://colab.research.google.com/notebooks/data_table.ipynb>data table notebook</a>'\n",
              "            + ' to learn more about interactive tables.';\n",
              "          element.innerHTML = '';\n",
              "          dataTable['output_type'] = 'display_data';\n",
              "          await google.colab.output.renderOutput(dataTable, element);\n",
              "          const docLink = document.createElement('div');\n",
              "          docLink.innerHTML = docLinkHtml;\n",
              "          element.appendChild(docLink);\n",
              "        }\n",
              "      </script>\n",
              "    </div>\n",
              "  </div>\n",
              "  "
            ]
          },
          "metadata": {},
          "execution_count": 263
        }
      ]
    },
    {
      "cell_type": "code",
      "source": [
        "df = pd.read_csv('train.csv')"
      ],
      "metadata": {
        "id": "oUBLHB7Fz_1L"
      },
      "execution_count": null,
      "outputs": []
    },
    {
      "cell_type": "code",
      "source": [
        "true_img = df.iloc[:, 1:]\n",
        "true_img"
      ],
      "metadata": {
        "id": "377C16km0d5f"
      },
      "execution_count": null,
      "outputs": []
    },
    {
      "cell_type": "code",
      "source": [
        "true_img = scaler.fit_transform(true_img)"
      ],
      "metadata": {
        "id": "kLq-RYj-00Ba"
      },
      "execution_count": null,
      "outputs": []
    },
    {
      "cell_type": "code",
      "source": [
        "true_img"
      ],
      "metadata": {
        "id": "VVbfGJEk05JS"
      },
      "execution_count": null,
      "outputs": []
    },
    {
      "cell_type": "code",
      "source": [
        "combine = np.concatenate((fake_images_np, true_img), axis=0)"
      ],
      "metadata": {
        "id": "Iq8Cgl-8yqFE"
      },
      "execution_count": null,
      "outputs": []
    },
    {
      "cell_type": "code",
      "source": [
        "true_lbl = df.iloc[:,0]\n",
        "fake_lbl = np.zeros(1000)"
      ],
      "metadata": {
        "id": "bnNSMLh11ETI"
      },
      "execution_count": null,
      "outputs": []
    },
    {
      "cell_type": "code",
      "source": [
        "lbl = np.concatenate((fake_lbl,true_lbl), axis=0)"
      ],
      "metadata": {
        "id": "VfNi7hC41Ykx"
      },
      "execution_count": null,
      "outputs": []
    },
    {
      "cell_type": "markdown",
      "source": [
        "## ViT"
      ],
      "metadata": {
        "id": "xbLSSYWvNOIB"
      }
    },
    {
      "cell_type": "code",
      "source": [
        "!!pip install transformers"
      ],
      "metadata": {
        "id": "EKzBBbq0Voe7"
      },
      "execution_count": null,
      "outputs": []
    },
    {
      "cell_type": "code",
      "source": [
        "from transformers import ViTModel"
      ],
      "metadata": {
        "id": "Zz6K9gQAYb44"
      },
      "execution_count": null,
      "outputs": []
    },
    {
      "cell_type": "code",
      "source": [
        "# Load pretrained model\n",
        "model_checkpoint = 'google/vit-base-patch16-224-in21k'\n",
        "model = ViTModel.from_pretrained(model_checkpoint, add_pooling_layer=False)"
      ],
      "metadata": {
        "colab": {
          "base_uri": "https://localhost:8080/",
          "height": 209,
          "referenced_widgets": [
            "a535e752604248c08ba6c1ea72652f9e",
            "cc429e88ee414704b9c6e505df28d5a7",
            "3e475c0903524c93b711c06ec877217a",
            "728cbad8fe6243318086483f892f9507",
            "f12c981a0e7a4c009664323271eddf3d",
            "59c6f409ab344eedb9dd8b0abbbddf51",
            "40e027f68f44400188dc863331c63f18",
            "783d905d815c4309a59a359227ecca1d",
            "318035a286e449c6ad33eedb9bce948b",
            "6fff100304de4066a396ea374c503e3b",
            "91f1948dee4b4d748faea9a570449d29",
            "1f0d0ed72b4f4c6db00cba2627b6f3e8",
            "cac051e1b0b24c9b9e95b5fccf140879",
            "aa8cb784f8fb45fda5899e247195c2f6",
            "4969d7b429c6416cbb78470f6daa793f",
            "f5a30b106dff4262be103c1a0ea2a8e9",
            "85335a66934e41d3b40141b9eaf6a1a8",
            "d8ed265219dd44adb8f97fb2ceef9886",
            "c0b502eaad374f53b7425711f7fea0e2",
            "dd8e88cef3de4ee0a1cb322c4855f97e",
            "f084d14f0f2c4988bbd2301216786c96",
            "b6699d7ceeb34aebb2658d76101cc7ba"
          ]
        },
        "id": "GAX6T_z-Yesc",
        "outputId": "63c6e1b3-fe54-4d84-d409-d051a63d9472"
      },
      "execution_count": null,
      "outputs": [
        {
          "output_type": "display_data",
          "data": {
            "text/plain": [
              "Downloading (…)lve/main/config.json:   0%|          | 0.00/502 [00:00<?, ?B/s]"
            ],
            "application/vnd.jupyter.widget-view+json": {
              "version_major": 2,
              "version_minor": 0,
              "model_id": "a535e752604248c08ba6c1ea72652f9e"
            }
          },
          "metadata": {}
        },
        {
          "output_type": "display_data",
          "data": {
            "text/plain": [
              "Downloading pytorch_model.bin:   0%|          | 0.00/346M [00:00<?, ?B/s]"
            ],
            "application/vnd.jupyter.widget-view+json": {
              "version_major": 2,
              "version_minor": 0,
              "model_id": "1f0d0ed72b4f4c6db00cba2627b6f3e8"
            }
          },
          "metadata": {}
        },
        {
          "output_type": "stream",
          "name": "stderr",
          "text": [
            "Some weights of the model checkpoint at google/vit-base-patch16-224-in21k were not used when initializing ViTModel: ['pooler.dense.bias', 'pooler.dense.weight']\n",
            "- This IS expected if you are initializing ViTModel from the checkpoint of a model trained on another task or with another architecture (e.g. initializing a BertForSequenceClassification model from a BertForPreTraining model).\n",
            "- This IS NOT expected if you are initializing ViTModel from the checkpoint of a model that you expect to be exactly identical (initializing a BertForSequenceClassification model from a BertForSequenceClassification model).\n"
          ]
        }
      ]
    },
    {
      "cell_type": "code",
      "source": [
        "# Example input image\n",
        "input_img = torch.rand(1, 3, 20, 20)\n",
        "# Forward pass input image\n",
        "output_embedding = model(input_img)\n",
        "print(output_embedding)\n",
        "print(f\"Ouput embedding size: {output_embedding['last_hidden_state'].size()}\")"
      ],
      "metadata": {
        "colab": {
          "base_uri": "https://localhost:8080/",
          "height": 432
        },
        "id": "5kdDRo6LYjwj",
        "outputId": "b006b328-fd0f-41b9-da0a-27908ef8b627"
      },
      "execution_count": null,
      "outputs": [
        {
          "output_type": "error",
          "ename": "ValueError",
          "evalue": "ignored",
          "traceback": [
            "\u001b[0;31m---------------------------------------------------------------------------\u001b[0m",
            "\u001b[0;31mValueError\u001b[0m                                Traceback (most recent call last)",
            "\u001b[0;32m<ipython-input-62-4318187155ce>\u001b[0m in \u001b[0;36m<cell line: 4>\u001b[0;34m()\u001b[0m\n\u001b[1;32m      2\u001b[0m \u001b[0minput_img\u001b[0m \u001b[0;34m=\u001b[0m \u001b[0mtorch\u001b[0m\u001b[0;34m.\u001b[0m\u001b[0mrand\u001b[0m\u001b[0;34m(\u001b[0m\u001b[0;36m1\u001b[0m\u001b[0;34m,\u001b[0m \u001b[0;36m3\u001b[0m\u001b[0;34m,\u001b[0m \u001b[0;36m20\u001b[0m\u001b[0;34m,\u001b[0m \u001b[0;36m20\u001b[0m\u001b[0;34m)\u001b[0m\u001b[0;34m\u001b[0m\u001b[0;34m\u001b[0m\u001b[0m\n\u001b[1;32m      3\u001b[0m \u001b[0;31m# Forward pass input image\u001b[0m\u001b[0;34m\u001b[0m\u001b[0;34m\u001b[0m\u001b[0m\n\u001b[0;32m----> 4\u001b[0;31m \u001b[0moutput_embedding\u001b[0m \u001b[0;34m=\u001b[0m \u001b[0mmodel\u001b[0m\u001b[0;34m(\u001b[0m\u001b[0minput_img\u001b[0m\u001b[0;34m)\u001b[0m\u001b[0;34m\u001b[0m\u001b[0;34m\u001b[0m\u001b[0m\n\u001b[0m\u001b[1;32m      5\u001b[0m \u001b[0mprint\u001b[0m\u001b[0;34m(\u001b[0m\u001b[0moutput_embedding\u001b[0m\u001b[0;34m)\u001b[0m\u001b[0;34m\u001b[0m\u001b[0;34m\u001b[0m\u001b[0m\n\u001b[1;32m      6\u001b[0m \u001b[0mprint\u001b[0m\u001b[0;34m(\u001b[0m\u001b[0;34mf\"Ouput embedding size: {output_embedding['last_hidden_state'].size()}\"\u001b[0m\u001b[0;34m)\u001b[0m\u001b[0;34m\u001b[0m\u001b[0;34m\u001b[0m\u001b[0m\n",
            "\u001b[0;32m/usr/local/lib/python3.10/dist-packages/torch/nn/modules/module.py\u001b[0m in \u001b[0;36m_call_impl\u001b[0;34m(self, *args, **kwargs)\u001b[0m\n\u001b[1;32m   1499\u001b[0m                 \u001b[0;32mor\u001b[0m \u001b[0m_global_backward_pre_hooks\u001b[0m \u001b[0;32mor\u001b[0m \u001b[0m_global_backward_hooks\u001b[0m\u001b[0;34m\u001b[0m\u001b[0;34m\u001b[0m\u001b[0m\n\u001b[1;32m   1500\u001b[0m                 or _global_forward_hooks or _global_forward_pre_hooks):\n\u001b[0;32m-> 1501\u001b[0;31m             \u001b[0;32mreturn\u001b[0m \u001b[0mforward_call\u001b[0m\u001b[0;34m(\u001b[0m\u001b[0;34m*\u001b[0m\u001b[0margs\u001b[0m\u001b[0;34m,\u001b[0m \u001b[0;34m**\u001b[0m\u001b[0mkwargs\u001b[0m\u001b[0;34m)\u001b[0m\u001b[0;34m\u001b[0m\u001b[0;34m\u001b[0m\u001b[0m\n\u001b[0m\u001b[1;32m   1502\u001b[0m         \u001b[0;31m# Do not call functions when jit is used\u001b[0m\u001b[0;34m\u001b[0m\u001b[0;34m\u001b[0m\u001b[0m\n\u001b[1;32m   1503\u001b[0m         \u001b[0mfull_backward_hooks\u001b[0m\u001b[0;34m,\u001b[0m \u001b[0mnon_full_backward_hooks\u001b[0m \u001b[0;34m=\u001b[0m \u001b[0;34m[\u001b[0m\u001b[0;34m]\u001b[0m\u001b[0;34m,\u001b[0m \u001b[0;34m[\u001b[0m\u001b[0;34m]\u001b[0m\u001b[0;34m\u001b[0m\u001b[0;34m\u001b[0m\u001b[0m\n",
            "\u001b[0;32m/usr/local/lib/python3.10/dist-packages/transformers/models/vit/modeling_vit.py\u001b[0m in \u001b[0;36mforward\u001b[0;34m(self, pixel_values, bool_masked_pos, head_mask, output_attentions, output_hidden_states, interpolate_pos_encoding, return_dict)\u001b[0m\n\u001b[1;32m    581\u001b[0m             \u001b[0mpixel_values\u001b[0m \u001b[0;34m=\u001b[0m \u001b[0mpixel_values\u001b[0m\u001b[0;34m.\u001b[0m\u001b[0mto\u001b[0m\u001b[0;34m(\u001b[0m\u001b[0mexpected_dtype\u001b[0m\u001b[0;34m)\u001b[0m\u001b[0;34m\u001b[0m\u001b[0;34m\u001b[0m\u001b[0m\n\u001b[1;32m    582\u001b[0m \u001b[0;34m\u001b[0m\u001b[0m\n\u001b[0;32m--> 583\u001b[0;31m         embedding_output = self.embeddings(\n\u001b[0m\u001b[1;32m    584\u001b[0m             \u001b[0mpixel_values\u001b[0m\u001b[0;34m,\u001b[0m \u001b[0mbool_masked_pos\u001b[0m\u001b[0;34m=\u001b[0m\u001b[0mbool_masked_pos\u001b[0m\u001b[0;34m,\u001b[0m \u001b[0minterpolate_pos_encoding\u001b[0m\u001b[0;34m=\u001b[0m\u001b[0minterpolate_pos_encoding\u001b[0m\u001b[0;34m\u001b[0m\u001b[0;34m\u001b[0m\u001b[0m\n\u001b[1;32m    585\u001b[0m         )\n",
            "\u001b[0;32m/usr/local/lib/python3.10/dist-packages/torch/nn/modules/module.py\u001b[0m in \u001b[0;36m_call_impl\u001b[0;34m(self, *args, **kwargs)\u001b[0m\n\u001b[1;32m   1499\u001b[0m                 \u001b[0;32mor\u001b[0m \u001b[0m_global_backward_pre_hooks\u001b[0m \u001b[0;32mor\u001b[0m \u001b[0m_global_backward_hooks\u001b[0m\u001b[0;34m\u001b[0m\u001b[0;34m\u001b[0m\u001b[0m\n\u001b[1;32m   1500\u001b[0m                 or _global_forward_hooks or _global_forward_pre_hooks):\n\u001b[0;32m-> 1501\u001b[0;31m             \u001b[0;32mreturn\u001b[0m \u001b[0mforward_call\u001b[0m\u001b[0;34m(\u001b[0m\u001b[0;34m*\u001b[0m\u001b[0margs\u001b[0m\u001b[0;34m,\u001b[0m \u001b[0;34m**\u001b[0m\u001b[0mkwargs\u001b[0m\u001b[0;34m)\u001b[0m\u001b[0;34m\u001b[0m\u001b[0;34m\u001b[0m\u001b[0m\n\u001b[0m\u001b[1;32m   1502\u001b[0m         \u001b[0;31m# Do not call functions when jit is used\u001b[0m\u001b[0;34m\u001b[0m\u001b[0;34m\u001b[0m\u001b[0m\n\u001b[1;32m   1503\u001b[0m         \u001b[0mfull_backward_hooks\u001b[0m\u001b[0;34m,\u001b[0m \u001b[0mnon_full_backward_hooks\u001b[0m \u001b[0;34m=\u001b[0m \u001b[0;34m[\u001b[0m\u001b[0;34m]\u001b[0m\u001b[0;34m,\u001b[0m \u001b[0;34m[\u001b[0m\u001b[0;34m]\u001b[0m\u001b[0;34m\u001b[0m\u001b[0;34m\u001b[0m\u001b[0m\n",
            "\u001b[0;32m/usr/local/lib/python3.10/dist-packages/transformers/models/vit/modeling_vit.py\u001b[0m in \u001b[0;36mforward\u001b[0;34m(self, pixel_values, bool_masked_pos, interpolate_pos_encoding)\u001b[0m\n\u001b[1;32m    120\u001b[0m     ) -> torch.Tensor:\n\u001b[1;32m    121\u001b[0m         \u001b[0mbatch_size\u001b[0m\u001b[0;34m,\u001b[0m \u001b[0mnum_channels\u001b[0m\u001b[0;34m,\u001b[0m \u001b[0mheight\u001b[0m\u001b[0;34m,\u001b[0m \u001b[0mwidth\u001b[0m \u001b[0;34m=\u001b[0m \u001b[0mpixel_values\u001b[0m\u001b[0;34m.\u001b[0m\u001b[0mshape\u001b[0m\u001b[0;34m\u001b[0m\u001b[0;34m\u001b[0m\u001b[0m\n\u001b[0;32m--> 122\u001b[0;31m         \u001b[0membeddings\u001b[0m \u001b[0;34m=\u001b[0m \u001b[0mself\u001b[0m\u001b[0;34m.\u001b[0m\u001b[0mpatch_embeddings\u001b[0m\u001b[0;34m(\u001b[0m\u001b[0mpixel_values\u001b[0m\u001b[0;34m,\u001b[0m \u001b[0minterpolate_pos_encoding\u001b[0m\u001b[0;34m=\u001b[0m\u001b[0minterpolate_pos_encoding\u001b[0m\u001b[0;34m)\u001b[0m\u001b[0;34m\u001b[0m\u001b[0;34m\u001b[0m\u001b[0m\n\u001b[0m\u001b[1;32m    123\u001b[0m \u001b[0;34m\u001b[0m\u001b[0m\n\u001b[1;32m    124\u001b[0m         \u001b[0;32mif\u001b[0m \u001b[0mbool_masked_pos\u001b[0m \u001b[0;32mis\u001b[0m \u001b[0;32mnot\u001b[0m \u001b[0;32mNone\u001b[0m\u001b[0;34m:\u001b[0m\u001b[0;34m\u001b[0m\u001b[0;34m\u001b[0m\u001b[0m\n",
            "\u001b[0;32m/usr/local/lib/python3.10/dist-packages/torch/nn/modules/module.py\u001b[0m in \u001b[0;36m_call_impl\u001b[0;34m(self, *args, **kwargs)\u001b[0m\n\u001b[1;32m   1499\u001b[0m                 \u001b[0;32mor\u001b[0m \u001b[0m_global_backward_pre_hooks\u001b[0m \u001b[0;32mor\u001b[0m \u001b[0m_global_backward_hooks\u001b[0m\u001b[0;34m\u001b[0m\u001b[0;34m\u001b[0m\u001b[0m\n\u001b[1;32m   1500\u001b[0m                 or _global_forward_hooks or _global_forward_pre_hooks):\n\u001b[0;32m-> 1501\u001b[0;31m             \u001b[0;32mreturn\u001b[0m \u001b[0mforward_call\u001b[0m\u001b[0;34m(\u001b[0m\u001b[0;34m*\u001b[0m\u001b[0margs\u001b[0m\u001b[0;34m,\u001b[0m \u001b[0;34m**\u001b[0m\u001b[0mkwargs\u001b[0m\u001b[0;34m)\u001b[0m\u001b[0;34m\u001b[0m\u001b[0;34m\u001b[0m\u001b[0m\n\u001b[0m\u001b[1;32m   1502\u001b[0m         \u001b[0;31m# Do not call functions when jit is used\u001b[0m\u001b[0;34m\u001b[0m\u001b[0;34m\u001b[0m\u001b[0m\n\u001b[1;32m   1503\u001b[0m         \u001b[0mfull_backward_hooks\u001b[0m\u001b[0;34m,\u001b[0m \u001b[0mnon_full_backward_hooks\u001b[0m \u001b[0;34m=\u001b[0m \u001b[0;34m[\u001b[0m\u001b[0;34m]\u001b[0m\u001b[0;34m,\u001b[0m \u001b[0;34m[\u001b[0m\u001b[0;34m]\u001b[0m\u001b[0;34m\u001b[0m\u001b[0;34m\u001b[0m\u001b[0m\n",
            "\u001b[0;32m/usr/local/lib/python3.10/dist-packages/transformers/models/vit/modeling_vit.py\u001b[0m in \u001b[0;36mforward\u001b[0;34m(self, pixel_values, interpolate_pos_encoding)\u001b[0m\n\u001b[1;32m    175\u001b[0m         \u001b[0;32mif\u001b[0m \u001b[0;32mnot\u001b[0m \u001b[0minterpolate_pos_encoding\u001b[0m\u001b[0;34m:\u001b[0m\u001b[0;34m\u001b[0m\u001b[0;34m\u001b[0m\u001b[0m\n\u001b[1;32m    176\u001b[0m             \u001b[0;32mif\u001b[0m \u001b[0mheight\u001b[0m \u001b[0;34m!=\u001b[0m \u001b[0mself\u001b[0m\u001b[0;34m.\u001b[0m\u001b[0mimage_size\u001b[0m\u001b[0;34m[\u001b[0m\u001b[0;36m0\u001b[0m\u001b[0;34m]\u001b[0m \u001b[0;32mor\u001b[0m \u001b[0mwidth\u001b[0m \u001b[0;34m!=\u001b[0m \u001b[0mself\u001b[0m\u001b[0;34m.\u001b[0m\u001b[0mimage_size\u001b[0m\u001b[0;34m[\u001b[0m\u001b[0;36m1\u001b[0m\u001b[0;34m]\u001b[0m\u001b[0;34m:\u001b[0m\u001b[0;34m\u001b[0m\u001b[0;34m\u001b[0m\u001b[0m\n\u001b[0;32m--> 177\u001b[0;31m                 raise ValueError(\n\u001b[0m\u001b[1;32m    178\u001b[0m                     \u001b[0;34mf\"Input image size ({height}*{width}) doesn't match model\"\u001b[0m\u001b[0;34m\u001b[0m\u001b[0;34m\u001b[0m\u001b[0m\n\u001b[1;32m    179\u001b[0m                     \u001b[0;34mf\" ({self.image_size[0]}*{self.image_size[1]}).\"\u001b[0m\u001b[0;34m\u001b[0m\u001b[0;34m\u001b[0m\u001b[0m\n",
            "\u001b[0;31mValueError\u001b[0m: Input image size (20*20) doesn't match model (224*224)."
          ]
        }
      ]
    },
    {
      "cell_type": "code",
      "source": [],
      "metadata": {
        "id": "DFHY69gcYjuv"
      },
      "execution_count": null,
      "outputs": []
    },
    {
      "cell_type": "code",
      "source": [
        "df = pd.read_csv('train.csv');"
      ],
      "metadata": {
        "id": "45gwcdckOLKi"
      },
      "execution_count": null,
      "outputs": []
    },
    {
      "cell_type": "code",
      "source": [
        "image = df.iloc[:, 1:]\n",
        "label = df.iloc[:,0]"
      ],
      "metadata": {
        "id": "0US6nfeIOLKq"
      },
      "execution_count": null,
      "outputs": []
    },
    {
      "cell_type": "code",
      "source": [
        "# Preprocess the data by normalizing the features\n",
        "from sklearn.preprocessing import MinMaxScaler\n",
        "scaler = MinMaxScaler()\n",
        "image_norm = scaler.fit_transform(image)"
      ],
      "metadata": {
        "id": "0eaV_7AJOLKq"
      },
      "execution_count": null,
      "outputs": []
    },
    {
      "cell_type": "code",
      "source": [
        "image_norm.shape"
      ],
      "metadata": {
        "colab": {
          "base_uri": "https://localhost:8080/"
        },
        "outputId": "33f53213-4b27-46a1-b4b1-f3dd4c180b4a",
        "id": "uittxDkcOLKq"
      },
      "execution_count": null,
      "outputs": [
        {
          "output_type": "execute_result",
          "data": {
            "text/plain": [
              "(5250, 1200)"
            ]
          },
          "metadata": {},
          "execution_count": 39
        }
      ]
    },
    {
      "cell_type": "code",
      "source": [
        "# Reshape the DataFrame into a 3D NumPy array\n",
        "image_array = np.array(image_norm).reshape(5250, 20, 20, 3)"
      ],
      "metadata": {
        "id": "AjcoJturOLKq"
      },
      "execution_count": null,
      "outputs": []
    },
    {
      "cell_type": "code",
      "source": [
        "# Load and preprocess the image data\n",
        "data_transform = transforms.Compose([\n",
        "    transforms.ToTensor(),\n",
        "    transforms.Normalize(mean=[0.485, 0.456, 0.406], std=[0.229, 0.224, 0.225])  # Normalize using ImageNet statistics\n",
        "])"
      ],
      "metadata": {
        "id": "9P7ERRZZQQYR"
      },
      "execution_count": null,
      "outputs": []
    },
    {
      "cell_type": "code",
      "source": [
        "# Assuming your image data array is named\n",
        "preprocessed_data = [data_transform(image) for image in image_array]"
      ],
      "metadata": {
        "id": "Y384ruvuQVb8"
      },
      "execution_count": null,
      "outputs": []
    },
    {
      "cell_type": "code",
      "source": [
        "# Create a batch tensor\n",
        "batch_data = torch.stack(preprocessed_data).to(device)\n",
        "# Reshape the batch tensor to (batch_size, channels, height, width)\n",
        "batch_data = batch_data.permute(0, 3, 1, 2)"
      ],
      "metadata": {
        "id": "mV_UnnsbQeHZ"
      },
      "execution_count": null,
      "outputs": []
    },
    {
      "cell_type": "code",
      "source": [
        "# Load the pre-trained ViT model\n",
        "num_classes = 2  # Specify the number of classes for your classification task\n",
        "model = ViTClassifier(num_classes).to(device)"
      ],
      "metadata": {
        "colab": {
          "base_uri": "https://localhost:8080/",
          "height": 469
        },
        "id": "5kgwOT1eQksS",
        "outputId": "ec3fc4fb-c7c9-48c2-d72a-4104ac4c7fb0"
      },
      "execution_count": null,
      "outputs": [
        {
          "output_type": "stream",
          "name": "stderr",
          "text": [
            "/usr/local/lib/python3.10/dist-packages/torchvision/models/_utils.py:208: UserWarning: The parameter 'pretrained' is deprecated since 0.13 and may be removed in the future, please use 'weights' instead.\n",
            "  warnings.warn(\n",
            "/usr/local/lib/python3.10/dist-packages/torchvision/models/_utils.py:223: UserWarning: Arguments other than a weight enum or `None` for 'weights' are deprecated since 0.13 and may be removed in the future. The current behavior is equivalent to passing `weights=ViT_B_16_Weights.IMAGENET1K_V1`. You can also use `weights=ViT_B_16_Weights.DEFAULT` to get the most up-to-date weights.\n",
            "  warnings.warn(msg)\n"
          ]
        },
        {
          "output_type": "error",
          "ename": "AttributeError",
          "evalue": "ignored",
          "traceback": [
            "\u001b[0;31m---------------------------------------------------------------------------\u001b[0m",
            "\u001b[0;31mAttributeError\u001b[0m                            Traceback (most recent call last)",
            "\u001b[0;32m<ipython-input-55-21b41af539a1>\u001b[0m in \u001b[0;36m<cell line: 3>\u001b[0;34m()\u001b[0m\n\u001b[1;32m      1\u001b[0m \u001b[0;31m# Load the pre-trained ViT model\u001b[0m\u001b[0;34m\u001b[0m\u001b[0;34m\u001b[0m\u001b[0m\n\u001b[1;32m      2\u001b[0m \u001b[0mnum_classes\u001b[0m \u001b[0;34m=\u001b[0m \u001b[0;36m2\u001b[0m  \u001b[0;31m# Specify the number of classes for your classification task\u001b[0m\u001b[0;34m\u001b[0m\u001b[0;34m\u001b[0m\u001b[0m\n\u001b[0;32m----> 3\u001b[0;31m \u001b[0mmodel\u001b[0m \u001b[0;34m=\u001b[0m \u001b[0mViTClassifier\u001b[0m\u001b[0;34m(\u001b[0m\u001b[0mnum_classes\u001b[0m\u001b[0;34m)\u001b[0m\u001b[0;34m.\u001b[0m\u001b[0mto\u001b[0m\u001b[0;34m(\u001b[0m\u001b[0mdevice\u001b[0m\u001b[0;34m)\u001b[0m\u001b[0;34m\u001b[0m\u001b[0;34m\u001b[0m\u001b[0m\n\u001b[0m",
            "\u001b[0;32m<ipython-input-53-b7ab57ff6767>\u001b[0m in \u001b[0;36m__init__\u001b[0;34m(self, num_classes)\u001b[0m\n\u001b[1;32m      4\u001b[0m         \u001b[0msuper\u001b[0m\u001b[0;34m(\u001b[0m\u001b[0mViTClassifier\u001b[0m\u001b[0;34m,\u001b[0m \u001b[0mself\u001b[0m\u001b[0;34m)\u001b[0m\u001b[0;34m.\u001b[0m\u001b[0m__init__\u001b[0m\u001b[0;34m(\u001b[0m\u001b[0;34m)\u001b[0m\u001b[0;34m\u001b[0m\u001b[0;34m\u001b[0m\u001b[0m\n\u001b[1;32m      5\u001b[0m         \u001b[0mself\u001b[0m\u001b[0;34m.\u001b[0m\u001b[0mmodel\u001b[0m \u001b[0;34m=\u001b[0m \u001b[0mvision_transformer\u001b[0m\u001b[0;34m.\u001b[0m\u001b[0mvit_b_16\u001b[0m\u001b[0;34m(\u001b[0m\u001b[0mpretrained\u001b[0m\u001b[0;34m=\u001b[0m\u001b[0;32mTrue\u001b[0m\u001b[0;34m)\u001b[0m\u001b[0;34m\u001b[0m\u001b[0;34m\u001b[0m\u001b[0m\n\u001b[0;32m----> 6\u001b[0;31m         \u001b[0mself\u001b[0m\u001b[0;34m.\u001b[0m\u001b[0mmodel\u001b[0m\u001b[0;34m.\u001b[0m\u001b[0mfc\u001b[0m \u001b[0;34m=\u001b[0m \u001b[0mnn\u001b[0m\u001b[0;34m.\u001b[0m\u001b[0mLinear\u001b[0m\u001b[0;34m(\u001b[0m\u001b[0mself\u001b[0m\u001b[0;34m.\u001b[0m\u001b[0mmodel\u001b[0m\u001b[0;34m.\u001b[0m\u001b[0mfc\u001b[0m\u001b[0;34m.\u001b[0m\u001b[0min_features\u001b[0m\u001b[0;34m,\u001b[0m \u001b[0mnum_classes\u001b[0m\u001b[0;34m)\u001b[0m\u001b[0;34m\u001b[0m\u001b[0;34m\u001b[0m\u001b[0m\n\u001b[0m\u001b[1;32m      7\u001b[0m \u001b[0;34m\u001b[0m\u001b[0m\n\u001b[1;32m      8\u001b[0m     \u001b[0;32mdef\u001b[0m \u001b[0mforward\u001b[0m\u001b[0;34m(\u001b[0m\u001b[0mself\u001b[0m\u001b[0;34m,\u001b[0m \u001b[0mx\u001b[0m\u001b[0;34m)\u001b[0m\u001b[0;34m:\u001b[0m\u001b[0;34m\u001b[0m\u001b[0;34m\u001b[0m\u001b[0m\n",
            "\u001b[0;32m/usr/local/lib/python3.10/dist-packages/torch/nn/modules/module.py\u001b[0m in \u001b[0;36m__getattr__\u001b[0;34m(self, name)\u001b[0m\n\u001b[1;32m   1612\u001b[0m             \u001b[0;32mif\u001b[0m \u001b[0mname\u001b[0m \u001b[0;32min\u001b[0m \u001b[0mmodules\u001b[0m\u001b[0;34m:\u001b[0m\u001b[0;34m\u001b[0m\u001b[0;34m\u001b[0m\u001b[0m\n\u001b[1;32m   1613\u001b[0m                 \u001b[0;32mreturn\u001b[0m \u001b[0mmodules\u001b[0m\u001b[0;34m[\u001b[0m\u001b[0mname\u001b[0m\u001b[0;34m]\u001b[0m\u001b[0;34m\u001b[0m\u001b[0;34m\u001b[0m\u001b[0m\n\u001b[0;32m-> 1614\u001b[0;31m         raise AttributeError(\"'{}' object has no attribute '{}'\".format(\n\u001b[0m\u001b[1;32m   1615\u001b[0m             type(self).__name__, name))\n\u001b[1;32m   1616\u001b[0m \u001b[0;34m\u001b[0m\u001b[0m\n",
            "\u001b[0;31mAttributeError\u001b[0m: 'VisionTransformer' object has no attribute 'fc'"
          ]
        }
      ]
    },
    {
      "cell_type": "code",
      "source": [],
      "metadata": {
        "id": "NPgl9iGpRLfu"
      },
      "execution_count": null,
      "outputs": []
    }
  ]
}